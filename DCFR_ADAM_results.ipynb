{
  "cells": [
    {
      "cell_type": "code",
      "execution_count": 26,
      "id": "KfJkTcwvv6hi",
      "metadata": {
        "colab": {
          "base_uri": "https://localhost:8080/"
        },
        "id": "KfJkTcwvv6hi",
        "outputId": "8433a945-9804-4016-de1b-dc2084bc5cb7"
      },
      "outputs": [
        {
          "name": "stdout",
          "output_type": "stream",
          "text": [
            "Drive already mounted at /content/drive; to attempt to forcibly remount, call drive.mount(\"/content/drive\", force_remount=True).\n"
          ]
        }
      ],
      "source": [
        "# for execution on colab\n",
        "\n",
        "from google.colab import drive\n",
        "drive.mount('/content/drive')\n",
        "import sys\n",
        "sys.path.append('/content/drive/MyDrive')"
      ]
    },
    {
      "cell_type": "code",
      "execution_count": 1,
      "id": "9f466b04",
      "metadata": {
        "id": "9f466b04"
      },
      "outputs": [],
      "source": [
        "# from densenet.py\n",
        "from densenet import DenseNet\n",
        "from torch.utils.data import Dataset, DataLoader\n",
        "import os\n",
        "import cv2\n",
        "from tqdm import tqdm\n",
        "import torch\n",
        "import torch.nn as nn\n",
        "import torch.nn.functional as F\n",
        "import numpy as np\n",
        "from collections import defaultdict\n",
        "import matplotlib.pyplot as plt\n"
      ]
    },
    {
      "cell_type": "code",
      "execution_count": 28,
      "id": "e2af7728",
      "metadata": {
        "id": "e2af7728"
      },
      "outputs": [],
      "source": [
        "# Define possible characters in the captchas from 0-9 and a-z\n",
        "CHARSET = \"0123456789abcdefghijklmnopqrstuvwxyz\"\n",
        "# Map each character to an index\n",
        "CHAR2IDX = {c: i for i, c in enumerate(CHARSET)}\n",
        "\n",
        "def encode_label(text, num_chars=5):\n",
        "    return torch.LongTensor([CHAR2IDX[c] for c in text.lower()[:num_chars]])\n",
        "\n",
        "class CaptchaDataset(Dataset):\n",
        "    def __init__(self, image_dir, max_len=5):\n",
        "        self.paths = [os.path.join(image_dir, f) for f in os.listdir(image_dir) if f.endswith('.png')]\n",
        "        self.max_len = max_len\n",
        "\n",
        "    def __len__(self):\n",
        "        return len(self.paths)\n",
        "\n",
        "    def __getitem__(self, idx):\n",
        "        path = self.paths[idx]\n",
        "        img = cv2.imread(path, cv2.IMREAD_GRAYSCALE)\n",
        "        img = cv2.resize(img, (224, 224)) / 255.0\n",
        "        img = torch.tensor(img).unsqueeze(0).float()\n",
        "        label_str = os.path.basename(path).split(\".\")[0]\n",
        "        label = encode_label(label_str, self.max_len)\n",
        "        return img, label"
      ]
    },
    {
      "cell_type": "code",
      "execution_count": 29,
      "id": "c20974ae",
      "metadata": {
        "id": "c20974ae"
      },
      "outputs": [],
      "source": [
        "def get_accuracies(model, dataloader, device='cuda'):\n",
        "    \"\"\"\n",
        "    Calculate 2 accuracies for captchas:\n",
        "    - character accuracy: number of correct characters / total characters\n",
        "    - captcha accuracy: number of correct captchas / total captchas\n",
        "    where the captcha accuracy is defined as the number of correct predictions for all 5 characters\n",
        "    \"\"\"\n",
        "    total_chars = 0\n",
        "    correct_chars = 0\n",
        "    total_captcha = 0\n",
        "    correct_captcha = 0\n",
        "    model.eval()\n",
        "\n",
        "    with torch.no_grad():\n",
        "        for images, labels in tqdm(dataloader):\n",
        "            images, labels = images.to(device), labels.to(device)\n",
        "\n",
        "            preds = model(images)\n",
        "            predicted_chars = torch.stack([torch.argmax(pred, dim=1) for pred in preds], dim=1)\n",
        "\n",
        "            # add to the total counts\n",
        "            total_chars += labels.numel()\n",
        "            # sum the number of correct characters\n",
        "            correct_chars += (predicted_chars == labels).sum().item()\n",
        "\n",
        "            total_captcha += labels.size(0)\n",
        "            # check if all characters are correct for the captcha\n",
        "            correct_captcha += (predicted_chars == labels).all(dim=1).sum().item()\n",
        "\n",
        "    char_acc = correct_chars / total_chars\n",
        "    captcha_acc = correct_captcha / total_captcha\n",
        "    return char_acc, captcha_acc\n",
        "\n",
        "# training loop and logs based on the code from TP3\n",
        "def print_logs(dataset_type: str, logs: dict):\n",
        "    desc = [\n",
        "        f'{name}: {value:.2f}'\n",
        "        for name, value in logs.items()\n",
        "    ]\n",
        "    desc = '\\t'.join(desc)\n",
        "    desc = f'{dataset_type} -\\t' + desc\n",
        "    desc = desc.expandtabs(5)\n",
        "    print(desc)\n",
        "\n",
        "def loss_batch(model, x, y, config):\n",
        "    \"\"\"\n",
        "    Compute loss associated with this batch.\n",
        "    \"\"\"\n",
        "    device = config['device']\n",
        "    loss_fn = config['loss']\n",
        "    metrics = dict()\n",
        "\n",
        "    x, y = x.to(device), y.to(device)\n",
        "\n",
        "    preds = model(x)\n",
        "    targets = y\n",
        "\n",
        "    logits = torch.stack(preds, dim=1)\n",
        "    logits = logits.view(-1, logits.shape[-1])\n",
        "    targets = targets.view(-1)\n",
        "\n",
        "    loss = loss_fn(logits, targets)\n",
        "    # metrics['loss'] = loss.item()\n",
        "    metrics['loss'] = loss\n",
        "    return metrics\n",
        "\n",
        "def eval_model(model, dataloader, config):\n",
        "    \"\"\"\n",
        "    Evaluate the model on the given dataloader.\n",
        "    \"\"\"\n",
        "    device = config['device']\n",
        "    logs = defaultdict(list)\n",
        "\n",
        "    model.to(device)\n",
        "    model.eval()\n",
        "\n",
        "    with torch.no_grad():\n",
        "        for x, y in tqdm(dataloader):\n",
        "            metrics = loss_batch(model, x, y, config)\n",
        "            for name, value in metrics.items():\n",
        "                logs[name].append(value)\n",
        "\n",
        "    for name in logs:\n",
        "        logs[name] = sum(logs[name]) / len(logs[name])\n",
        "\n",
        "    char_acc, captcha_acc = get_accuracies(model, dataloader, device)\n",
        "    logs['char_acc'] = char_acc\n",
        "    logs['captcha_acc'] = captcha_acc\n",
        "    return logs\n",
        "\n",
        "def train_model(model, train_loader, val_loader, config):\n",
        "    train_loader = config['train_loader']\n",
        "    val_loader = config['val_loader']\n",
        "    optimizer = config['optimizer']\n",
        "    clip = config['clip']\n",
        "    device = config['device']\n",
        "    epochs = config['epochs']\n",
        "    log_every = config['log_every']\n",
        "\n",
        "    print(f'Starting training for {config[\"epochs\"]} epochs, using {device}.')\n",
        "\n",
        "    # for visualization\n",
        "    train_losses = []\n",
        "    eval_losses = []\n",
        "    char_accuracies = []\n",
        "    captcha_accuracies = []\n",
        "\n",
        "    for epoch in range(epochs):\n",
        "        print(f\"\\nEpoch {epoch + 1}\")\n",
        "        model.to(device)\n",
        "        model.train()\n",
        "        logs = defaultdict(list)\n",
        "\n",
        "        for batch_id, (x, y) in enumerate(train_loader):\n",
        "            optimizer.zero_grad()\n",
        "            metrics = loss_batch(model, x, y, config)\n",
        "            loss = metrics['loss']\n",
        "\n",
        "            torch.nn.utils.clip_grad_norm_(model.parameters(), clip)\n",
        "            loss.backward()\n",
        "            optimizer.step()\n",
        "\n",
        "            logs['loss'].append(loss.item())\n",
        "\n",
        "            if batch_id % log_every == 0 and batch_id > 0:\n",
        "                avg_logs = {name: np.mean(vals) for name, vals in logs.items()}\n",
        "                print_logs(\"Train\", avg_logs)\n",
        "                logs = defaultdict(list)\n",
        "\n",
        "        if len(logs) > 0:\n",
        "            avg_logs = {name: np.mean(vals) for name, vals in logs.items()}\n",
        "            print_logs(\"Train\", avg_logs)\n",
        "\n",
        "        val_logs = eval_model(model, val_loader, config)\n",
        "        print_logs(\"Eval\", val_logs)\n",
        "\n",
        "        train_losses.append(avg_logs['loss'])\n",
        "        eval_losses.append(val_logs['loss'])\n",
        "        char_accuracies.append(val_logs['char_acc'])\n",
        "        captcha_accuracies.append(val_logs['captcha_acc'])\n",
        "\n",
        "        # preview predictions from validation set\n",
        "        sample_images, sample_labels = next(iter(val_loader))\n",
        "        sample_images, sample_labels = sample_images.to(device), sample_labels.to(device)\n",
        "        sample_preds = model(sample_images)\n",
        "        sample_pred_chars = torch.stack([torch.argmax(p, dim=1) for p in sample_preds], dim=1)\n",
        "        for i in range(min(5, sample_images.size(0))):\n",
        "            pred_str = ''.join(CHARSET[c.item()] for c in sample_pred_chars[i])\n",
        "            true_str = ''.join(CHARSET[c.item()] for c in sample_labels[i])\n",
        "            print(f\"[{i}] True: {true_str} | Pred: {pred_str}\")\n",
        "\n",
        "    return train_losses, eval_losses, char_accuracies, captcha_accuracies\n",
        "\n"
      ]
    },
    {
      "cell_type": "markdown",
      "id": "vWinDmdsyFb5",
      "metadata": {
        "id": "vWinDmdsyFb5"
      },
      "source": [
        "### For training, the paper usese 100 epochs with a batch size of 16 and learning rate of 0.001, with SGD as the optimizer."
      ]
    },
    {
      "cell_type": "code",
      "execution_count": 30,
      "id": "aMd6-nozzUjs",
      "metadata": {
        "colab": {
          "base_uri": "https://localhost:8080/"
        },
        "id": "aMd6-nozzUjs",
        "outputId": "9bdeec31-92a7-4817-83eb-28fc2003dd24"
      },
      "outputs": [
        {
          "name": "stdout",
          "output_type": "stream",
          "text": [
            "📂 Current working directory:\n",
            "/content\n",
            "\n",
            "📂 Contents:\n",
            "['.config', 'drive', 'sample_data']\n"
          ]
        }
      ],
      "source": [
        "print(\"📂 Current working directory:\")\n",
        "print(os.getcwd())\n",
        "print(\"\\n📂 Contents:\")\n",
        "print(os.listdir('.'))"
      ]
    },
    {
      "cell_type": "code",
      "execution_count": 31,
      "id": "4656c83d",
      "metadata": {
        "colab": {
          "base_uri": "https://localhost:8080/"
        },
        "id": "4656c83d",
        "outputId": "ca6ffd01-c01f-435b-bf2c-11215cf7e726"
      },
      "outputs": [
        {
          "name": "stdout",
          "output_type": "stream",
          "text": [
            "Starting training for 100 epochs, using cuda.\n",
            "\n",
            "Epoch 1\n",
            "Train -   loss: 3.16\n",
            "Train -   loss: 2.91\n",
            "Train -   loss: 2.90\n"
          ]
        },
        {
          "name": "stderr",
          "output_type": "stream",
          "text": [
            "100%|██████████| 13/13 [00:01<00:00,  9.21it/s]\n",
            "100%|██████████| 13/13 [00:01<00:00,  7.17it/s]\n"
          ]
        },
        {
          "name": "stdout",
          "output_type": "stream",
          "text": [
            "Eval -    loss: 3.33     char_acc: 0.06 captcha_acc: 0.00\n",
            "[0] True: d75b5 | Pred: y5352\n",
            "[1] True: x7547 | Pred: y5352\n",
            "[2] True: 36bc2 | Pred: y5352\n",
            "[3] True: 8cccc | Pred: y5352\n",
            "[4] True: 36nx4 | Pred: y5352\n",
            "\n",
            "Epoch 2\n",
            "Train -   loss: 2.83\n",
            "Train -   loss: 2.76\n",
            "Train -   loss: 2.73\n"
          ]
        },
        {
          "name": "stderr",
          "output_type": "stream",
          "text": [
            "100%|██████████| 13/13 [00:01<00:00,  9.57it/s]\n",
            "100%|██████████| 13/13 [00:01<00:00,  8.23it/s]\n"
          ]
        },
        {
          "name": "stdout",
          "output_type": "stream",
          "text": [
            "Eval -    loss: 3.53     char_acc: 0.08 captcha_acc: 0.00\n",
            "[0] True: d75b5 | Pred: 27f5x\n",
            "[1] True: x7547 | Pred: 27f5x\n",
            "[2] True: 36bc2 | Pred: 27fnx\n",
            "[3] True: 8cccc | Pred: x7cnn\n",
            "[4] True: 36nx4 | Pred: 27f5x\n",
            "\n",
            "Epoch 3\n",
            "Train -   loss: 2.63\n",
            "Train -   loss: 2.62\n",
            "Train -   loss: 2.62\n"
          ]
        },
        {
          "name": "stderr",
          "output_type": "stream",
          "text": [
            "100%|██████████| 13/13 [00:01<00:00,  9.77it/s]\n",
            "100%|██████████| 13/13 [00:01<00:00,  8.46it/s]\n"
          ]
        },
        {
          "name": "stdout",
          "output_type": "stream",
          "text": [
            "Eval -    loss: 3.07     char_acc: 0.14 captcha_acc: 0.00\n",
            "[0] True: d75b5 | Pred: 47f2f\n",
            "[1] True: x7547 | Pred: xfc7f\n",
            "[2] True: 36bc2 | Pred: 44nce\n",
            "[3] True: 8cccc | Pred: 4cccx\n",
            "[4] True: 36nx4 | Pred: xxn7f\n",
            "\n",
            "Epoch 4\n",
            "Train -   loss: 2.48\n",
            "Train -   loss: 2.46\n",
            "Train -   loss: 2.40\n"
          ]
        },
        {
          "name": "stderr",
          "output_type": "stream",
          "text": [
            "100%|██████████| 13/13 [00:01<00:00,  9.85it/s]\n",
            "100%|██████████| 13/13 [00:01<00:00,  8.60it/s]\n"
          ]
        },
        {
          "name": "stdout",
          "output_type": "stream",
          "text": [
            "Eval -    loss: 2.84     char_acc: 0.14 captcha_acc: 0.00\n",
            "[0] True: d75b5 | Pred: x7ff5\n",
            "[1] True: x7547 | Pred: x7fx5\n",
            "[2] True: 36bc2 | Pred: c8n83\n",
            "[3] True: 8cccc | Pred: cxccy\n",
            "[4] True: 36nx4 | Pred: 7fmn7\n",
            "\n",
            "Epoch 5\n",
            "Train -   loss: 2.30\n",
            "Train -   loss: 2.28\n",
            "Train -   loss: 2.30\n"
          ]
        },
        {
          "name": "stderr",
          "output_type": "stream",
          "text": [
            "100%|██████████| 13/13 [00:01<00:00, 10.63it/s]\n",
            "100%|██████████| 13/13 [00:01<00:00,  8.69it/s]\n"
          ]
        },
        {
          "name": "stdout",
          "output_type": "stream",
          "text": [
            "Eval -    loss: 2.47     char_acc: 0.22 captcha_acc: 0.00\n",
            "[0] True: d75b5 | Pred: f73b2\n",
            "[1] True: x7547 | Pred: f7ff3\n",
            "[2] True: 36bc2 | Pred: 55g82\n",
            "[3] True: 8cccc | Pred: cccce\n",
            "[4] True: 36nx4 | Pred: x7nn4\n",
            "\n",
            "Epoch 6\n",
            "Train -   loss: 2.17\n",
            "Train -   loss: 2.13\n",
            "Train -   loss: 2.11\n"
          ]
        },
        {
          "name": "stderr",
          "output_type": "stream",
          "text": [
            "100%|██████████| 13/13 [00:01<00:00, 10.16it/s]\n",
            "100%|██████████| 13/13 [00:01<00:00,  8.70it/s]\n"
          ]
        },
        {
          "name": "stdout",
          "output_type": "stream",
          "text": [
            "Eval -    loss: 2.78     char_acc: 0.18 captcha_acc: 0.00\n",
            "[0] True: d75b5 | Pred: 2n72f\n",
            "[1] True: x7547 | Pred: xx77f\n",
            "[2] True: 36bc2 | Pred: 3nncx\n",
            "[3] True: 8cccc | Pred: cnccx\n",
            "[4] True: 36nx4 | Pred: 3nnxf\n",
            "\n",
            "Epoch 7\n",
            "Train -   loss: 1.99\n",
            "Train -   loss: 1.97\n",
            "Train -   loss: 1.96\n"
          ]
        },
        {
          "name": "stderr",
          "output_type": "stream",
          "text": [
            "100%|██████████| 13/13 [00:01<00:00, 10.34it/s]\n",
            "100%|██████████| 13/13 [00:01<00:00,  8.51it/s]\n"
          ]
        },
        {
          "name": "stdout",
          "output_type": "stream",
          "text": [
            "Eval -    loss: 2.62     char_acc: 0.20 captcha_acc: 0.00\n",
            "[0] True: d75b5 | Pred: y7582\n",
            "[1] True: x7547 | Pred: x7fff\n",
            "[2] True: 36bc2 | Pred: c38e2\n",
            "[3] True: 8cccc | Pred: c3ccc\n",
            "[4] True: 36nx4 | Pred: 34nn4\n",
            "\n",
            "Epoch 8\n",
            "Train -   loss: 1.79\n",
            "Train -   loss: 1.83\n",
            "Train -   loss: 1.80\n"
          ]
        },
        {
          "name": "stderr",
          "output_type": "stream",
          "text": [
            "100%|██████████| 13/13 [00:01<00:00, 10.49it/s]\n",
            "100%|██████████| 13/13 [00:01<00:00,  8.60it/s]\n"
          ]
        },
        {
          "name": "stdout",
          "output_type": "stream",
          "text": [
            "Eval -    loss: 2.88     char_acc: 0.18 captcha_acc: 0.00\n",
            "[0] True: d75b5 | Pred: 27352\n",
            "[1] True: x7547 | Pred: xc355\n",
            "[2] True: 36bc2 | Pred: 22852\n",
            "[3] True: 8cccc | Pred: c232c\n",
            "[4] True: 36nx4 | Pred: 24ww8\n",
            "\n",
            "Epoch 9\n",
            "Train -   loss: 1.71\n",
            "Train -   loss: 1.65\n",
            "Train -   loss: 1.63\n"
          ]
        },
        {
          "name": "stderr",
          "output_type": "stream",
          "text": [
            "100%|██████████| 13/13 [00:01<00:00, 10.18it/s]\n",
            "100%|██████████| 13/13 [00:01<00:00,  8.86it/s]\n"
          ]
        },
        {
          "name": "stdout",
          "output_type": "stream",
          "text": [
            "Eval -    loss: 3.21     char_acc: 0.15 captcha_acc: 0.00\n",
            "[0] True: d75b5 | Pred: 67383\n",
            "[1] True: x7547 | Pred: x7785\n",
            "[2] True: 36bc2 | Pred: 248g2\n",
            "[3] True: 8cccc | Pred: 63e2e\n",
            "[4] True: 36nx4 | Pred: 53ww4\n",
            "\n",
            "Epoch 10\n",
            "Train -   loss: 1.52\n",
            "Train -   loss: 1.56\n",
            "Train -   loss: 1.49\n"
          ]
        },
        {
          "name": "stderr",
          "output_type": "stream",
          "text": [
            "100%|██████████| 13/13 [00:01<00:00, 10.69it/s]\n",
            "100%|██████████| 13/13 [00:01<00:00,  7.69it/s]\n"
          ]
        },
        {
          "name": "stdout",
          "output_type": "stream",
          "text": [
            "Eval -    loss: 2.04     char_acc: 0.30 captcha_acc: 0.00\n",
            "[0] True: d75b5 | Pred: 47583\n",
            "[1] True: x7547 | Pred: x75f7\n",
            "[2] True: 36bc2 | Pred: 34b22\n",
            "[3] True: 8cccc | Pred: 63ccx\n",
            "[4] True: 36nx4 | Pred: 3ebx4\n",
            "\n",
            "Epoch 11\n",
            "Train -   loss: 1.37\n",
            "Train -   loss: 1.36\n",
            "Train -   loss: 1.33\n"
          ]
        },
        {
          "name": "stderr",
          "output_type": "stream",
          "text": [
            "100%|██████████| 13/13 [00:01<00:00, 10.59it/s]\n",
            "100%|██████████| 13/13 [00:01<00:00,  8.75it/s]\n"
          ]
        },
        {
          "name": "stdout",
          "output_type": "stream",
          "text": [
            "Eval -    loss: 1.77     char_acc: 0.43 captcha_acc: 0.00\n",
            "[0] True: d75b5 | Pred: b75b2\n",
            "[1] True: x7547 | Pred: x73b7\n",
            "[2] True: 36bc2 | Pred: 8bbc2\n",
            "[3] True: 8cccc | Pred: 6cc2c\n",
            "[4] True: 36nx4 | Pred: 3bnx4\n",
            "\n",
            "Epoch 12\n",
            "Train -   loss: 1.23\n",
            "Train -   loss: 1.22\n",
            "Train -   loss: 1.19\n"
          ]
        },
        {
          "name": "stderr",
          "output_type": "stream",
          "text": [
            "100%|██████████| 13/13 [00:01<00:00, 10.23it/s]\n",
            "100%|██████████| 13/13 [00:01<00:00,  8.56it/s]\n"
          ]
        },
        {
          "name": "stdout",
          "output_type": "stream",
          "text": [
            "Eval -    loss: 2.14     char_acc: 0.32 captcha_acc: 0.01\n",
            "[0] True: d75b5 | Pred: 47788\n",
            "[1] True: x7547 | Pred: x75b5\n",
            "[2] True: 36bc2 | Pred: 34b68\n",
            "[3] True: 8cccc | Pred: 88cee\n",
            "[4] True: 36nx4 | Pred: 76mn4\n",
            "\n",
            "Epoch 13\n",
            "Train -   loss: 1.08\n",
            "Train -   loss: 1.11\n",
            "Train -   loss: 1.09\n"
          ]
        },
        {
          "name": "stderr",
          "output_type": "stream",
          "text": [
            "100%|██████████| 13/13 [00:01<00:00, 10.51it/s]\n",
            "100%|██████████| 13/13 [00:01<00:00,  8.53it/s]\n"
          ]
        },
        {
          "name": "stdout",
          "output_type": "stream",
          "text": [
            "Eval -    loss: 1.58     char_acc: 0.47 captcha_acc: 0.01\n",
            "[0] True: d75b5 | Pred: b7783\n",
            "[1] True: x7547 | Pred: x7385\n",
            "[2] True: 36bc2 | Pred: 24b22\n",
            "[3] True: 8cccc | Pred: 88ccc\n",
            "[4] True: 36nx4 | Pred: 38nx4\n",
            "\n",
            "Epoch 14\n",
            "Train -   loss: 0.96\n",
            "Train -   loss: 0.93\n",
            "Train -   loss: 0.97\n"
          ]
        },
        {
          "name": "stderr",
          "output_type": "stream",
          "text": [
            "100%|██████████| 13/13 [00:01<00:00, 10.32it/s]\n",
            "100%|██████████| 13/13 [00:01<00:00,  8.74it/s]\n"
          ]
        },
        {
          "name": "stdout",
          "output_type": "stream",
          "text": [
            "Eval -    loss: 1.57     char_acc: 0.48 captcha_acc: 0.02\n",
            "[0] True: d75b5 | Pred: 473b5\n",
            "[1] True: x7547 | Pred: x73b7\n",
            "[2] True: 36bc2 | Pred: 34be2\n",
            "[3] True: 8cccc | Pred: 8xecc\n",
            "[4] True: 36nx4 | Pred: 56nx4\n",
            "\n",
            "Epoch 15\n",
            "Train -   loss: 0.81\n",
            "Train -   loss: 0.85\n",
            "Train -   loss: 0.88\n"
          ]
        },
        {
          "name": "stderr",
          "output_type": "stream",
          "text": [
            "100%|██████████| 13/13 [00:01<00:00, 10.32it/s]\n",
            "100%|██████████| 13/13 [00:01<00:00,  8.54it/s]\n"
          ]
        },
        {
          "name": "stdout",
          "output_type": "stream",
          "text": [
            "Eval -    loss: 1.72     char_acc: 0.45 captcha_acc: 0.00\n",
            "[0] True: d75b5 | Pred: 475b3\n",
            "[1] True: x7547 | Pred: x75f7\n",
            "[2] True: 36bc2 | Pred: 24ycc\n",
            "[3] True: 8cccc | Pred: 6xccc\n",
            "[4] True: 36nx4 | Pred: 3xnx4\n",
            "\n",
            "Epoch 16\n",
            "Train -   loss: 0.76\n",
            "Train -   loss: 0.77\n",
            "Train -   loss: 0.74\n"
          ]
        },
        {
          "name": "stderr",
          "output_type": "stream",
          "text": [
            "100%|██████████| 13/13 [00:01<00:00, 10.48it/s]\n",
            "100%|██████████| 13/13 [00:01<00:00,  8.73it/s]\n"
          ]
        },
        {
          "name": "stdout",
          "output_type": "stream",
          "text": [
            "Eval -    loss: 1.64     char_acc: 0.49 captcha_acc: 0.01\n",
            "[0] True: d75b5 | Pred: 477b3\n",
            "[1] True: x7547 | Pred: x77b5\n",
            "[2] True: 36bc2 | Pred: 348c2\n",
            "[3] True: 8cccc | Pred: 8xccc\n",
            "[4] True: 36nx4 | Pred: 364x4\n",
            "\n",
            "Epoch 17\n",
            "Train -   loss: 0.64\n",
            "Train -   loss: 0.64\n",
            "Train -   loss: 0.62\n"
          ]
        },
        {
          "name": "stderr",
          "output_type": "stream",
          "text": [
            "100%|██████████| 13/13 [00:01<00:00, 10.69it/s]\n",
            "100%|██████████| 13/13 [00:01<00:00,  8.62it/s]\n"
          ]
        },
        {
          "name": "stdout",
          "output_type": "stream",
          "text": [
            "Eval -    loss: 1.20     char_acc: 0.58 captcha_acc: 0.06\n",
            "[0] True: d75b5 | Pred: d75b3\n",
            "[1] True: x7547 | Pred: x75b7\n",
            "[2] True: 36bc2 | Pred: 34bc2\n",
            "[3] True: 8cccc | Pred: 8cecc\n",
            "[4] True: 36nx4 | Pred: 364x4\n",
            "\n",
            "Epoch 18\n",
            "Train -   loss: 0.52\n",
            "Train -   loss: 0.55\n",
            "Train -   loss: 0.55\n"
          ]
        },
        {
          "name": "stderr",
          "output_type": "stream",
          "text": [
            "100%|██████████| 13/13 [00:01<00:00, 10.19it/s]\n",
            "100%|██████████| 13/13 [00:01<00:00,  8.49it/s]\n"
          ]
        },
        {
          "name": "stdout",
          "output_type": "stream",
          "text": [
            "Eval -    loss: 2.62     char_acc: 0.34 captcha_acc: 0.00\n",
            "[0] True: d75b5 | Pred: 67362\n",
            "[1] True: x7547 | Pred: x4355\n",
            "[2] True: 36bc2 | Pred: 26822\n",
            "[3] True: 8cccc | Pred: 86ecc\n",
            "[4] True: 36nx4 | Pred: 26nxm\n",
            "\n",
            "Epoch 19\n",
            "Train -   loss: 0.51\n",
            "Train -   loss: 0.49\n",
            "Train -   loss: 0.45\n"
          ]
        },
        {
          "name": "stderr",
          "output_type": "stream",
          "text": [
            "100%|██████████| 13/13 [00:01<00:00, 10.41it/s]\n",
            "100%|██████████| 13/13 [00:01<00:00,  8.28it/s]\n"
          ]
        },
        {
          "name": "stdout",
          "output_type": "stream",
          "text": [
            "Eval -    loss: 0.96     char_acc: 0.67 captcha_acc: 0.12\n",
            "[0] True: d75b5 | Pred: d75b5\n",
            "[1] True: x7547 | Pred: x75b7\n",
            "[2] True: 36bc2 | Pred: 38bc2\n",
            "[3] True: 8cccc | Pred: 8xccc\n",
            "[4] True: 36nx4 | Pred: 36nx4\n",
            "\n",
            "Epoch 20\n",
            "Train -   loss: 0.40\n",
            "Train -   loss: 0.41\n",
            "Train -   loss: 0.41\n"
          ]
        },
        {
          "name": "stderr",
          "output_type": "stream",
          "text": [
            "100%|██████████| 13/13 [00:01<00:00, 10.63it/s]\n",
            "100%|██████████| 13/13 [00:01<00:00,  8.76it/s]\n"
          ]
        },
        {
          "name": "stdout",
          "output_type": "stream",
          "text": [
            "Eval -    loss: 0.87     char_acc: 0.72 captcha_acc: 0.17\n",
            "[0] True: d75b5 | Pred: d75b5\n",
            "[1] True: x7547 | Pred: x7537\n",
            "[2] True: 36bc2 | Pred: 3dbc2\n",
            "[3] True: 8cccc | Pred: 8cccc\n",
            "[4] True: 36nx4 | Pred: 36xx4\n",
            "\n",
            "Epoch 21\n",
            "Train -   loss: 0.36\n",
            "Train -   loss: 0.32\n",
            "Train -   loss: 0.36\n"
          ]
        },
        {
          "name": "stderr",
          "output_type": "stream",
          "text": [
            "100%|██████████| 13/13 [00:01<00:00, 10.63it/s]\n",
            "100%|██████████| 13/13 [00:01<00:00,  8.66it/s]\n"
          ]
        },
        {
          "name": "stdout",
          "output_type": "stream",
          "text": [
            "Eval -    loss: 0.79     char_acc: 0.73 captcha_acc: 0.18\n",
            "[0] True: d75b5 | Pred: d75b5\n",
            "[1] True: x7547 | Pred: x73b7\n",
            "[2] True: 36bc2 | Pred: 34bc2\n",
            "[3] True: 8cccc | Pred: 8cccc\n",
            "[4] True: 36nx4 | Pred: 36nx4\n",
            "\n",
            "Epoch 22\n",
            "Train -   loss: 0.30\n",
            "Train -   loss: 0.29\n",
            "Train -   loss: 0.29\n"
          ]
        },
        {
          "name": "stderr",
          "output_type": "stream",
          "text": [
            "100%|██████████| 13/13 [00:01<00:00, 10.12it/s]\n",
            "100%|██████████| 13/13 [00:01<00:00,  8.61it/s]\n"
          ]
        },
        {
          "name": "stdout",
          "output_type": "stream",
          "text": [
            "Eval -    loss: 0.91     char_acc: 0.69 captcha_acc: 0.14\n",
            "[0] True: d75b5 | Pred: 475b5\n",
            "[1] True: x7547 | Pred: x7547\n",
            "[2] True: 36bc2 | Pred: 258c2\n",
            "[3] True: 8cccc | Pred: 8cecc\n",
            "[4] True: 36nx4 | Pred: 26nx4\n",
            "\n",
            "Epoch 23\n",
            "Train -   loss: 0.26\n",
            "Train -   loss: 0.29\n",
            "Train -   loss: 0.26\n"
          ]
        },
        {
          "name": "stderr",
          "output_type": "stream",
          "text": [
            "100%|██████████| 13/13 [00:01<00:00, 10.46it/s]\n",
            "100%|██████████| 13/13 [00:01<00:00,  8.76it/s]\n"
          ]
        },
        {
          "name": "stdout",
          "output_type": "stream",
          "text": [
            "Eval -    loss: 0.87     char_acc: 0.70 captcha_acc: 0.15\n",
            "[0] True: d75b5 | Pred: 375d5\n",
            "[1] True: x7547 | Pred: x7547\n",
            "[2] True: 36bc2 | Pred: 3bbc2\n",
            "[3] True: 8cccc | Pred: 8cccc\n",
            "[4] True: 36nx4 | Pred: 3exx4\n",
            "\n",
            "Epoch 24\n",
            "Train -   loss: 0.22\n",
            "Train -   loss: 0.24\n",
            "Train -   loss: 0.24\n"
          ]
        },
        {
          "name": "stderr",
          "output_type": "stream",
          "text": [
            "100%|██████████| 13/13 [00:01<00:00, 10.70it/s]\n",
            "100%|██████████| 13/13 [00:01<00:00,  8.62it/s]\n"
          ]
        },
        {
          "name": "stdout",
          "output_type": "stream",
          "text": [
            "Eval -    loss: 0.79     char_acc: 0.75 captcha_acc: 0.25\n",
            "[0] True: d75b5 | Pred: d75b5\n",
            "[1] True: x7547 | Pred: x7547\n",
            "[2] True: 36bc2 | Pred: 34ec2\n",
            "[3] True: 8cccc | Pred: 8cccc\n",
            "[4] True: 36nx4 | Pred: 36nx4\n",
            "\n",
            "Epoch 25\n",
            "Train -   loss: 0.20\n",
            "Train -   loss: 0.21\n",
            "Train -   loss: 0.21\n"
          ]
        },
        {
          "name": "stderr",
          "output_type": "stream",
          "text": [
            "100%|██████████| 13/13 [00:01<00:00, 10.44it/s]\n",
            "100%|██████████| 13/13 [00:01<00:00,  8.70it/s]\n"
          ]
        },
        {
          "name": "stdout",
          "output_type": "stream",
          "text": [
            "Eval -    loss: 0.51     char_acc: 0.83 captcha_acc: 0.40\n",
            "[0] True: d75b5 | Pred: d75b5\n",
            "[1] True: x7547 | Pred: x7547\n",
            "[2] True: 36bc2 | Pred: 34bc2\n",
            "[3] True: 8cccc | Pred: 8cccc\n",
            "[4] True: 36nx4 | Pred: 3enx4\n",
            "\n",
            "Epoch 26\n",
            "Train -   loss: 0.18\n",
            "Train -   loss: 0.18\n",
            "Train -   loss: 0.21\n"
          ]
        },
        {
          "name": "stderr",
          "output_type": "stream",
          "text": [
            "100%|██████████| 13/13 [00:01<00:00, 10.46it/s]\n",
            "100%|██████████| 13/13 [00:01<00:00,  8.59it/s]\n"
          ]
        },
        {
          "name": "stdout",
          "output_type": "stream",
          "text": [
            "Eval -    loss: 0.67     char_acc: 0.78 captcha_acc: 0.27\n",
            "[0] True: d75b5 | Pred: 37565\n",
            "[1] True: x7547 | Pred: x7347\n",
            "[2] True: 36bc2 | Pred: 3b8c2\n",
            "[3] True: 8cccc | Pred: 8cccc\n",
            "[4] True: 36nx4 | Pred: 3enx4\n",
            "\n",
            "Epoch 27\n",
            "Train -   loss: 0.15\n",
            "Train -   loss: 0.16\n",
            "Train -   loss: 0.16\n"
          ]
        },
        {
          "name": "stderr",
          "output_type": "stream",
          "text": [
            "100%|██████████| 13/13 [00:01<00:00, 10.60it/s]\n",
            "100%|██████████| 13/13 [00:01<00:00,  8.72it/s]\n"
          ]
        },
        {
          "name": "stdout",
          "output_type": "stream",
          "text": [
            "Eval -    loss: 0.53     char_acc: 0.83 captcha_acc: 0.37\n",
            "[0] True: d75b5 | Pred: d75b5\n",
            "[1] True: x7547 | Pred: x7547\n",
            "[2] True: 36bc2 | Pred: 3bbc2\n",
            "[3] True: 8cccc | Pred: 8cecc\n",
            "[4] True: 36nx4 | Pred: 36nx4\n",
            "\n",
            "Epoch 28\n",
            "Train -   loss: 0.13\n",
            "Train -   loss: 0.12\n",
            "Train -   loss: 0.12\n"
          ]
        },
        {
          "name": "stderr",
          "output_type": "stream",
          "text": [
            "100%|██████████| 13/13 [00:01<00:00, 10.31it/s]\n",
            "100%|██████████| 13/13 [00:01<00:00,  8.68it/s]\n"
          ]
        },
        {
          "name": "stdout",
          "output_type": "stream",
          "text": [
            "Eval -    loss: 0.49     char_acc: 0.84 captcha_acc: 0.42\n",
            "[0] True: d75b5 | Pred: d75b5\n",
            "[1] True: x7547 | Pred: x7547\n",
            "[2] True: 36bc2 | Pred: 34bc2\n",
            "[3] True: 8cccc | Pred: 8cccc\n",
            "[4] True: 36nx4 | Pred: 3enx4\n",
            "\n",
            "Epoch 29\n",
            "Train -   loss: 0.10\n",
            "Train -   loss: 0.13\n",
            "Train -   loss: 0.13\n"
          ]
        },
        {
          "name": "stderr",
          "output_type": "stream",
          "text": [
            "100%|██████████| 13/13 [00:01<00:00, 10.78it/s]\n",
            "100%|██████████| 13/13 [00:01<00:00,  8.87it/s]\n"
          ]
        },
        {
          "name": "stdout",
          "output_type": "stream",
          "text": [
            "Eval -    loss: 0.45     char_acc: 0.84 captcha_acc: 0.43\n",
            "[0] True: d75b5 | Pred: d7565\n",
            "[1] True: x7547 | Pred: x7547\n",
            "[2] True: 36bc2 | Pred: 34bc2\n",
            "[3] True: 8cccc | Pred: 8cecc\n",
            "[4] True: 36nx4 | Pred: 3enx4\n",
            "\n",
            "Epoch 30\n",
            "Train -   loss: 0.11\n",
            "Train -   loss: 0.12\n",
            "Train -   loss: 0.13\n"
          ]
        },
        {
          "name": "stderr",
          "output_type": "stream",
          "text": [
            "100%|██████████| 13/13 [00:01<00:00, 10.63it/s]\n",
            "100%|██████████| 13/13 [00:01<00:00,  8.93it/s]\n"
          ]
        },
        {
          "name": "stdout",
          "output_type": "stream",
          "text": [
            "Eval -    loss: 0.60     char_acc: 0.80 captcha_acc: 0.31\n",
            "[0] True: d75b5 | Pred: d7565\n",
            "[1] True: x7547 | Pred: x7547\n",
            "[2] True: 36bc2 | Pred: 3bbc2\n",
            "[3] True: 8cccc | Pred: 8c2cc\n",
            "[4] True: 36nx4 | Pred: 36nx4\n",
            "\n",
            "Epoch 31\n",
            "Train -   loss: 0.11\n",
            "Train -   loss: 0.10\n",
            "Train -   loss: 0.10\n"
          ]
        },
        {
          "name": "stderr",
          "output_type": "stream",
          "text": [
            "100%|██████████| 13/13 [00:01<00:00, 10.26it/s]\n",
            "100%|██████████| 13/13 [00:01<00:00,  8.71it/s]\n"
          ]
        },
        {
          "name": "stdout",
          "output_type": "stream",
          "text": [
            "Eval -    loss: 0.49     char_acc: 0.84 captcha_acc: 0.39\n",
            "[0] True: d75b5 | Pred: d75b5\n",
            "[1] True: x7547 | Pred: x7547\n",
            "[2] True: 36bc2 | Pred: 38bc2\n",
            "[3] True: 8cccc | Pred: 8cccc\n",
            "[4] True: 36nx4 | Pred: 3enx4\n",
            "\n",
            "Epoch 32\n",
            "Train -   loss: 0.10\n",
            "Train -   loss: 0.08\n",
            "Train -   loss: 0.08\n"
          ]
        },
        {
          "name": "stderr",
          "output_type": "stream",
          "text": [
            "100%|██████████| 13/13 [00:01<00:00, 10.65it/s]\n",
            "100%|██████████| 13/13 [00:01<00:00,  8.69it/s]\n"
          ]
        },
        {
          "name": "stdout",
          "output_type": "stream",
          "text": [
            "Eval -    loss: 0.42     char_acc: 0.85 captcha_acc: 0.45\n",
            "[0] True: d75b5 | Pred: d75b5\n",
            "[1] True: x7547 | Pred: x7547\n",
            "[2] True: 36bc2 | Pred: 38bc2\n",
            "[3] True: 8cccc | Pred: 8cccc\n",
            "[4] True: 36nx4 | Pred: 36nx4\n",
            "\n",
            "Epoch 33\n",
            "Train -   loss: 0.07\n",
            "Train -   loss: 0.06\n",
            "Train -   loss: 0.07\n"
          ]
        },
        {
          "name": "stderr",
          "output_type": "stream",
          "text": [
            "100%|██████████| 13/13 [00:01<00:00, 10.54it/s]\n",
            "100%|██████████| 13/13 [00:01<00:00,  8.78it/s]\n"
          ]
        },
        {
          "name": "stdout",
          "output_type": "stream",
          "text": [
            "Eval -    loss: 0.33     char_acc: 0.89 captcha_acc: 0.55\n",
            "[0] True: d75b5 | Pred: d75b5\n",
            "[1] True: x7547 | Pred: x7547\n",
            "[2] True: 36bc2 | Pred: 3bbc2\n",
            "[3] True: 8cccc | Pred: 8cccc\n",
            "[4] True: 36nx4 | Pred: 36nx4\n",
            "\n",
            "Epoch 34\n",
            "Train -   loss: 0.06\n",
            "Train -   loss: 0.10\n",
            "Train -   loss: 0.09\n"
          ]
        },
        {
          "name": "stderr",
          "output_type": "stream",
          "text": [
            "100%|██████████| 13/13 [00:01<00:00, 10.53it/s]\n",
            "100%|██████████| 13/13 [00:01<00:00,  8.45it/s]\n"
          ]
        },
        {
          "name": "stdout",
          "output_type": "stream",
          "text": [
            "Eval -    loss: 0.63     char_acc: 0.81 captcha_acc: 0.36\n",
            "[0] True: d75b5 | Pred: d7565\n",
            "[1] True: x7547 | Pred: x7567\n",
            "[2] True: 36bc2 | Pred: 356c2\n",
            "[3] True: 8cccc | Pred: 853cc\n",
            "[4] True: 36nx4 | Pred: 3enx4\n",
            "\n",
            "Epoch 35\n",
            "Train -   loss: 0.08\n",
            "Train -   loss: 0.07\n",
            "Train -   loss: 0.08\n"
          ]
        },
        {
          "name": "stderr",
          "output_type": "stream",
          "text": [
            "100%|██████████| 13/13 [00:01<00:00, 10.63it/s]\n",
            "100%|██████████| 13/13 [00:01<00:00,  8.67it/s]\n"
          ]
        },
        {
          "name": "stdout",
          "output_type": "stream",
          "text": [
            "Eval -    loss: 0.57     char_acc: 0.83 captcha_acc: 0.37\n",
            "[0] True: d75b5 | Pred: 575b5\n",
            "[1] True: x7547 | Pred: x7347\n",
            "[2] True: 36bc2 | Pred: 34bc2\n",
            "[3] True: 8cccc | Pred: 8xccc\n",
            "[4] True: 36nx4 | Pred: 36nx4\n",
            "\n",
            "Epoch 36\n",
            "Train -   loss: 0.05\n",
            "Train -   loss: 0.05\n",
            "Train -   loss: 0.05\n"
          ]
        },
        {
          "name": "stderr",
          "output_type": "stream",
          "text": [
            "100%|██████████| 13/13 [00:01<00:00, 10.40it/s]\n",
            "100%|██████████| 13/13 [00:01<00:00,  8.59it/s]\n"
          ]
        },
        {
          "name": "stdout",
          "output_type": "stream",
          "text": [
            "Eval -    loss: 0.48     char_acc: 0.86 captcha_acc: 0.46\n",
            "[0] True: d75b5 | Pred: d7565\n",
            "[1] True: x7547 | Pred: x7547\n",
            "[2] True: 36bc2 | Pred: 358c2\n",
            "[3] True: 8cccc | Pred: 8cccc\n",
            "[4] True: 36nx4 | Pred: 3enx4\n",
            "\n",
            "Epoch 37\n",
            "Train -   loss: 0.04\n",
            "Train -   loss: 0.04\n",
            "Train -   loss: 0.04\n"
          ]
        },
        {
          "name": "stderr",
          "output_type": "stream",
          "text": [
            "100%|██████████| 13/13 [00:01<00:00, 10.30it/s]\n",
            "100%|██████████| 13/13 [00:01<00:00,  8.46it/s]\n"
          ]
        },
        {
          "name": "stdout",
          "output_type": "stream",
          "text": [
            "Eval -    loss: 0.35     char_acc: 0.88 captcha_acc: 0.52\n",
            "[0] True: d75b5 | Pred: d75b5\n",
            "[1] True: x7547 | Pred: x7547\n",
            "[2] True: 36bc2 | Pred: 35bc2\n",
            "[3] True: 8cccc | Pred: 8cccc\n",
            "[4] True: 36nx4 | Pred: 36nx4\n",
            "\n",
            "Epoch 38\n",
            "Train -   loss: 0.03\n",
            "Train -   loss: 0.04\n",
            "Train -   loss: 0.05\n"
          ]
        },
        {
          "name": "stderr",
          "output_type": "stream",
          "text": [
            "100%|██████████| 13/13 [00:01<00:00, 10.47it/s]\n",
            "100%|██████████| 13/13 [00:01<00:00,  8.71it/s]\n"
          ]
        },
        {
          "name": "stdout",
          "output_type": "stream",
          "text": [
            "Eval -    loss: 0.35     char_acc: 0.88 captcha_acc: 0.52\n",
            "[0] True: d75b5 | Pred: d75b5\n",
            "[1] True: x7547 | Pred: x7547\n",
            "[2] True: 36bc2 | Pred: 34bc2\n",
            "[3] True: 8cccc | Pred: 8cecc\n",
            "[4] True: 36nx4 | Pred: 3enx4\n",
            "\n",
            "Epoch 39\n",
            "Train -   loss: 0.04\n",
            "Train -   loss: 0.04\n",
            "Train -   loss: 0.05\n"
          ]
        },
        {
          "name": "stderr",
          "output_type": "stream",
          "text": [
            "100%|██████████| 13/13 [00:01<00:00, 10.39it/s]\n",
            "100%|██████████| 13/13 [00:01<00:00,  8.67it/s]\n"
          ]
        },
        {
          "name": "stdout",
          "output_type": "stream",
          "text": [
            "Eval -    loss: 0.31     char_acc: 0.90 captcha_acc: 0.60\n",
            "[0] True: d75b5 | Pred: 575b5\n",
            "[1] True: x7547 | Pred: x7547\n",
            "[2] True: 36bc2 | Pred: 3bbc2\n",
            "[3] True: 8cccc | Pred: 8cccc\n",
            "[4] True: 36nx4 | Pred: 36nx4\n",
            "\n",
            "Epoch 40\n",
            "Train -   loss: 0.04\n",
            "Train -   loss: 0.04\n",
            "Train -   loss: 0.04\n"
          ]
        },
        {
          "name": "stderr",
          "output_type": "stream",
          "text": [
            "100%|██████████| 13/13 [00:01<00:00, 10.41it/s]\n",
            "100%|██████████| 13/13 [00:01<00:00,  8.80it/s]\n"
          ]
        },
        {
          "name": "stdout",
          "output_type": "stream",
          "text": [
            "Eval -    loss: 0.33     char_acc: 0.89 captcha_acc: 0.54\n",
            "[0] True: d75b5 | Pred: d75b5\n",
            "[1] True: x7547 | Pred: x7547\n",
            "[2] True: 36bc2 | Pred: 35bc2\n",
            "[3] True: 8cccc | Pred: 8cccc\n",
            "[4] True: 36nx4 | Pred: 36nx4\n",
            "\n",
            "Epoch 41\n",
            "Train -   loss: 0.03\n",
            "Train -   loss: 0.04\n",
            "Train -   loss: 0.04\n"
          ]
        },
        {
          "name": "stderr",
          "output_type": "stream",
          "text": [
            "100%|██████████| 13/13 [00:01<00:00, 10.73it/s]\n",
            "100%|██████████| 13/13 [00:01<00:00,  8.62it/s]\n"
          ]
        },
        {
          "name": "stdout",
          "output_type": "stream",
          "text": [
            "Eval -    loss: 0.40     char_acc: 0.86 captcha_acc: 0.47\n",
            "[0] True: d75b5 | Pred: d75b5\n",
            "[1] True: x7547 | Pred: x7547\n",
            "[2] True: 36bc2 | Pred: 35bc2\n",
            "[3] True: 8cccc | Pred: 8cccc\n",
            "[4] True: 36nx4 | Pred: 36nx4\n",
            "\n",
            "Epoch 42\n",
            "Train -   loss: 0.03\n",
            "Train -   loss: 0.04\n",
            "Train -   loss: 0.03\n"
          ]
        },
        {
          "name": "stderr",
          "output_type": "stream",
          "text": [
            "100%|██████████| 13/13 [00:01<00:00, 10.41it/s]\n",
            "100%|██████████| 13/13 [00:01<00:00,  8.56it/s]\n"
          ]
        },
        {
          "name": "stdout",
          "output_type": "stream",
          "text": [
            "Eval -    loss: 0.29     char_acc: 0.91 captcha_acc: 0.62\n",
            "[0] True: d75b5 | Pred: d75b5\n",
            "[1] True: x7547 | Pred: x7547\n",
            "[2] True: 36bc2 | Pred: 3bbc2\n",
            "[3] True: 8cccc | Pred: 8cccc\n",
            "[4] True: 36nx4 | Pred: 36nx4\n",
            "\n",
            "Epoch 43\n",
            "Train -   loss: 0.03\n",
            "Train -   loss: 0.04\n",
            "Train -   loss: 0.04\n"
          ]
        },
        {
          "name": "stderr",
          "output_type": "stream",
          "text": [
            "100%|██████████| 13/13 [00:01<00:00, 10.55it/s]\n",
            "100%|██████████| 13/13 [00:01<00:00,  8.59it/s]\n"
          ]
        },
        {
          "name": "stdout",
          "output_type": "stream",
          "text": [
            "Eval -    loss: 0.43     char_acc: 0.87 captcha_acc: 0.50\n",
            "[0] True: d75b5 | Pred: d75b5\n",
            "[1] True: x7547 | Pred: x7547\n",
            "[2] True: 36bc2 | Pred: 38bc2\n",
            "[3] True: 8cccc | Pred: 8cccc\n",
            "[4] True: 36nx4 | Pred: 3enx4\n",
            "\n",
            "Epoch 44\n",
            "Train -   loss: 0.04\n",
            "Train -   loss: 0.04\n",
            "Train -   loss: 0.04\n"
          ]
        },
        {
          "name": "stderr",
          "output_type": "stream",
          "text": [
            "100%|██████████| 13/13 [00:01<00:00, 10.51it/s]\n",
            "100%|██████████| 13/13 [00:01<00:00,  8.69it/s]\n"
          ]
        },
        {
          "name": "stdout",
          "output_type": "stream",
          "text": [
            "Eval -    loss: 0.41     char_acc: 0.88 captcha_acc: 0.52\n",
            "[0] True: d75b5 | Pred: d75b5\n",
            "[1] True: x7547 | Pred: x7547\n",
            "[2] True: 36bc2 | Pred: 388c2\n",
            "[3] True: 8cccc | Pred: 8cccc\n",
            "[4] True: 36nx4 | Pred: 36nx4\n",
            "\n",
            "Epoch 45\n",
            "Train -   loss: 0.04\n",
            "Train -   loss: 0.05\n",
            "Train -   loss: 0.05\n"
          ]
        },
        {
          "name": "stderr",
          "output_type": "stream",
          "text": [
            "100%|██████████| 13/13 [00:01<00:00, 10.53it/s]\n",
            "100%|██████████| 13/13 [00:01<00:00,  8.50it/s]\n"
          ]
        },
        {
          "name": "stdout",
          "output_type": "stream",
          "text": [
            "Eval -    loss: 0.38     char_acc: 0.88 captcha_acc: 0.52\n",
            "[0] True: d75b5 | Pred: d7565\n",
            "[1] True: x7547 | Pred: x7547\n",
            "[2] True: 36bc2 | Pred: 3dbc2\n",
            "[3] True: 8cccc | Pred: 8cccc\n",
            "[4] True: 36nx4 | Pred: 36nx4\n",
            "\n",
            "Epoch 46\n",
            "Train -   loss: 0.05\n",
            "Train -   loss: 0.05\n",
            "Train -   loss: 0.05\n"
          ]
        },
        {
          "name": "stderr",
          "output_type": "stream",
          "text": [
            "100%|██████████| 13/13 [00:01<00:00, 10.49it/s]\n",
            "100%|██████████| 13/13 [00:01<00:00,  8.63it/s]\n"
          ]
        },
        {
          "name": "stdout",
          "output_type": "stream",
          "text": [
            "Eval -    loss: 0.65     char_acc: 0.82 captcha_acc: 0.39\n",
            "[0] True: d75b5 | Pred: g7565\n",
            "[1] True: x7547 | Pred: x7547\n",
            "[2] True: 36bc2 | Pred: 3bbc2\n",
            "[3] True: 8cccc | Pred: 8c2cc\n",
            "[4] True: 36nx4 | Pred: 36nx4\n",
            "\n",
            "Epoch 47\n",
            "Train -   loss: 0.06\n",
            "Train -   loss: 0.07\n",
            "Train -   loss: 0.07\n"
          ]
        },
        {
          "name": "stderr",
          "output_type": "stream",
          "text": [
            "100%|██████████| 13/13 [00:01<00:00, 10.55it/s]\n",
            "100%|██████████| 13/13 [00:01<00:00,  8.65it/s]\n"
          ]
        },
        {
          "name": "stdout",
          "output_type": "stream",
          "text": [
            "Eval -    loss: 0.63     char_acc: 0.81 captcha_acc: 0.33\n",
            "[0] True: d75b5 | Pred: d7582\n",
            "[1] True: x7547 | Pred: x7537\n",
            "[2] True: 36bc2 | Pred: 38dc2\n",
            "[3] True: 8cccc | Pred: 8c3cc\n",
            "[4] True: 36nx4 | Pred: 36nx4\n",
            "\n",
            "Epoch 48\n",
            "Train -   loss: 0.06\n",
            "Train -   loss: 0.06\n",
            "Train -   loss: 0.05\n"
          ]
        },
        {
          "name": "stderr",
          "output_type": "stream",
          "text": [
            "100%|██████████| 13/13 [00:01<00:00, 10.51it/s]\n",
            "100%|██████████| 13/13 [00:01<00:00,  8.59it/s]\n"
          ]
        },
        {
          "name": "stdout",
          "output_type": "stream",
          "text": [
            "Eval -    loss: 0.44     char_acc: 0.86 captcha_acc: 0.46\n",
            "[0] True: d75b5 | Pred: d75b5\n",
            "[1] True: x7547 | Pred: x7577\n",
            "[2] True: 36bc2 | Pred: 366c2\n",
            "[3] True: 8cccc | Pred: 85ccc\n",
            "[4] True: 36nx4 | Pred: 36nx4\n",
            "\n",
            "Epoch 49\n",
            "Train -   loss: 0.03\n",
            "Train -   loss: 0.03\n",
            "Train -   loss: 0.04\n"
          ]
        },
        {
          "name": "stderr",
          "output_type": "stream",
          "text": [
            "100%|██████████| 13/13 [00:01<00:00,  9.74it/s]\n",
            "100%|██████████| 13/13 [00:01<00:00,  8.47it/s]\n"
          ]
        },
        {
          "name": "stdout",
          "output_type": "stream",
          "text": [
            "Eval -    loss: 0.38     char_acc: 0.88 captcha_acc: 0.52\n",
            "[0] True: d75b5 | Pred: d75b5\n",
            "[1] True: x7547 | Pred: x7547\n",
            "[2] True: 36bc2 | Pred: 38bc2\n",
            "[3] True: 8cccc | Pred: 8eccc\n",
            "[4] True: 36nx4 | Pred: 3enx4\n",
            "\n",
            "Epoch 50\n",
            "Train -   loss: 0.03\n",
            "Train -   loss: 0.03\n",
            "Train -   loss: 0.04\n"
          ]
        },
        {
          "name": "stderr",
          "output_type": "stream",
          "text": [
            "100%|██████████| 13/13 [00:01<00:00, 10.27it/s]\n",
            "100%|██████████| 13/13 [00:01<00:00,  8.50it/s]\n"
          ]
        },
        {
          "name": "stdout",
          "output_type": "stream",
          "text": [
            "Eval -    loss: 0.29     char_acc: 0.91 captcha_acc: 0.62\n",
            "[0] True: d75b5 | Pred: d75b5\n",
            "[1] True: x7547 | Pred: x7547\n",
            "[2] True: 36bc2 | Pred: 38bc2\n",
            "[3] True: 8cccc | Pred: 8cccc\n",
            "[4] True: 36nx4 | Pred: 3enx4\n",
            "\n",
            "Epoch 51\n",
            "Train -   loss: 0.03\n",
            "Train -   loss: 0.04\n",
            "Train -   loss: 0.03\n"
          ]
        },
        {
          "name": "stderr",
          "output_type": "stream",
          "text": [
            "100%|██████████| 13/13 [00:01<00:00, 10.36it/s]\n",
            "100%|██████████| 13/13 [00:01<00:00,  8.64it/s]\n"
          ]
        },
        {
          "name": "stdout",
          "output_type": "stream",
          "text": [
            "Eval -    loss: 0.32     char_acc: 0.91 captcha_acc: 0.60\n",
            "[0] True: d75b5 | Pred: d75b5\n",
            "[1] True: x7547 | Pred: x7547\n",
            "[2] True: 36bc2 | Pred: 3bbc2\n",
            "[3] True: 8cccc | Pred: 8cccc\n",
            "[4] True: 36nx4 | Pred: 3enx4\n",
            "\n",
            "Epoch 52\n",
            "Train -   loss: 0.03\n",
            "Train -   loss: 0.05\n",
            "Train -   loss: 0.04\n"
          ]
        },
        {
          "name": "stderr",
          "output_type": "stream",
          "text": [
            "100%|██████████| 13/13 [00:01<00:00, 10.49it/s]\n",
            "100%|██████████| 13/13 [00:01<00:00,  8.70it/s]\n"
          ]
        },
        {
          "name": "stdout",
          "output_type": "stream",
          "text": [
            "Eval -    loss: 0.48     char_acc: 0.86 captcha_acc: 0.47\n",
            "[0] True: d75b5 | Pred: d75b5\n",
            "[1] True: x7547 | Pred: x75b7\n",
            "[2] True: 36bc2 | Pred: 38bc2\n",
            "[3] True: 8cccc | Pred: 8cccc\n",
            "[4] True: 36nx4 | Pred: 3enx4\n",
            "\n",
            "Epoch 53\n",
            "Train -   loss: 0.05\n",
            "Train -   loss: 0.04\n",
            "Train -   loss: 0.04\n"
          ]
        },
        {
          "name": "stderr",
          "output_type": "stream",
          "text": [
            "100%|██████████| 13/13 [00:01<00:00, 10.41it/s]\n",
            "100%|██████████| 13/13 [00:01<00:00,  8.49it/s]\n"
          ]
        },
        {
          "name": "stdout",
          "output_type": "stream",
          "text": [
            "Eval -    loss: 0.35     char_acc: 0.90 captcha_acc: 0.60\n",
            "[0] True: d75b5 | Pred: d75b5\n",
            "[1] True: x7547 | Pred: x7547\n",
            "[2] True: 36bc2 | Pred: 38nc2\n",
            "[3] True: 8cccc | Pred: dcccc\n",
            "[4] True: 36nx4 | Pred: d6nx4\n",
            "\n",
            "Epoch 54\n",
            "Train -   loss: 0.04\n",
            "Train -   loss: 0.03\n",
            "Train -   loss: 0.05\n"
          ]
        },
        {
          "name": "stderr",
          "output_type": "stream",
          "text": [
            "100%|██████████| 13/13 [00:01<00:00, 10.46it/s]\n",
            "100%|██████████| 13/13 [00:01<00:00,  8.52it/s]\n"
          ]
        },
        {
          "name": "stdout",
          "output_type": "stream",
          "text": [
            "Eval -    loss: 0.53     char_acc: 0.85 captcha_acc: 0.44\n",
            "[0] True: d75b5 | Pred: d75b5\n",
            "[1] True: x7547 | Pred: x7547\n",
            "[2] True: 36bc2 | Pred: 38bc2\n",
            "[3] True: 8cccc | Pred: 8c2cc\n",
            "[4] True: 36nx4 | Pred: 3enx4\n",
            "\n",
            "Epoch 55\n",
            "Train -   loss: 0.04\n",
            "Train -   loss: 0.03\n",
            "Train -   loss: 0.03\n"
          ]
        },
        {
          "name": "stderr",
          "output_type": "stream",
          "text": [
            "100%|██████████| 13/13 [00:01<00:00, 10.19it/s]\n",
            "100%|██████████| 13/13 [00:01<00:00,  8.40it/s]\n"
          ]
        },
        {
          "name": "stdout",
          "output_type": "stream",
          "text": [
            "Eval -    loss: 0.38     char_acc: 0.89 captcha_acc: 0.54\n",
            "[0] True: d75b5 | Pred: d75b5\n",
            "[1] True: x7547 | Pred: x7547\n",
            "[2] True: 36bc2 | Pred: 38fc2\n",
            "[3] True: 8cccc | Pred: 8cccc\n",
            "[4] True: 36nx4 | Pred: 36nx4\n",
            "\n",
            "Epoch 56\n",
            "Train -   loss: 0.03\n",
            "Train -   loss: 0.03\n",
            "Train -   loss: 0.03\n"
          ]
        },
        {
          "name": "stderr",
          "output_type": "stream",
          "text": [
            "100%|██████████| 13/13 [00:01<00:00, 10.38it/s]\n",
            "100%|██████████| 13/13 [00:01<00:00,  8.53it/s]\n"
          ]
        },
        {
          "name": "stdout",
          "output_type": "stream",
          "text": [
            "Eval -    loss: 0.30     char_acc: 0.92 captcha_acc: 0.67\n",
            "[0] True: d75b5 | Pred: d75b5\n",
            "[1] True: x7547 | Pred: x7547\n",
            "[2] True: 36bc2 | Pred: 3bnc2\n",
            "[3] True: 8cccc | Pred: 8cccc\n",
            "[4] True: 36nx4 | Pred: 3enx4\n",
            "\n",
            "Epoch 57\n",
            "Train -   loss: 0.03\n",
            "Train -   loss: 0.03\n",
            "Train -   loss: 0.04\n"
          ]
        },
        {
          "name": "stderr",
          "output_type": "stream",
          "text": [
            "100%|██████████| 13/13 [00:01<00:00, 10.23it/s]\n",
            "100%|██████████| 13/13 [00:01<00:00,  8.45it/s]\n"
          ]
        },
        {
          "name": "stdout",
          "output_type": "stream",
          "text": [
            "Eval -    loss: 0.43     char_acc: 0.87 captcha_acc: 0.52\n",
            "[0] True: d75b5 | Pred: d75b5\n",
            "[1] True: x7547 | Pred: x7547\n",
            "[2] True: 36bc2 | Pred: 368c2\n",
            "[3] True: 8cccc | Pred: 8cccc\n",
            "[4] True: 36nx4 | Pred: 3enx4\n",
            "\n",
            "Epoch 58\n",
            "Train -   loss: 0.04\n",
            "Train -   loss: 0.04\n",
            "Train -   loss: 0.03\n"
          ]
        },
        {
          "name": "stderr",
          "output_type": "stream",
          "text": [
            "100%|██████████| 13/13 [00:01<00:00, 10.11it/s]\n",
            "100%|██████████| 13/13 [00:01<00:00,  8.48it/s]\n"
          ]
        },
        {
          "name": "stdout",
          "output_type": "stream",
          "text": [
            "Eval -    loss: 0.31     char_acc: 0.90 captcha_acc: 0.61\n",
            "[0] True: d75b5 | Pred: d75b5\n",
            "[1] True: x7547 | Pred: x75m7\n",
            "[2] True: 36bc2 | Pred: 36nc2\n",
            "[3] True: 8cccc | Pred: 8cccc\n",
            "[4] True: 36nx4 | Pred: 36nx4\n",
            "\n",
            "Epoch 59\n",
            "Train -   loss: 0.04\n",
            "Train -   loss: 0.03\n",
            "Train -   loss: 0.02\n"
          ]
        },
        {
          "name": "stderr",
          "output_type": "stream",
          "text": [
            "100%|██████████| 13/13 [00:01<00:00, 10.57it/s]\n",
            "100%|██████████| 13/13 [00:01<00:00,  8.50it/s]\n"
          ]
        },
        {
          "name": "stdout",
          "output_type": "stream",
          "text": [
            "Eval -    loss: 0.30     char_acc: 0.92 captcha_acc: 0.67\n",
            "[0] True: d75b5 | Pred: d73b5\n",
            "[1] True: x7547 | Pred: x7547\n",
            "[2] True: 36bc2 | Pred: 3bfc2\n",
            "[3] True: 8cccc | Pred: 8cccc\n",
            "[4] True: 36nx4 | Pred: 36nx4\n",
            "\n",
            "Epoch 60\n",
            "Train -   loss: 0.03\n",
            "Train -   loss: 0.03\n",
            "Train -   loss: 0.03\n"
          ]
        },
        {
          "name": "stderr",
          "output_type": "stream",
          "text": [
            "100%|██████████| 13/13 [00:01<00:00, 10.04it/s]\n",
            "100%|██████████| 13/13 [00:01<00:00,  8.44it/s]\n"
          ]
        },
        {
          "name": "stdout",
          "output_type": "stream",
          "text": [
            "Eval -    loss: 0.46     char_acc: 0.85 captcha_acc: 0.44\n",
            "[0] True: d75b5 | Pred: d7365\n",
            "[1] True: x7547 | Pred: x7347\n",
            "[2] True: 36bc2 | Pred: 38nc2\n",
            "[3] True: 8cccc | Pred: 8cccc\n",
            "[4] True: 36nx4 | Pred: 3enx4\n",
            "\n",
            "Epoch 61\n",
            "Train -   loss: 0.03\n",
            "Train -   loss: 0.04\n",
            "Train -   loss: 0.03\n"
          ]
        },
        {
          "name": "stderr",
          "output_type": "stream",
          "text": [
            "100%|██████████| 13/13 [00:01<00:00, 10.11it/s]\n",
            "100%|██████████| 13/13 [00:01<00:00,  8.53it/s]\n"
          ]
        },
        {
          "name": "stdout",
          "output_type": "stream",
          "text": [
            "Eval -    loss: 0.31     char_acc: 0.91 captcha_acc: 0.65\n",
            "[0] True: d75b5 | Pred: d75b5\n",
            "[1] True: x7547 | Pred: x73m7\n",
            "[2] True: 36bc2 | Pred: 366c2\n",
            "[3] True: 8cccc | Pred: 8cccc\n",
            "[4] True: 36nx4 | Pred: 36nx4\n",
            "\n",
            "Epoch 62\n",
            "Train -   loss: 0.03\n",
            "Train -   loss: 0.04\n",
            "Train -   loss: 0.04\n"
          ]
        },
        {
          "name": "stderr",
          "output_type": "stream",
          "text": [
            "100%|██████████| 13/13 [00:01<00:00, 10.41it/s]\n",
            "100%|██████████| 13/13 [00:01<00:00,  8.56it/s]\n"
          ]
        },
        {
          "name": "stdout",
          "output_type": "stream",
          "text": [
            "Eval -    loss: 0.61     char_acc: 0.84 captcha_acc: 0.40\n",
            "[0] True: d75b5 | Pred: d75b5\n",
            "[1] True: x7547 | Pred: x7577\n",
            "[2] True: 36bc2 | Pred: 356c2\n",
            "[3] True: 8cccc | Pred: 8cccc\n",
            "[4] True: 36nx4 | Pred: 33nx4\n",
            "\n",
            "Epoch 63\n",
            "Train -   loss: 0.03\n",
            "Train -   loss: 0.02\n",
            "Train -   loss: 0.02\n"
          ]
        },
        {
          "name": "stderr",
          "output_type": "stream",
          "text": [
            "100%|██████████| 13/13 [00:01<00:00, 10.15it/s]\n",
            "100%|██████████| 13/13 [00:01<00:00,  8.52it/s]\n"
          ]
        },
        {
          "name": "stdout",
          "output_type": "stream",
          "text": [
            "Eval -    loss: 0.28     char_acc: 0.93 captcha_acc: 0.68\n",
            "[0] True: d75b5 | Pred: d75b5\n",
            "[1] True: x7547 | Pred: x7547\n",
            "[2] True: 36bc2 | Pred: 38bc2\n",
            "[3] True: 8cccc | Pred: 8cccc\n",
            "[4] True: 36nx4 | Pred: 3enx4\n",
            "\n",
            "Epoch 64\n",
            "Train -   loss: 0.02\n",
            "Train -   loss: 0.02\n",
            "Train -   loss: 0.02\n"
          ]
        },
        {
          "name": "stderr",
          "output_type": "stream",
          "text": [
            "100%|██████████| 13/13 [00:01<00:00, 10.24it/s]\n",
            "100%|██████████| 13/13 [00:01<00:00,  8.59it/s]\n"
          ]
        },
        {
          "name": "stdout",
          "output_type": "stream",
          "text": [
            "Eval -    loss: 0.25     char_acc: 0.92 captcha_acc: 0.65\n",
            "[0] True: d75b5 | Pred: d75b5\n",
            "[1] True: x7547 | Pred: x7547\n",
            "[2] True: 36bc2 | Pred: 35bc2\n",
            "[3] True: 8cccc | Pred: 8cccc\n",
            "[4] True: 36nx4 | Pred: 36nx4\n",
            "\n",
            "Epoch 65\n",
            "Train -   loss: 0.02\n",
            "Train -   loss: 0.02\n",
            "Train -   loss: 0.02\n"
          ]
        },
        {
          "name": "stderr",
          "output_type": "stream",
          "text": [
            "100%|██████████| 13/13 [00:01<00:00,  9.91it/s]\n",
            "100%|██████████| 13/13 [00:01<00:00,  8.66it/s]\n"
          ]
        },
        {
          "name": "stdout",
          "output_type": "stream",
          "text": [
            "Eval -    loss: 0.33     char_acc: 0.91 captcha_acc: 0.60\n",
            "[0] True: d75b5 | Pred: d75b5\n",
            "[1] True: x7547 | Pred: x7547\n",
            "[2] True: 36bc2 | Pred: 38bc2\n",
            "[3] True: 8cccc | Pred: 8cccc\n",
            "[4] True: 36nx4 | Pred: 36nx4\n",
            "\n",
            "Epoch 66\n",
            "Train -   loss: 0.02\n",
            "Train -   loss: 0.04\n",
            "Train -   loss: 0.04\n"
          ]
        },
        {
          "name": "stderr",
          "output_type": "stream",
          "text": [
            "100%|██████████| 13/13 [00:01<00:00,  9.79it/s]\n",
            "100%|██████████| 13/13 [00:01<00:00,  8.68it/s]\n"
          ]
        },
        {
          "name": "stdout",
          "output_type": "stream",
          "text": [
            "Eval -    loss: 0.50     char_acc: 0.85 captcha_acc: 0.45\n",
            "[0] True: d75b5 | Pred: d7365\n",
            "[1] True: x7547 | Pred: x7367\n",
            "[2] True: 36bc2 | Pred: 38bc2\n",
            "[3] True: 8cccc | Pred: 8cccc\n",
            "[4] True: 36nx4 | Pred: 36nx4\n",
            "\n",
            "Epoch 67\n",
            "Train -   loss: 0.04\n",
            "Train -   loss: 0.03\n",
            "Train -   loss: 0.04\n"
          ]
        },
        {
          "name": "stderr",
          "output_type": "stream",
          "text": [
            "100%|██████████| 13/13 [00:01<00:00,  9.69it/s]\n",
            "100%|██████████| 13/13 [00:01<00:00,  8.44it/s]\n"
          ]
        },
        {
          "name": "stdout",
          "output_type": "stream",
          "text": [
            "Eval -    loss: 0.30     char_acc: 0.91 captcha_acc: 0.64\n",
            "[0] True: d75b5 | Pred: d75b5\n",
            "[1] True: x7547 | Pred: x74f7\n",
            "[2] True: 36bc2 | Pred: 34bc2\n",
            "[3] True: 8cccc | Pred: 8cccc\n",
            "[4] True: 36nx4 | Pred: 3enx4\n",
            "\n",
            "Epoch 68\n",
            "Train -   loss: 0.03\n",
            "Train -   loss: 0.03\n",
            "Train -   loss: 0.04\n"
          ]
        },
        {
          "name": "stderr",
          "output_type": "stream",
          "text": [
            "100%|██████████| 13/13 [00:01<00:00,  9.73it/s]\n",
            "100%|██████████| 13/13 [00:01<00:00,  8.55it/s]\n"
          ]
        },
        {
          "name": "stdout",
          "output_type": "stream",
          "text": [
            "Eval -    loss: 0.38     char_acc: 0.88 captcha_acc: 0.52\n",
            "[0] True: d75b5 | Pred: d73b5\n",
            "[1] True: x7547 | Pred: x7547\n",
            "[2] True: 36bc2 | Pred: 38bc2\n",
            "[3] True: 8cccc | Pred: 8cccc\n",
            "[4] True: 36nx4 | Pred: 3enx4\n",
            "\n",
            "Epoch 69\n",
            "Train -   loss: 0.06\n",
            "Train -   loss: 0.07\n",
            "Train -   loss: 0.05\n"
          ]
        },
        {
          "name": "stderr",
          "output_type": "stream",
          "text": [
            "100%|██████████| 13/13 [00:01<00:00,  8.10it/s]\n",
            "100%|██████████| 13/13 [00:01<00:00,  8.50it/s]\n"
          ]
        },
        {
          "name": "stdout",
          "output_type": "stream",
          "text": [
            "Eval -    loss: 0.59     char_acc: 0.83 captcha_acc: 0.41\n",
            "[0] True: d75b5 | Pred: d75b5\n",
            "[1] True: x7547 | Pred: x7577\n",
            "[2] True: 36bc2 | Pred: 24nc2\n",
            "[3] True: 8cccc | Pred: 8cccc\n",
            "[4] True: 36nx4 | Pred: 3enx4\n",
            "\n",
            "Epoch 70\n",
            "Train -   loss: 0.07\n",
            "Train -   loss: 0.07\n",
            "Train -   loss: 0.09\n"
          ]
        },
        {
          "name": "stderr",
          "output_type": "stream",
          "text": [
            "100%|██████████| 13/13 [00:01<00:00,  9.29it/s]\n",
            "100%|██████████| 13/13 [00:01<00:00,  8.42it/s]\n"
          ]
        },
        {
          "name": "stdout",
          "output_type": "stream",
          "text": [
            "Eval -    loss: 0.45     char_acc: 0.87 captcha_acc: 0.49\n",
            "[0] True: d75b5 | Pred: d73b5\n",
            "[1] True: x7547 | Pred: x7347\n",
            "[2] True: 36bc2 | Pred: 3bdc2\n",
            "[3] True: 8cccc | Pred: 8cccc\n",
            "[4] True: 36nx4 | Pred: 3enx4\n",
            "\n",
            "Epoch 71\n",
            "Train -   loss: 0.08\n",
            "Train -   loss: 0.08\n",
            "Train -   loss: 0.07\n"
          ]
        },
        {
          "name": "stderr",
          "output_type": "stream",
          "text": [
            "100%|██████████| 13/13 [00:01<00:00,  9.78it/s]\n",
            "100%|██████████| 13/13 [00:01<00:00,  8.29it/s]\n"
          ]
        },
        {
          "name": "stdout",
          "output_type": "stream",
          "text": [
            "Eval -    loss: 0.49     char_acc: 0.86 captcha_acc: 0.48\n",
            "[0] True: d75b5 | Pred: d75b5\n",
            "[1] True: x7547 | Pred: x7547\n",
            "[2] True: 36bc2 | Pred: 386c2\n",
            "[3] True: 8cccc | Pred: 8cccc\n",
            "[4] True: 36nx4 | Pred: 3enx4\n",
            "\n",
            "Epoch 72\n",
            "Train -   loss: 0.06\n",
            "Train -   loss: 0.04\n",
            "Train -   loss: 0.05\n"
          ]
        },
        {
          "name": "stderr",
          "output_type": "stream",
          "text": [
            "100%|██████████| 13/13 [00:01<00:00,  9.69it/s]\n",
            "100%|██████████| 13/13 [00:01<00:00,  8.26it/s]\n"
          ]
        },
        {
          "name": "stdout",
          "output_type": "stream",
          "text": [
            "Eval -    loss: 0.45     char_acc: 0.86 captcha_acc: 0.46\n",
            "[0] True: d75b5 | Pred: d75b5\n",
            "[1] True: x7547 | Pred: x7347\n",
            "[2] True: 36bc2 | Pred: 36nc2\n",
            "[3] True: 8cccc | Pred: 8xccc\n",
            "[4] True: 36nx4 | Pred: 36nx4\n",
            "\n",
            "Epoch 73\n",
            "Train -   loss: 0.04\n",
            "Train -   loss: 0.04\n",
            "Train -   loss: 0.04\n"
          ]
        },
        {
          "name": "stderr",
          "output_type": "stream",
          "text": [
            "100%|██████████| 13/13 [00:01<00:00,  9.50it/s]\n",
            "100%|██████████| 13/13 [00:01<00:00,  8.37it/s]\n"
          ]
        },
        {
          "name": "stdout",
          "output_type": "stream",
          "text": [
            "Eval -    loss: 0.37     char_acc: 0.89 captcha_acc: 0.55\n",
            "[0] True: d75b5 | Pred: d75b5\n",
            "[1] True: x7547 | Pred: x7547\n",
            "[2] True: 36bc2 | Pred: 3bbc2\n",
            "[3] True: 8cccc | Pred: 8cccc\n",
            "[4] True: 36nx4 | Pred: 36xx4\n",
            "\n",
            "Epoch 74\n",
            "Train -   loss: 0.02\n",
            "Train -   loss: 0.02\n",
            "Train -   loss: 0.02\n"
          ]
        },
        {
          "name": "stderr",
          "output_type": "stream",
          "text": [
            "100%|██████████| 13/13 [00:01<00:00,  9.23it/s]\n",
            "100%|██████████| 13/13 [00:01<00:00,  8.60it/s]\n"
          ]
        },
        {
          "name": "stdout",
          "output_type": "stream",
          "text": [
            "Eval -    loss: 0.23     char_acc: 0.93 captcha_acc: 0.70\n",
            "[0] True: d75b5 | Pred: d75b5\n",
            "[1] True: x7547 | Pred: x7547\n",
            "[2] True: 36bc2 | Pred: 3bbc2\n",
            "[3] True: 8cccc | Pred: 8cccc\n",
            "[4] True: 36nx4 | Pred: 3enx4\n",
            "\n",
            "Epoch 75\n",
            "Train -   loss: 0.01\n",
            "Train -   loss: 0.02\n",
            "Train -   loss: 0.02\n"
          ]
        },
        {
          "name": "stderr",
          "output_type": "stream",
          "text": [
            "100%|██████████| 13/13 [00:01<00:00,  9.03it/s]\n",
            "100%|██████████| 13/13 [00:01<00:00,  8.57it/s]\n"
          ]
        },
        {
          "name": "stdout",
          "output_type": "stream",
          "text": [
            "Eval -    loss: 0.21     char_acc: 0.94 captcha_acc: 0.74\n",
            "[0] True: d75b5 | Pred: d75b5\n",
            "[1] True: x7547 | Pred: x7547\n",
            "[2] True: 36bc2 | Pred: 38bc2\n",
            "[3] True: 8cccc | Pred: 8cccc\n",
            "[4] True: 36nx4 | Pred: 36nx4\n",
            "\n",
            "Epoch 76\n",
            "Train -   loss: 0.02\n",
            "Train -   loss: 0.02\n",
            "Train -   loss: 0.01\n"
          ]
        },
        {
          "name": "stderr",
          "output_type": "stream",
          "text": [
            "100%|██████████| 13/13 [00:01<00:00,  8.93it/s]\n",
            "100%|██████████| 13/13 [00:01<00:00,  8.72it/s]\n"
          ]
        },
        {
          "name": "stdout",
          "output_type": "stream",
          "text": [
            "Eval -    loss: 0.19     char_acc: 0.94 captcha_acc: 0.74\n",
            "[0] True: d75b5 | Pred: d75b5\n",
            "[1] True: x7547 | Pred: x7547\n",
            "[2] True: 36bc2 | Pred: 3bdc2\n",
            "[3] True: 8cccc | Pred: 8xccc\n",
            "[4] True: 36nx4 | Pred: 36nx4\n",
            "\n",
            "Epoch 77\n",
            "Train -   loss: 0.01\n",
            "Train -   loss: 0.01\n",
            "Train -   loss: 0.01\n"
          ]
        },
        {
          "name": "stderr",
          "output_type": "stream",
          "text": [
            "100%|██████████| 13/13 [00:01<00:00,  9.23it/s]\n",
            "100%|██████████| 13/13 [00:01<00:00,  8.99it/s]\n"
          ]
        },
        {
          "name": "stdout",
          "output_type": "stream",
          "text": [
            "Eval -    loss: 0.19     char_acc: 0.94 captcha_acc: 0.75\n",
            "[0] True: d75b5 | Pred: d75b5\n",
            "[1] True: x7547 | Pred: x7547\n",
            "[2] True: 36bc2 | Pred: 38bc2\n",
            "[3] True: 8cccc | Pred: 8cccc\n",
            "[4] True: 36nx4 | Pred: 3enx4\n",
            "\n",
            "Epoch 78\n",
            "Train -   loss: 0.01\n",
            "Train -   loss: 0.01\n",
            "Train -   loss: 0.01\n"
          ]
        },
        {
          "name": "stderr",
          "output_type": "stream",
          "text": [
            "100%|██████████| 13/13 [00:01<00:00,  8.85it/s]\n",
            "100%|██████████| 13/13 [00:01<00:00,  8.67it/s]\n"
          ]
        },
        {
          "name": "stdout",
          "output_type": "stream",
          "text": [
            "Eval -    loss: 0.14     char_acc: 0.96 captcha_acc: 0.80\n",
            "[0] True: d75b5 | Pred: d75b5\n",
            "[1] True: x7547 | Pred: x7547\n",
            "[2] True: 36bc2 | Pred: 36bc2\n",
            "[3] True: 8cccc | Pred: 8cccc\n",
            "[4] True: 36nx4 | Pred: 36nx4\n",
            "\n",
            "Epoch 79\n",
            "Train -   loss: 0.00\n",
            "Train -   loss: 0.00\n",
            "Train -   loss: 0.00\n"
          ]
        },
        {
          "name": "stderr",
          "output_type": "stream",
          "text": [
            "100%|██████████| 13/13 [00:01<00:00, 10.15it/s]\n",
            "100%|██████████| 13/13 [00:01<00:00,  8.68it/s]\n"
          ]
        },
        {
          "name": "stdout",
          "output_type": "stream",
          "text": [
            "Eval -    loss: 0.15     char_acc: 0.96 captcha_acc: 0.81\n",
            "[0] True: d75b5 | Pred: d75b5\n",
            "[1] True: x7547 | Pred: x7547\n",
            "[2] True: 36bc2 | Pred: 366c2\n",
            "[3] True: 8cccc | Pred: 8cccc\n",
            "[4] True: 36nx4 | Pred: 36nx4\n",
            "\n",
            "Epoch 80\n",
            "Train -   loss: 0.00\n",
            "Train -   loss: 0.00\n",
            "Train -   loss: 0.00\n"
          ]
        },
        {
          "name": "stderr",
          "output_type": "stream",
          "text": [
            "100%|██████████| 13/13 [00:01<00:00, 10.44it/s]\n",
            "100%|██████████| 13/13 [00:01<00:00,  8.97it/s]\n"
          ]
        },
        {
          "name": "stdout",
          "output_type": "stream",
          "text": [
            "Eval -    loss: 0.15     char_acc: 0.96 captcha_acc: 0.84\n",
            "[0] True: d75b5 | Pred: d75b5\n",
            "[1] True: x7547 | Pred: x7547\n",
            "[2] True: 36bc2 | Pred: 36bc2\n",
            "[3] True: 8cccc | Pred: 8cccc\n",
            "[4] True: 36nx4 | Pred: 36nx4\n",
            "\n",
            "Epoch 81\n",
            "Train -   loss: 0.00\n",
            "Train -   loss: 0.00\n",
            "Train -   loss: 0.00\n"
          ]
        },
        {
          "name": "stderr",
          "output_type": "stream",
          "text": [
            "100%|██████████| 13/13 [00:01<00:00, 10.38it/s]\n",
            "100%|██████████| 13/13 [00:01<00:00,  8.69it/s]\n"
          ]
        },
        {
          "name": "stdout",
          "output_type": "stream",
          "text": [
            "Eval -    loss: 0.12     char_acc: 0.97 captcha_acc: 0.85\n",
            "[0] True: d75b5 | Pred: d75b5\n",
            "[1] True: x7547 | Pred: x7547\n",
            "[2] True: 36bc2 | Pred: 36bc2\n",
            "[3] True: 8cccc | Pred: 8cccc\n",
            "[4] True: 36nx4 | Pred: 36nx4\n",
            "\n",
            "Epoch 82\n",
            "Train -   loss: 0.00\n",
            "Train -   loss: 0.00\n",
            "Train -   loss: 0.00\n"
          ]
        },
        {
          "name": "stderr",
          "output_type": "stream",
          "text": [
            "100%|██████████| 13/13 [00:01<00:00, 10.41it/s]\n",
            "100%|██████████| 13/13 [00:01<00:00,  8.83it/s]\n"
          ]
        },
        {
          "name": "stdout",
          "output_type": "stream",
          "text": [
            "Eval -    loss: 0.11     char_acc: 0.96 captcha_acc: 0.84\n",
            "[0] True: d75b5 | Pred: d75b5\n",
            "[1] True: x7547 | Pred: x7547\n",
            "[2] True: 36bc2 | Pred: 36bc2\n",
            "[3] True: 8cccc | Pred: 8cccc\n",
            "[4] True: 36nx4 | Pred: 36nx4\n",
            "\n",
            "Epoch 83\n",
            "Train -   loss: 0.00\n",
            "Train -   loss: 0.00\n",
            "Train -   loss: 0.00\n"
          ]
        },
        {
          "name": "stderr",
          "output_type": "stream",
          "text": [
            "100%|██████████| 13/13 [00:01<00:00,  9.69it/s]\n",
            "100%|██████████| 13/13 [00:01<00:00,  8.62it/s]\n"
          ]
        },
        {
          "name": "stdout",
          "output_type": "stream",
          "text": [
            "Eval -    loss: 0.11     char_acc: 0.97 captcha_acc: 0.87\n",
            "[0] True: d75b5 | Pred: d75b5\n",
            "[1] True: x7547 | Pred: x7547\n",
            "[2] True: 36bc2 | Pred: 36bc2\n",
            "[3] True: 8cccc | Pred: 8cccc\n",
            "[4] True: 36nx4 | Pred: 36nx4\n",
            "\n",
            "Epoch 84\n",
            "Train -   loss: 0.00\n",
            "Train -   loss: 0.00\n",
            "Train -   loss: 0.00\n"
          ]
        },
        {
          "name": "stderr",
          "output_type": "stream",
          "text": [
            "100%|██████████| 13/13 [00:01<00:00, 10.27it/s]\n",
            "100%|██████████| 13/13 [00:01<00:00,  8.72it/s]\n"
          ]
        },
        {
          "name": "stdout",
          "output_type": "stream",
          "text": [
            "Eval -    loss: 0.12     char_acc: 0.96 captcha_acc: 0.84\n",
            "[0] True: d75b5 | Pred: d75b5\n",
            "[1] True: x7547 | Pred: x7547\n",
            "[2] True: 36bc2 | Pred: 36bc2\n",
            "[3] True: 8cccc | Pred: 8cccc\n",
            "[4] True: 36nx4 | Pred: 36nx4\n",
            "\n",
            "Epoch 85\n",
            "Train -   loss: 0.00\n",
            "Train -   loss: 0.00\n",
            "Train -   loss: 0.00\n"
          ]
        },
        {
          "name": "stderr",
          "output_type": "stream",
          "text": [
            "100%|██████████| 13/13 [00:01<00:00, 10.41it/s]\n",
            "100%|██████████| 13/13 [00:01<00:00,  8.87it/s]\n"
          ]
        },
        {
          "name": "stdout",
          "output_type": "stream",
          "text": [
            "Eval -    loss: 0.12     char_acc: 0.96 captcha_acc: 0.83\n",
            "[0] True: d75b5 | Pred: d75b5\n",
            "[1] True: x7547 | Pred: x7547\n",
            "[2] True: 36bc2 | Pred: 36bc2\n",
            "[3] True: 8cccc | Pred: 8cccc\n",
            "[4] True: 36nx4 | Pred: 36nx4\n",
            "\n",
            "Epoch 86\n",
            "Train -   loss: 0.00\n",
            "Train -   loss: 0.00\n",
            "Train -   loss: 0.00\n"
          ]
        },
        {
          "name": "stderr",
          "output_type": "stream",
          "text": [
            "100%|██████████| 13/13 [00:01<00:00, 10.32it/s]\n",
            "100%|██████████| 13/13 [00:01<00:00,  8.69it/s]\n"
          ]
        },
        {
          "name": "stdout",
          "output_type": "stream",
          "text": [
            "Eval -    loss: 0.15     char_acc: 0.96 captcha_acc: 0.84\n",
            "[0] True: d75b5 | Pred: d75b5\n",
            "[1] True: x7547 | Pred: x7547\n",
            "[2] True: 36bc2 | Pred: 36bc2\n",
            "[3] True: 8cccc | Pred: 8cccc\n",
            "[4] True: 36nx4 | Pred: 36nx4\n",
            "\n",
            "Epoch 87\n",
            "Train -   loss: 0.01\n",
            "Train -   loss: 0.01\n",
            "Train -   loss: 0.01\n"
          ]
        },
        {
          "name": "stderr",
          "output_type": "stream",
          "text": [
            "100%|██████████| 13/13 [00:01<00:00, 10.21it/s]\n",
            "100%|██████████| 13/13 [00:01<00:00,  8.67it/s]\n"
          ]
        },
        {
          "name": "stdout",
          "output_type": "stream",
          "text": [
            "Eval -    loss: 0.20     char_acc: 0.94 captcha_acc: 0.75\n",
            "[0] True: d75b5 | Pred: d75b5\n",
            "[1] True: x7547 | Pred: x7547\n",
            "[2] True: 36bc2 | Pred: 35nc2\n",
            "[3] True: 8cccc | Pred: 8cecc\n",
            "[4] True: 36nx4 | Pred: 36nx4\n",
            "\n",
            "Epoch 88\n",
            "Train -   loss: 0.01\n",
            "Train -   loss: 0.02\n",
            "Train -   loss: 0.02\n"
          ]
        },
        {
          "name": "stderr",
          "output_type": "stream",
          "text": [
            "100%|██████████| 13/13 [00:01<00:00, 10.55it/s]\n",
            "100%|██████████| 13/13 [00:01<00:00,  8.80it/s]\n"
          ]
        },
        {
          "name": "stdout",
          "output_type": "stream",
          "text": [
            "Eval -    loss: 0.43     char_acc: 0.88 captcha_acc: 0.53\n",
            "[0] True: d75b5 | Pred: 575b5\n",
            "[1] True: x7547 | Pred: x7547\n",
            "[2] True: 36bc2 | Pred: 55bc2\n",
            "[3] True: 8cccc | Pred: 8cecc\n",
            "[4] True: 36nx4 | Pred: 36nx4\n",
            "\n",
            "Epoch 89\n",
            "Train -   loss: 0.03\n",
            "Train -   loss: 0.06\n",
            "Train -   loss: 0.10\n"
          ]
        },
        {
          "name": "stderr",
          "output_type": "stream",
          "text": [
            "100%|██████████| 13/13 [00:01<00:00, 10.32it/s]\n",
            "100%|██████████| 13/13 [00:01<00:00,  8.98it/s]\n"
          ]
        },
        {
          "name": "stdout",
          "output_type": "stream",
          "text": [
            "Eval -    loss: 0.76     char_acc: 0.82 captcha_acc: 0.36\n",
            "[0] True: d75b5 | Pred: g75b5\n",
            "[1] True: x7547 | Pred: x75n7\n",
            "[2] True: 36bc2 | Pred: 366c2\n",
            "[3] True: 8cccc | Pred: 8cccc\n",
            "[4] True: 36nx4 | Pred: 36nx4\n",
            "\n",
            "Epoch 90\n",
            "Train -   loss: 0.13\n",
            "Train -   loss: 0.14\n",
            "Train -   loss: 0.12\n"
          ]
        },
        {
          "name": "stderr",
          "output_type": "stream",
          "text": [
            "100%|██████████| 13/13 [00:01<00:00, 10.29it/s]\n",
            "100%|██████████| 13/13 [00:01<00:00,  8.89it/s]\n"
          ]
        },
        {
          "name": "stdout",
          "output_type": "stream",
          "text": [
            "Eval -    loss: 1.56     char_acc: 0.67 captcha_acc: 0.11\n",
            "[0] True: d75b5 | Pred: 67565\n",
            "[1] True: x7547 | Pred: 47567\n",
            "[2] True: 36bc2 | Pred: 38bc2\n",
            "[3] True: 8cccc | Pred: 86ccc\n",
            "[4] True: 36nx4 | Pred: 36nx4\n",
            "\n",
            "Epoch 91\n",
            "Train -   loss: 0.10\n",
            "Train -   loss: 0.11\n",
            "Train -   loss: 0.14\n"
          ]
        },
        {
          "name": "stderr",
          "output_type": "stream",
          "text": [
            "100%|██████████| 13/13 [00:01<00:00, 10.00it/s]\n",
            "100%|██████████| 13/13 [00:01<00:00,  8.81it/s]\n"
          ]
        },
        {
          "name": "stdout",
          "output_type": "stream",
          "text": [
            "Eval -    loss: 0.59     char_acc: 0.85 captcha_acc: 0.40\n",
            "[0] True: d75b5 | Pred: d75b5\n",
            "[1] True: x7547 | Pred: x7547\n",
            "[2] True: 36bc2 | Pred: 3bbc2\n",
            "[3] True: 8cccc | Pred: 8ccce\n",
            "[4] True: 36nx4 | Pred: 36nx4\n",
            "\n",
            "Epoch 92\n",
            "Train -   loss: 0.07\n",
            "Train -   loss: 0.06\n",
            "Train -   loss: 0.06\n"
          ]
        },
        {
          "name": "stderr",
          "output_type": "stream",
          "text": [
            "100%|██████████| 13/13 [00:01<00:00, 10.51it/s]\n",
            "100%|██████████| 13/13 [00:01<00:00,  8.75it/s]\n"
          ]
        },
        {
          "name": "stdout",
          "output_type": "stream",
          "text": [
            "Eval -    loss: 0.36     char_acc: 0.90 captcha_acc: 0.60\n",
            "[0] True: d75b5 | Pred: d75b5\n",
            "[1] True: x7547 | Pred: x7547\n",
            "[2] True: 36bc2 | Pred: 36d22\n",
            "[3] True: 8cccc | Pred: 8cccc\n",
            "[4] True: 36nx4 | Pred: 36nx4\n",
            "\n",
            "Epoch 93\n",
            "Train -   loss: 0.04\n",
            "Train -   loss: 0.03\n",
            "Train -   loss: 0.02\n"
          ]
        },
        {
          "name": "stderr",
          "output_type": "stream",
          "text": [
            "100%|██████████| 13/13 [00:01<00:00, 10.44it/s]\n",
            "100%|██████████| 13/13 [00:01<00:00,  8.88it/s]\n"
          ]
        },
        {
          "name": "stdout",
          "output_type": "stream",
          "text": [
            "Eval -    loss: 0.37     char_acc: 0.91 captcha_acc: 0.64\n",
            "[0] True: d75b5 | Pred: d75b5\n",
            "[1] True: x7547 | Pred: x7547\n",
            "[2] True: 36bc2 | Pred: 368c2\n",
            "[3] True: 8cccc | Pred: 8cccc\n",
            "[4] True: 36nx4 | Pred: 36nx4\n",
            "\n",
            "Epoch 94\n",
            "Train -   loss: 0.03\n",
            "Train -   loss: 0.02\n",
            "Train -   loss: 0.03\n"
          ]
        },
        {
          "name": "stderr",
          "output_type": "stream",
          "text": [
            "100%|██████████| 13/13 [00:01<00:00, 10.20it/s]\n",
            "100%|██████████| 13/13 [00:01<00:00,  8.80it/s]\n"
          ]
        },
        {
          "name": "stdout",
          "output_type": "stream",
          "text": [
            "Eval -    loss: 0.24     char_acc: 0.93 captcha_acc: 0.71\n",
            "[0] True: d75b5 | Pred: d75b5\n",
            "[1] True: x7547 | Pred: x7547\n",
            "[2] True: 36bc2 | Pred: 35bc2\n",
            "[3] True: 8cccc | Pred: 85ccc\n",
            "[4] True: 36nx4 | Pred: 36nx4\n",
            "\n",
            "Epoch 95\n",
            "Train -   loss: 0.02\n",
            "Train -   loss: 0.01\n",
            "Train -   loss: 0.01\n"
          ]
        },
        {
          "name": "stderr",
          "output_type": "stream",
          "text": [
            "100%|██████████| 13/13 [00:01<00:00, 10.67it/s]\n",
            "100%|██████████| 13/13 [00:01<00:00,  8.86it/s]\n"
          ]
        },
        {
          "name": "stdout",
          "output_type": "stream",
          "text": [
            "Eval -    loss: 0.19     char_acc: 0.95 captcha_acc: 0.77\n",
            "[0] True: d75b5 | Pred: d75b5\n",
            "[1] True: x7547 | Pred: x7547\n",
            "[2] True: 36bc2 | Pred: 368c2\n",
            "[3] True: 8cccc | Pred: 8cccc\n",
            "[4] True: 36nx4 | Pred: 36nx4\n",
            "\n",
            "Epoch 96\n",
            "Train -   loss: 0.01\n",
            "Train -   loss: 0.01\n",
            "Train -   loss: 0.01\n"
          ]
        },
        {
          "name": "stderr",
          "output_type": "stream",
          "text": [
            "100%|██████████| 13/13 [00:01<00:00, 10.48it/s]\n",
            "100%|██████████| 13/13 [00:01<00:00,  8.69it/s]\n"
          ]
        },
        {
          "name": "stdout",
          "output_type": "stream",
          "text": [
            "Eval -    loss: 0.18     char_acc: 0.95 captcha_acc: 0.76\n",
            "[0] True: d75b5 | Pred: d75b5\n",
            "[1] True: x7547 | Pred: x7547\n",
            "[2] True: 36bc2 | Pred: 36b22\n",
            "[3] True: 8cccc | Pred: 8cccc\n",
            "[4] True: 36nx4 | Pred: 36nx4\n",
            "\n",
            "Epoch 97\n",
            "Train -   loss: 0.01\n",
            "Train -   loss: 0.01\n",
            "Train -   loss: 0.01\n"
          ]
        },
        {
          "name": "stderr",
          "output_type": "stream",
          "text": [
            "100%|██████████| 13/13 [00:01<00:00, 10.03it/s]\n",
            "100%|██████████| 13/13 [00:01<00:00,  8.95it/s]\n"
          ]
        },
        {
          "name": "stdout",
          "output_type": "stream",
          "text": [
            "Eval -    loss: 0.14     char_acc: 0.95 captcha_acc: 0.79\n",
            "[0] True: d75b5 | Pred: d75b5\n",
            "[1] True: x7547 | Pred: x7547\n",
            "[2] True: 36bc2 | Pred: 36bc2\n",
            "[3] True: 8cccc | Pred: 8cccc\n",
            "[4] True: 36nx4 | Pred: 36nx4\n",
            "\n",
            "Epoch 98\n",
            "Train -   loss: 0.00\n",
            "Train -   loss: 0.00\n",
            "Train -   loss: 0.01\n"
          ]
        },
        {
          "name": "stderr",
          "output_type": "stream",
          "text": [
            "100%|██████████| 13/13 [00:01<00:00, 10.55it/s]\n",
            "100%|██████████| 13/13 [00:01<00:00,  8.79it/s]\n"
          ]
        },
        {
          "name": "stdout",
          "output_type": "stream",
          "text": [
            "Eval -    loss: 0.14     char_acc: 0.95 captcha_acc: 0.77\n",
            "[0] True: d75b5 | Pred: d75b5\n",
            "[1] True: x7547 | Pred: x7547\n",
            "[2] True: 36bc2 | Pred: 36b22\n",
            "[3] True: 8cccc | Pred: 8cccc\n",
            "[4] True: 36nx4 | Pred: 36nx4\n",
            "\n",
            "Epoch 99\n",
            "Train -   loss: 0.00\n",
            "Train -   loss: 0.00\n",
            "Train -   loss: 0.00\n"
          ]
        },
        {
          "name": "stderr",
          "output_type": "stream",
          "text": [
            "100%|██████████| 13/13 [00:01<00:00, 10.21it/s]\n",
            "100%|██████████| 13/13 [00:01<00:00,  8.77it/s]\n"
          ]
        },
        {
          "name": "stdout",
          "output_type": "stream",
          "text": [
            "Eval -    loss: 0.13     char_acc: 0.97 captcha_acc: 0.85\n",
            "[0] True: d75b5 | Pred: d75b5\n",
            "[1] True: x7547 | Pred: x7547\n",
            "[2] True: 36bc2 | Pred: 36bc2\n",
            "[3] True: 8cccc | Pred: 8cccc\n",
            "[4] True: 36nx4 | Pred: 36nx4\n",
            "\n",
            "Epoch 100\n",
            "Train -   loss: 0.00\n",
            "Train -   loss: 0.00\n",
            "Train -   loss: 0.00\n"
          ]
        },
        {
          "name": "stderr",
          "output_type": "stream",
          "text": [
            "100%|██████████| 13/13 [00:01<00:00, 10.66it/s]\n",
            "100%|██████████| 13/13 [00:01<00:00,  8.65it/s]\n"
          ]
        },
        {
          "name": "stdout",
          "output_type": "stream",
          "text": [
            "Eval -    loss: 0.12     char_acc: 0.97 captcha_acc: 0.86\n",
            "[0] True: d75b5 | Pred: d75b5\n",
            "[1] True: x7547 | Pred: x7547\n",
            "[2] True: 36bc2 | Pred: 36bc2\n",
            "[3] True: 8cccc | Pred: 8cccc\n",
            "[4] True: 36nx4 | Pred: 36nx4\n"
          ]
        }
      ],
      "source": [
        "# captcha_dir = \"captcha_data/samples\"\n",
        "captcha_dir = \"drive/MyDrive/captcha_data/samples\"\n",
        "batch_size = 16\n",
        "num_workers = 0\n",
        "device = 'cuda' if torch.cuda.is_available() else 'cpu'\n",
        "\n",
        "dataset = CaptchaDataset(captcha_dir)\n",
        "train_size = int(0.8 * len(dataset))\n",
        "val_size = len(dataset) - train_size\n",
        "train_dataset, val_dataset = torch.utils.data.random_split(dataset, [train_size, val_size])\n",
        "\n",
        "train_loader = DataLoader(train_dataset, batch_size=batch_size, shuffle=True, num_workers=num_workers)\n",
        "val_loader = DataLoader(val_dataset, batch_size=batch_size, shuffle=False, num_workers=num_workers)\n",
        "\n",
        "model = DenseNet(\n",
        "    growth_rate=32,\n",
        "    block_config=(6, 6, 24, 16),\n",
        "    num_init_features=64,\n",
        "    bn_size=4,\n",
        "    drop_rate=0.2,\n",
        "    num_classes=36,\n",
        "    num_characters=5\n",
        ")\n",
        "\n",
        "config = {\n",
        "    'train_loader': train_loader,\n",
        "    'val_loader': val_loader,\n",
        "    'optimizer': torch.optim.Adam(model.parameters(), lr=0.001),\n",
        "    'loss': nn.CrossEntropyLoss(),\n",
        "    'clip': 1.0,\n",
        "    'device': device,\n",
        "    'epochs': 100,\n",
        "    'log_every': 20,\n",
        "}\n",
        "\n",
        "train_losses, eval_losses, char_accuracies, captcha_accuracies = train_model(model, train_loader, val_loader, config)"
      ]
    },
    {
      "cell_type": "code",
      "execution_count": 32,
      "id": "63085329",
      "metadata": {
        "colab": {
          "base_uri": "https://localhost:8080/",
          "height": 464
        },
        "id": "63085329",
        "outputId": "47609b7d-047c-4ea5-81d5-46f676bb3b5f"
      },
      "outputs": [
        {
          "data": {
            "image/png": "[encoded data removed]",
            "text/plain": [
              "<Figure size 1200x500 with 2 Axes>"
            ]
          },
          "metadata": {},
          "output_type": "display_data"
        }
      ],
      "source": [
        "train_losses = [t.item() if torch.is_tensor(t) else t for t in train_losses]\n",
        "eval_losses = [t.item() if torch.is_tensor(t) else t for t in eval_losses]\n",
        "char_accuracies = [t.item() if torch.is_tensor(t) else t for t in char_accuracies]\n",
        "captcha_accuracies = [t.item() if torch.is_tensor(t) else t for t in captcha_accuracies]\n",
        "\n",
        "epochs_range = list(range(1, len(train_losses) + 1))\n",
        "\n",
        "plt.figure(figsize=(12, 5))\n",
        "\n",
        "plt.subplot(1, 2, 1)\n",
        "plt.plot(epochs_range, train_losses, label='Train Loss')\n",
        "plt.plot(epochs_range, eval_losses, label='Eval Loss')\n",
        "plt.title(\"Loss Over Epochs\")\n",
        "plt.xlabel(\"Epoch\")\n",
        "plt.ylabel(\"Loss\")\n",
        "plt.legend()\n",
        "\n",
        "plt.subplot(1, 2, 2)\n",
        "plt.plot(epochs_range, char_accuracies, label='Character Accuracy')\n",
        "plt.plot(epochs_range, captcha_accuracies, label='Captcha Accuracy')\n",
        "plt.title(\"Accuracy Over Epochs\")\n",
        "plt.xlabel(\"Epoch\")\n",
        "plt.ylabel(\"Accuracy\")\n",
        "plt.legend()\n",
        "\n",
        "plt.tight_layout()\n",
        "plt.show()"
      ]
    },
    {
      "cell_type": "code",
      "execution_count": 32,
      "id": "f8b0d98c",
      "metadata": {
        "id": "f8b0d98c"
      },
      "outputs": [],
      "source": []
    }
  ],
  "metadata": {
    "accelerator": "GPU",
    "colab": {
      "gpuType": "T4",
      "provenance": []
    },
    "kernelspec": {
      "display_name": "INF8225",
      "language": "python",
      "name": "python3"
    },
    "language_info": {
      "codemirror_mode": {
        "name": "ipython",
        "version": 3
      },
      "file_extension": ".py",
      "mimetype": "text/x-python",
      "name": "python",
      "nbconvert_exporter": "python",
      "pygments_lexer": "ipython3",
      "version": "3.12.8"
    }
  },
  "nbformat": 4,
  "nbformat_minor": 5
}
