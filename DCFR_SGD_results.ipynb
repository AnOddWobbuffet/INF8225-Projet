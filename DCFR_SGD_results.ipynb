{
  "cells": [
    {
      "cell_type": "code",
      "source": [
        "# for execution on colab\n",
        "\n",
        "from google.colab import drive\n",
        "drive.mount('/content/drive')\n",
        "import sys\n",
        "sys.path.append('/content/drive/MyDrive')"
      ],
      "metadata": {
        "colab": {
          "base_uri": "https://localhost:8080/"
        },
        "id": "KfJkTcwvv6hi",
        "outputId": "11f8ef60-1911-40b5-c52c-c2f2e5ca1964"
      },
      "id": "KfJkTcwvv6hi",
      "execution_count": 16,
      "outputs": [
        {
          "output_type": "stream",
          "name": "stdout",
          "text": [
            "Drive already mounted at /content/drive; to attempt to forcibly remount, call drive.mount(\"/content/drive\", force_remount=True).\n"
          ]
        }
      ]
    },
    {
      "cell_type": "code",
      "execution_count": 17,
      "id": "9f466b04",
      "metadata": {
        "id": "9f466b04"
      },
      "outputs": [],
      "source": [
        "# from densenet.py\n",
        "from densenet import DenseNet\n",
        "from torch.utils.data import Dataset, DataLoader\n",
        "import os\n",
        "import cv2\n",
        "from tqdm import tqdm\n",
        "import torch\n",
        "import torch.nn as nn\n",
        "import torch.nn.functional as F\n",
        "import numpy as np\n",
        "from collections import defaultdict\n",
        "import matplotlib.pyplot as plt\n"
      ]
    },
    {
      "cell_type": "code",
      "execution_count": 18,
      "id": "e2af7728",
      "metadata": {
        "id": "e2af7728"
      },
      "outputs": [],
      "source": [
        "# Define possible characters in the captchas from 0-9 and a-z\n",
        "CHARSET = \"0123456789abcdefghijklmnopqrstuvwxyz\"\n",
        "# Map each character to an index\n",
        "CHAR2IDX = {c: i for i, c in enumerate(CHARSET)}\n",
        "\n",
        "def encode_label(text, num_chars=5):\n",
        "    return torch.LongTensor([CHAR2IDX[c] for c in text.lower()[:num_chars]])\n",
        "\n",
        "class CaptchaDataset(Dataset):\n",
        "    def __init__(self, image_dir, max_len=5):\n",
        "        self.paths = [os.path.join(image_dir, f) for f in os.listdir(image_dir) if f.endswith('.png')]\n",
        "        self.max_len = max_len\n",
        "\n",
        "    def __len__(self):\n",
        "        return len(self.paths)\n",
        "\n",
        "    def __getitem__(self, idx):\n",
        "        path = self.paths[idx]\n",
        "        img = cv2.imread(path, cv2.IMREAD_GRAYSCALE)\n",
        "        img = cv2.resize(img, (224, 224)) / 255.0\n",
        "        img = torch.tensor(img).unsqueeze(0).float()\n",
        "        label_str = os.path.basename(path).split(\".\")[0]\n",
        "        label = encode_label(label_str, self.max_len)\n",
        "        return img, label"
      ]
    },
    {
      "cell_type": "code",
      "execution_count": 19,
      "id": "c20974ae",
      "metadata": {
        "id": "c20974ae"
      },
      "outputs": [],
      "source": [
        "def get_accuracies(model, dataloader, device='cuda'):\n",
        "    \"\"\"\n",
        "    Calculate 2 accuracies for captchas:\n",
        "    - character accuracy: number of correct characters / total characters\n",
        "    - captcha accuracy: number of correct captchas / total captchas\n",
        "    where the captcha accuracy is defined as the number of correct predictions for all 5 characters\n",
        "    \"\"\"\n",
        "    total_chars = 0\n",
        "    correct_chars = 0\n",
        "    total_captcha = 0\n",
        "    correct_captcha = 0\n",
        "    model.eval()\n",
        "\n",
        "    with torch.no_grad():\n",
        "        for images, labels in tqdm(dataloader):\n",
        "            images, labels = images.to(device), labels.to(device)\n",
        "\n",
        "            preds = model(images)\n",
        "            predicted_chars = torch.stack([torch.argmax(pred, dim=1) for pred in preds], dim=1)\n",
        "\n",
        "            # add to the total counts\n",
        "            total_chars += labels.numel()\n",
        "            # sum the number of correct characters\n",
        "            correct_chars += (predicted_chars == labels).sum().item()\n",
        "\n",
        "            total_captcha += labels.size(0)\n",
        "            # check if all characters are correct for the captcha\n",
        "            correct_captcha += (predicted_chars == labels).all(dim=1).sum().item()\n",
        "\n",
        "    char_acc = correct_chars / total_chars\n",
        "    captcha_acc = correct_captcha / total_captcha\n",
        "    return char_acc, captcha_acc\n",
        "\n",
        "# training loop and logs based on the code from TP3\n",
        "def print_logs(dataset_type: str, logs: dict):\n",
        "    desc = [\n",
        "        f'{name}: {value:.2f}'\n",
        "        for name, value in logs.items()\n",
        "    ]\n",
        "    desc = '\\t'.join(desc)\n",
        "    desc = f'{dataset_type} -\\t' + desc\n",
        "    desc = desc.expandtabs(5)\n",
        "    print(desc)\n",
        "\n",
        "def loss_batch(model, x, y, config):\n",
        "    \"\"\"\n",
        "    Compute loss associated with this batch.\n",
        "    \"\"\"\n",
        "    device = config['device']\n",
        "    loss_fn = config['loss']\n",
        "    metrics = dict()\n",
        "\n",
        "    x, y = x.to(device), y.to(device)\n",
        "\n",
        "    preds = model(x)\n",
        "    targets = y\n",
        "\n",
        "    logits = torch.stack(preds, dim=1)\n",
        "    logits = logits.view(-1, logits.shape[-1])\n",
        "    targets = targets.view(-1)\n",
        "\n",
        "    loss = loss_fn(logits, targets)\n",
        "    # metrics['loss'] = loss.item()\n",
        "    metrics['loss'] = loss\n",
        "    return metrics\n",
        "\n",
        "def eval_model(model, dataloader, config):\n",
        "    \"\"\"\n",
        "    Evaluate the model on the given dataloader.\n",
        "    \"\"\"\n",
        "    device = config['device']\n",
        "    logs = defaultdict(list)\n",
        "\n",
        "    model.to(device)\n",
        "    model.eval()\n",
        "\n",
        "    with torch.no_grad():\n",
        "        for x, y in tqdm(dataloader):\n",
        "            metrics = loss_batch(model, x, y, config)\n",
        "            for name, value in metrics.items():\n",
        "                logs[name].append(value)\n",
        "\n",
        "    for name in logs:\n",
        "        logs[name] = sum(logs[name]) / len(logs[name])\n",
        "\n",
        "    char_acc, captcha_acc = get_accuracies(model, dataloader, device)\n",
        "    logs['char_acc'] = char_acc\n",
        "    logs['captcha_acc'] = captcha_acc\n",
        "    return logs\n",
        "\n",
        "def train_model(model, train_loader, val_loader, config):\n",
        "    train_loader = config['train_loader']\n",
        "    val_loader = config['val_loader']\n",
        "    optimizer = config['optimizer']\n",
        "    clip = config['clip']\n",
        "    device = config['device']\n",
        "    epochs = config['epochs']\n",
        "    log_every = config['log_every']\n",
        "\n",
        "    print(f'Starting training for {config[\"epochs\"]} epochs, using {device}.')\n",
        "\n",
        "    # for visualization\n",
        "    train_losses = []\n",
        "    eval_losses = []\n",
        "    char_accuracies = []\n",
        "    captcha_accuracies = []\n",
        "\n",
        "    for epoch in range(epochs):\n",
        "        print(f\"\\nEpoch {epoch + 1}\")\n",
        "        model.to(device)\n",
        "        model.train()\n",
        "        logs = defaultdict(list)\n",
        "\n",
        "        for batch_id, (x, y) in enumerate(train_loader):\n",
        "            optimizer.zero_grad()\n",
        "            metrics = loss_batch(model, x, y, config)\n",
        "            loss = metrics['loss']\n",
        "\n",
        "            torch.nn.utils.clip_grad_norm_(model.parameters(), clip)\n",
        "            loss.backward()\n",
        "            optimizer.step()\n",
        "\n",
        "            logs['loss'].append(loss.item())\n",
        "\n",
        "            if batch_id % log_every == 0 and batch_id > 0:\n",
        "                avg_logs = {name: np.mean(vals) for name, vals in logs.items()}\n",
        "                print_logs(\"Train\", avg_logs)\n",
        "                logs = defaultdict(list)\n",
        "\n",
        "        if len(logs) > 0:\n",
        "            avg_logs = {name: np.mean(vals) for name, vals in logs.items()}\n",
        "            print_logs(\"Train\", avg_logs)\n",
        "\n",
        "        val_logs = eval_model(model, val_loader, config)\n",
        "        print_logs(\"Eval\", val_logs)\n",
        "\n",
        "        train_losses.append(avg_logs['loss'])\n",
        "        eval_losses.append(val_logs['loss'])\n",
        "        char_accuracies.append(val_logs['char_acc'])\n",
        "        captcha_accuracies.append(val_logs['captcha_acc'])\n",
        "\n",
        "        # preview predictions from validation set\n",
        "        sample_images, sample_labels = next(iter(val_loader))\n",
        "        sample_images, sample_labels = sample_images.to(device), sample_labels.to(device)\n",
        "        sample_preds = model(sample_images)\n",
        "        sample_pred_chars = torch.stack([torch.argmax(p, dim=1) for p in sample_preds], dim=1)\n",
        "        for i in range(min(5, sample_images.size(0))):\n",
        "            pred_str = ''.join(CHARSET[c.item()] for c in sample_pred_chars[i])\n",
        "            true_str = ''.join(CHARSET[c.item()] for c in sample_labels[i])\n",
        "            print(f\"[{i}] True: {true_str} | Pred: {pred_str}\")\n",
        "\n",
        "    return train_losses, eval_losses, char_accuracies, captcha_accuracies\n",
        "\n"
      ]
    },
    {
      "cell_type": "markdown",
      "source": [
        "### For training, the paper usese 100 epochs with a batch size of 16 and learning rate of 0.001, with SGD as the optimizer."
      ],
      "metadata": {
        "id": "vWinDmdsyFb5"
      },
      "id": "vWinDmdsyFb5"
    },
    {
      "cell_type": "code",
      "source": [
        "print(\"📂 Current working directory:\")\n",
        "print(os.getcwd())\n",
        "print(\"\\n📂 Contents:\")\n",
        "print(os.listdir('.'))"
      ],
      "metadata": {
        "colab": {
          "base_uri": "https://localhost:8080/"
        },
        "id": "aMd6-nozzUjs",
        "outputId": "79e213b8-2c73-46cf-94fc-6a35e5a1f01f"
      },
      "id": "aMd6-nozzUjs",
      "execution_count": 22,
      "outputs": [
        {
          "output_type": "stream",
          "name": "stdout",
          "text": [
            "📂 Current working directory:\n",
            "/content\n",
            "\n",
            "📂 Contents:\n",
            "['.config', 'drive', 'sample_data']\n"
          ]
        }
      ]
    },
    {
      "cell_type": "code",
      "execution_count": 23,
      "id": "4656c83d",
      "metadata": {
        "colab": {
          "base_uri": "https://localhost:8080/"
        },
        "id": "4656c83d",
        "outputId": "1580c95b-2d55-4bd2-d29c-60fe6fe317d4"
      },
      "outputs": [
        {
          "output_type": "stream",
          "name": "stdout",
          "text": [
            "Starting training for 100 epochs, using cuda.\n",
            "\n",
            "Epoch 1\n",
            "Train -   loss: 3.58\n"
          ]
        },
        {
          "output_type": "stream",
          "name": "stderr",
          "text": [
            "100%|██████████| 5/5 [00:00<00:00,  9.54it/s]\n",
            "100%|██████████| 5/5 [00:00<00:00,  6.77it/s]\n"
          ]
        },
        {
          "output_type": "stream",
          "name": "stdout",
          "text": [
            "Eval -    loss: 3.58     char_acc: 0.06 captcha_acc: 0.00\n",
            "[0] True: 8cccc | Pred: 6pak4\n",
            "[1] True: 8d4wm | Pred: 6pak4\n",
            "[2] True: b55d6 | Pred: 6pak4\n",
            "[3] True: 8gecm | Pred: 6pak4\n",
            "[4] True: 3ny45 | Pred: 6pak4\n",
            "\n",
            "Epoch 2\n",
            "Train -   loss: 3.55\n"
          ]
        },
        {
          "output_type": "stream",
          "name": "stderr",
          "text": [
            "100%|██████████| 5/5 [00:00<00:00,  9.83it/s]\n",
            "100%|██████████| 5/5 [00:00<00:00,  9.02it/s]\n"
          ]
        },
        {
          "output_type": "stream",
          "name": "stdout",
          "text": [
            "Eval -    loss: 3.57     char_acc: 0.03 captcha_acc: 0.00\n",
            "[0] True: 8cccc | Pred: fpfk7\n",
            "[1] True: 8d4wm | Pred: fpfk7\n",
            "[2] True: b55d6 | Pred: fpfk7\n",
            "[3] True: 8gecm | Pred: fpfk7\n",
            "[4] True: 3ny45 | Pred: fpfk7\n",
            "\n",
            "Epoch 3\n",
            "Train -   loss: 3.53\n"
          ]
        },
        {
          "output_type": "stream",
          "name": "stderr",
          "text": [
            "100%|██████████| 5/5 [00:00<00:00, 10.27it/s]\n",
            "100%|██████████| 5/5 [00:00<00:00,  8.83it/s]\n"
          ]
        },
        {
          "output_type": "stream",
          "name": "stdout",
          "text": [
            "Eval -    loss: 3.54     char_acc: 0.07 captcha_acc: 0.00\n",
            "[0] True: 8cccc | Pred: 6pf87\n",
            "[1] True: 8d4wm | Pred: 6pf87\n",
            "[2] True: b55d6 | Pred: 6pf87\n",
            "[3] True: 8gecm | Pred: 6pe87\n",
            "[4] True: 3ny45 | Pred: fpf87\n",
            "\n",
            "Epoch 4\n",
            "Train -   loss: 3.50\n"
          ]
        },
        {
          "output_type": "stream",
          "name": "stderr",
          "text": [
            "100%|██████████| 5/5 [00:00<00:00,  8.64it/s]\n",
            "100%|██████████| 5/5 [00:00<00:00,  8.03it/s]\n"
          ]
        },
        {
          "output_type": "stream",
          "name": "stdout",
          "text": [
            "Eval -    loss: 3.52     char_acc: 0.07 captcha_acc: 0.00\n",
            "[0] True: 8cccc | Pred: 6pe84\n",
            "[1] True: 8d4wm | Pred: 62f87\n",
            "[2] True: b55d6 | Pred: 62e84\n",
            "[3] True: 8gecm | Pred: 62e87\n",
            "[4] True: 3ny45 | Pred: 6pe87\n",
            "\n",
            "Epoch 5\n",
            "Train -   loss: 3.48\n"
          ]
        },
        {
          "output_type": "stream",
          "name": "stderr",
          "text": [
            "100%|██████████| 5/5 [00:00<00:00, 10.60it/s]\n",
            "100%|██████████| 5/5 [00:00<00:00,  8.92it/s]\n"
          ]
        },
        {
          "output_type": "stream",
          "name": "stdout",
          "text": [
            "Eval -    loss: 3.50     char_acc: 0.08 captcha_acc: 0.00\n",
            "[0] True: 8cccc | Pred: 62e67\n",
            "[1] True: 8d4wm | Pred: 62f87\n",
            "[2] True: b55d6 | Pred: 62e84\n",
            "[3] True: 8gecm | Pred: 62e87\n",
            "[4] True: 3ny45 | Pred: 62e67\n",
            "\n",
            "Epoch 6\n",
            "Train -   loss: 3.45\n"
          ]
        },
        {
          "output_type": "stream",
          "name": "stderr",
          "text": [
            "100%|██████████| 5/5 [00:00<00:00,  9.46it/s]\n",
            "100%|██████████| 5/5 [00:00<00:00,  8.42it/s]\n"
          ]
        },
        {
          "output_type": "stream",
          "name": "stdout",
          "text": [
            "Eval -    loss: 3.48     char_acc: 0.07 captcha_acc: 0.00\n",
            "[0] True: 8cccc | Pred: 62e84\n",
            "[1] True: 8d4wm | Pred: 62f84\n",
            "[2] True: b55d6 | Pred: 62e84\n",
            "[3] True: 8gecm | Pred: 62e87\n",
            "[4] True: 3ny45 | Pred: 6pf34\n",
            "\n",
            "Epoch 7\n",
            "Train -   loss: 3.43\n"
          ]
        },
        {
          "output_type": "stream",
          "name": "stderr",
          "text": [
            "100%|██████████| 5/5 [00:00<00:00, 10.29it/s]\n",
            "100%|██████████| 5/5 [00:00<00:00,  8.91it/s]\n"
          ]
        },
        {
          "output_type": "stream",
          "name": "stdout",
          "text": [
            "Eval -    loss: 3.46     char_acc: 0.06 captcha_acc: 0.00\n",
            "[0] True: 8cccc | Pred: 6ne64\n",
            "[1] True: 8d4wm | Pred: 6nf87\n",
            "[2] True: b55d6 | Pred: 6ne84\n",
            "[3] True: 8gecm | Pred: 6nf87\n",
            "[4] True: 3ny45 | Pred: 6pf54\n",
            "\n",
            "Epoch 8\n",
            "Train -   loss: 3.41\n"
          ]
        },
        {
          "output_type": "stream",
          "name": "stderr",
          "text": [
            "100%|██████████| 5/5 [00:00<00:00, 10.10it/s]\n",
            "100%|██████████| 5/5 [00:00<00:00,  9.02it/s]\n"
          ]
        },
        {
          "output_type": "stream",
          "name": "stdout",
          "text": [
            "Eval -    loss: 3.44     char_acc: 0.09 captcha_acc: 0.00\n",
            "[0] True: 8cccc | Pred: 6ne8n\n",
            "[1] True: 8d4wm | Pred: 6nf57\n",
            "[2] True: b55d6 | Pred: 6ne84\n",
            "[3] True: 8gecm | Pred: 6ne8n\n",
            "[4] True: 3ny45 | Pred: 6np54\n",
            "\n",
            "Epoch 9\n",
            "Train -   loss: 3.39\n"
          ]
        },
        {
          "output_type": "stream",
          "name": "stderr",
          "text": [
            "100%|██████████| 5/5 [00:00<00:00,  9.57it/s]\n",
            "100%|██████████| 5/5 [00:00<00:00,  9.09it/s]\n"
          ]
        },
        {
          "output_type": "stream",
          "name": "stdout",
          "text": [
            "Eval -    loss: 3.43     char_acc: 0.09 captcha_acc: 0.00\n",
            "[0] True: 8cccc | Pred: 62e3n\n",
            "[1] True: 8d4wm | Pred: 6nf87\n",
            "[2] True: b55d6 | Pred: 62e8n\n",
            "[3] True: 8gecm | Pred: 62e8n\n",
            "[4] True: 3ny45 | Pred: 62f3n\n",
            "\n",
            "Epoch 10\n",
            "Train -   loss: 3.37\n"
          ]
        },
        {
          "output_type": "stream",
          "name": "stderr",
          "text": [
            "100%|██████████| 5/5 [00:00<00:00,  9.73it/s]\n",
            "100%|██████████| 5/5 [00:00<00:00,  8.87it/s]\n"
          ]
        },
        {
          "output_type": "stream",
          "name": "stdout",
          "text": [
            "Eval -    loss: 3.41     char_acc: 0.10 captcha_acc: 0.00\n",
            "[0] True: 8cccc | Pred: 6ne6n\n",
            "[1] True: 8d4wm | Pred: 6nf5n\n",
            "[2] True: b55d6 | Pred: 6ne8n\n",
            "[3] True: 8gecm | Pred: 6ne8n\n",
            "[4] True: 3ny45 | Pred: 6nf54\n",
            "\n",
            "Epoch 11\n",
            "Train -   loss: 3.35\n"
          ]
        },
        {
          "output_type": "stream",
          "name": "stderr",
          "text": [
            "100%|██████████| 5/5 [00:00<00:00, 10.43it/s]\n",
            "100%|██████████| 5/5 [00:00<00:00,  8.84it/s]\n"
          ]
        },
        {
          "output_type": "stream",
          "name": "stdout",
          "text": [
            "Eval -    loss: 3.40     char_acc: 0.09 captcha_acc: 0.00\n",
            "[0] True: 8cccc | Pred: 6ne5n\n",
            "[1] True: 8d4wm | Pred: 6nf5n\n",
            "[2] True: b55d6 | Pred: 6ne54\n",
            "[3] True: 8gecm | Pred: 6nf8n\n",
            "[4] True: 3ny45 | Pred: 6nf54\n",
            "\n",
            "Epoch 12\n",
            "Train -   loss: 3.33\n"
          ]
        },
        {
          "output_type": "stream",
          "name": "stderr",
          "text": [
            "100%|██████████| 5/5 [00:00<00:00,  8.69it/s]\n",
            "100%|██████████| 5/5 [00:00<00:00,  8.42it/s]\n"
          ]
        },
        {
          "output_type": "stream",
          "name": "stdout",
          "text": [
            "Eval -    loss: 3.38     char_acc: 0.10 captcha_acc: 0.00\n",
            "[0] True: 8cccc | Pred: 6ne6n\n",
            "[1] True: 8d4wm | Pred: 6nf5n\n",
            "[2] True: b55d6 | Pred: 6nf8n\n",
            "[3] True: 8gecm | Pred: 6nf8n\n",
            "[4] True: 3ny45 | Pred: 6nf5n\n",
            "\n",
            "Epoch 13\n",
            "Train -   loss: 3.32\n"
          ]
        },
        {
          "output_type": "stream",
          "name": "stderr",
          "text": [
            "100%|██████████| 5/5 [00:00<00:00, 10.34it/s]\n",
            "100%|██████████| 5/5 [00:00<00:00,  8.98it/s]\n"
          ]
        },
        {
          "output_type": "stream",
          "name": "stdout",
          "text": [
            "Eval -    loss: 3.36     char_acc: 0.10 captcha_acc: 0.00\n",
            "[0] True: 8cccc | Pred: 6ne5n\n",
            "[1] True: 8d4wm | Pred: 6nf5n\n",
            "[2] True: b55d6 | Pred: 6ne5n\n",
            "[3] True: 8gecm | Pred: 6ne8n\n",
            "[4] True: 3ny45 | Pred: 6nf5n\n",
            "\n",
            "Epoch 14\n",
            "Train -   loss: 3.30\n"
          ]
        },
        {
          "output_type": "stream",
          "name": "stderr",
          "text": [
            "100%|██████████| 5/5 [00:00<00:00, 10.25it/s]\n",
            "100%|██████████| 5/5 [00:00<00:00,  8.92it/s]\n"
          ]
        },
        {
          "output_type": "stream",
          "name": "stdout",
          "text": [
            "Eval -    loss: 3.35     char_acc: 0.10 captcha_acc: 0.00\n",
            "[0] True: 8cccc | Pred: 6ne5n\n",
            "[1] True: 8d4wm | Pred: 6nf5n\n",
            "[2] True: b55d6 | Pred: 6ne5n\n",
            "[3] True: 8gecm | Pred: 6ne8n\n",
            "[4] True: 3ny45 | Pred: 6nf54\n",
            "\n",
            "Epoch 15\n",
            "Train -   loss: 3.28\n"
          ]
        },
        {
          "output_type": "stream",
          "name": "stderr",
          "text": [
            "100%|██████████| 5/5 [00:00<00:00, 10.18it/s]\n",
            "100%|██████████| 5/5 [00:00<00:00,  8.90it/s]\n"
          ]
        },
        {
          "output_type": "stream",
          "name": "stdout",
          "text": [
            "Eval -    loss: 3.34     char_acc: 0.10 captcha_acc: 0.00\n",
            "[0] True: 8cccc | Pred: 6ne5n\n",
            "[1] True: 8d4wm | Pred: 6nf5n\n",
            "[2] True: b55d6 | Pred: 6nf5n\n",
            "[3] True: 8gecm | Pred: 6neyn\n",
            "[4] True: 3ny45 | Pred: 6nf5n\n",
            "\n",
            "Epoch 16\n",
            "Train -   loss: 3.27\n"
          ]
        },
        {
          "output_type": "stream",
          "name": "stderr",
          "text": [
            "100%|██████████| 5/5 [00:00<00:00, 10.50it/s]\n",
            "100%|██████████| 5/5 [00:00<00:00,  9.12it/s]\n"
          ]
        },
        {
          "output_type": "stream",
          "name": "stdout",
          "text": [
            "Eval -    loss: 3.32     char_acc: 0.10 captcha_acc: 0.00\n",
            "[0] True: 8cccc | Pred: 6nf5n\n",
            "[1] True: 8d4wm | Pred: 6nf5n\n",
            "[2] True: b55d6 | Pred: 6nf5n\n",
            "[3] True: 8gecm | Pred: 6nfpn\n",
            "[4] True: 3ny45 | Pred: 6nf5n\n",
            "\n",
            "Epoch 17\n",
            "Train -   loss: 3.25\n"
          ]
        },
        {
          "output_type": "stream",
          "name": "stderr",
          "text": [
            "100%|██████████| 5/5 [00:00<00:00, 10.29it/s]\n",
            "100%|██████████| 5/5 [00:00<00:00,  8.34it/s]\n"
          ]
        },
        {
          "output_type": "stream",
          "name": "stdout",
          "text": [
            "Eval -    loss: 3.31     char_acc: 0.10 captcha_acc: 0.00\n",
            "[0] True: 8cccc | Pred: 6nn5n\n",
            "[1] True: 8d4wm | Pred: 6nf5n\n",
            "[2] True: b55d6 | Pred: 6nf5n\n",
            "[3] True: 8gecm | Pred: 6nfpn\n",
            "[4] True: 3ny45 | Pred: 6nf5n\n",
            "\n",
            "Epoch 18\n",
            "Train -   loss: 3.24\n"
          ]
        },
        {
          "output_type": "stream",
          "name": "stderr",
          "text": [
            "100%|██████████| 5/5 [00:00<00:00, 10.65it/s]\n",
            "100%|██████████| 5/5 [00:00<00:00,  8.90it/s]\n"
          ]
        },
        {
          "output_type": "stream",
          "name": "stdout",
          "text": [
            "Eval -    loss: 3.30     char_acc: 0.10 captcha_acc: 0.00\n",
            "[0] True: 8cccc | Pred: 6nn6n\n",
            "[1] True: 8d4wm | Pred: 6nn5n\n",
            "[2] True: b55d6 | Pred: 6nn8n\n",
            "[3] True: 8gecm | Pred: 6nfpn\n",
            "[4] True: 3ny45 | Pred: 6nfpn\n",
            "\n",
            "Epoch 19\n",
            "Train -   loss: 3.23\n"
          ]
        },
        {
          "output_type": "stream",
          "name": "stderr",
          "text": [
            "100%|██████████| 5/5 [00:00<00:00, 10.58it/s]\n",
            "100%|██████████| 5/5 [00:00<00:00,  8.76it/s]\n"
          ]
        },
        {
          "output_type": "stream",
          "name": "stdout",
          "text": [
            "Eval -    loss: 3.29     char_acc: 0.11 captcha_acc: 0.00\n",
            "[0] True: 8cccc | Pred: 6nn5n\n",
            "[1] True: 8d4wm | Pred: 6nf5n\n",
            "[2] True: b55d6 | Pred: 6nn5n\n",
            "[3] True: 8gecm | Pred: 6nfpn\n",
            "[4] True: 3ny45 | Pred: 6nfpn\n",
            "\n",
            "Epoch 20\n",
            "Train -   loss: 3.21\n"
          ]
        },
        {
          "output_type": "stream",
          "name": "stderr",
          "text": [
            "100%|██████████| 5/5 [00:00<00:00, 10.58it/s]\n",
            "100%|██████████| 5/5 [00:00<00:00,  9.03it/s]\n"
          ]
        },
        {
          "output_type": "stream",
          "name": "stdout",
          "text": [
            "Eval -    loss: 3.27     char_acc: 0.11 captcha_acc: 0.00\n",
            "[0] True: 8cccc | Pred: 6nn5n\n",
            "[1] True: 8d4wm | Pred: 6nn5n\n",
            "[2] True: b55d6 | Pred: 6nn5n\n",
            "[3] True: 8gecm | Pred: 6nfpn\n",
            "[4] True: 3ny45 | Pred: 6nfpn\n",
            "\n",
            "Epoch 21\n",
            "Train -   loss: 3.20\n"
          ]
        },
        {
          "output_type": "stream",
          "name": "stderr",
          "text": [
            "100%|██████████| 5/5 [00:00<00:00, 10.49it/s]\n",
            "100%|██████████| 5/5 [00:00<00:00,  8.96it/s]\n"
          ]
        },
        {
          "output_type": "stream",
          "name": "stdout",
          "text": [
            "Eval -    loss: 3.26     char_acc: 0.11 captcha_acc: 0.00\n",
            "[0] True: 8cccc | Pred: 6nn5n\n",
            "[1] True: 8d4wm | Pred: 6nn5n\n",
            "[2] True: b55d6 | Pred: 6nn5n\n",
            "[3] True: 8gecm | Pred: 6nnpn\n",
            "[4] True: 3ny45 | Pred: 6nnpn\n",
            "\n",
            "Epoch 22\n",
            "Train -   loss: 3.19\n"
          ]
        },
        {
          "output_type": "stream",
          "name": "stderr",
          "text": [
            "100%|██████████| 5/5 [00:00<00:00,  9.53it/s]\n",
            "100%|██████████| 5/5 [00:00<00:00,  8.65it/s]\n"
          ]
        },
        {
          "output_type": "stream",
          "name": "stdout",
          "text": [
            "Eval -    loss: 3.25     char_acc: 0.11 captcha_acc: 0.00\n",
            "[0] True: 8cccc | Pred: 6nn5n\n",
            "[1] True: 8d4wm | Pred: 6nn5n\n",
            "[2] True: b55d6 | Pred: 6nn5n\n",
            "[3] True: 8gecm | Pred: 6nnpn\n",
            "[4] True: 3ny45 | Pred: 6nn5n\n",
            "\n",
            "Epoch 23\n",
            "Train -   loss: 3.17\n"
          ]
        },
        {
          "output_type": "stream",
          "name": "stderr",
          "text": [
            "100%|██████████| 5/5 [00:00<00:00,  9.97it/s]\n",
            "100%|██████████| 5/5 [00:00<00:00,  8.75it/s]\n"
          ]
        },
        {
          "output_type": "stream",
          "name": "stdout",
          "text": [
            "Eval -    loss: 3.25     char_acc: 0.11 captcha_acc: 0.00\n",
            "[0] True: 8cccc | Pred: 6nn5n\n",
            "[1] True: 8d4wm | Pred: 6nn5n\n",
            "[2] True: b55d6 | Pred: 6nn5n\n",
            "[3] True: 8gecm | Pred: 6nnpn\n",
            "[4] True: 3ny45 | Pred: 6nnpn\n",
            "\n",
            "Epoch 24\n",
            "Train -   loss: 3.16\n"
          ]
        },
        {
          "output_type": "stream",
          "name": "stderr",
          "text": [
            "100%|██████████| 5/5 [00:00<00:00, 10.48it/s]\n",
            "100%|██████████| 5/5 [00:00<00:00,  8.92it/s]\n"
          ]
        },
        {
          "output_type": "stream",
          "name": "stdout",
          "text": [
            "Eval -    loss: 3.24     char_acc: 0.11 captcha_acc: 0.00\n",
            "[0] True: 8cccc | Pred: 6nn5n\n",
            "[1] True: 8d4wm | Pred: 6nn5n\n",
            "[2] True: b55d6 | Pred: 6nn5n\n",
            "[3] True: 8gecm | Pred: 6nnpn\n",
            "[4] True: 3ny45 | Pred: 6nn5n\n",
            "\n",
            "Epoch 25\n",
            "Train -   loss: 3.15\n"
          ]
        },
        {
          "output_type": "stream",
          "name": "stderr",
          "text": [
            "100%|██████████| 5/5 [00:00<00:00, 10.21it/s]\n",
            "100%|██████████| 5/5 [00:00<00:00,  8.41it/s]\n"
          ]
        },
        {
          "output_type": "stream",
          "name": "stdout",
          "text": [
            "Eval -    loss: 3.23     char_acc: 0.11 captcha_acc: 0.00\n",
            "[0] True: 8cccc | Pred: 6nn5n\n",
            "[1] True: 8d4wm | Pred: 6nn5n\n",
            "[2] True: b55d6 | Pred: 6nn5n\n",
            "[3] True: 8gecm | Pred: 6nnpn\n",
            "[4] True: 3ny45 | Pred: 6nn5n\n",
            "\n",
            "Epoch 26\n",
            "Train -   loss: 3.14\n"
          ]
        },
        {
          "output_type": "stream",
          "name": "stderr",
          "text": [
            "100%|██████████| 5/5 [00:00<00:00, 10.21it/s]\n",
            "100%|██████████| 5/5 [00:00<00:00,  8.77it/s]\n"
          ]
        },
        {
          "output_type": "stream",
          "name": "stdout",
          "text": [
            "Eval -    loss: 3.22     char_acc: 0.12 captcha_acc: 0.00\n",
            "[0] True: 8cccc | Pred: 6nnnn\n",
            "[1] True: 8d4wm | Pred: 6nn5n\n",
            "[2] True: b55d6 | Pred: 6nn5n\n",
            "[3] True: 8gecm | Pred: 6nnpn\n",
            "[4] True: 3ny45 | Pred: 6nnpn\n",
            "\n",
            "Epoch 27\n",
            "Train -   loss: 3.13\n"
          ]
        },
        {
          "output_type": "stream",
          "name": "stderr",
          "text": [
            "100%|██████████| 5/5 [00:00<00:00,  9.85it/s]\n",
            "100%|██████████| 5/5 [00:00<00:00,  8.74it/s]\n"
          ]
        },
        {
          "output_type": "stream",
          "name": "stdout",
          "text": [
            "Eval -    loss: 3.21     char_acc: 0.12 captcha_acc: 0.00\n",
            "[0] True: 8cccc | Pred: 6nnnn\n",
            "[1] True: 8d4wm | Pred: 6nn5n\n",
            "[2] True: b55d6 | Pred: 6nnnn\n",
            "[3] True: 8gecm | Pred: 6nnnn\n",
            "[4] True: 3ny45 | Pred: 6nnpn\n",
            "\n",
            "Epoch 28\n",
            "Train -   loss: 3.12\n"
          ]
        },
        {
          "output_type": "stream",
          "name": "stderr",
          "text": [
            "100%|██████████| 5/5 [00:00<00:00,  9.75it/s]\n",
            "100%|██████████| 5/5 [00:00<00:00,  8.86it/s]\n"
          ]
        },
        {
          "output_type": "stream",
          "name": "stdout",
          "text": [
            "Eval -    loss: 3.20     char_acc: 0.12 captcha_acc: 0.00\n",
            "[0] True: 8cccc | Pred: 6nnnn\n",
            "[1] True: 8d4wm | Pred: 6nn5n\n",
            "[2] True: b55d6 | Pred: 6nnnn\n",
            "[3] True: 8gecm | Pred: 6nnnn\n",
            "[4] True: 3ny45 | Pred: 6nn5n\n",
            "\n",
            "Epoch 29\n",
            "Train -   loss: 3.11\n"
          ]
        },
        {
          "output_type": "stream",
          "name": "stderr",
          "text": [
            "100%|██████████| 5/5 [00:00<00:00, 10.29it/s]\n",
            "100%|██████████| 5/5 [00:00<00:00,  8.81it/s]\n"
          ]
        },
        {
          "output_type": "stream",
          "name": "stdout",
          "text": [
            "Eval -    loss: 3.19     char_acc: 0.12 captcha_acc: 0.00\n",
            "[0] True: 8cccc | Pred: 6nnnn\n",
            "[1] True: 8d4wm | Pred: 6nn5n\n",
            "[2] True: b55d6 | Pred: 6nnnn\n",
            "[3] True: 8gecm | Pred: 6nnnn\n",
            "[4] True: 3ny45 | Pred: 6nnnn\n",
            "\n",
            "Epoch 30\n",
            "Train -   loss: 3.11\n"
          ]
        },
        {
          "output_type": "stream",
          "name": "stderr",
          "text": [
            "100%|██████████| 5/5 [00:00<00:00, 10.16it/s]\n",
            "100%|██████████| 5/5 [00:00<00:00,  8.75it/s]\n"
          ]
        },
        {
          "output_type": "stream",
          "name": "stdout",
          "text": [
            "Eval -    loss: 3.18     char_acc: 0.12 captcha_acc: 0.00\n",
            "[0] True: 8cccc | Pred: 6nnnn\n",
            "[1] True: 8d4wm | Pred: 6nnnn\n",
            "[2] True: b55d6 | Pred: 6nnnn\n",
            "[3] True: 8gecm | Pred: 6nnnn\n",
            "[4] True: 3ny45 | Pred: 6nnnn\n",
            "\n",
            "Epoch 31\n",
            "Train -   loss: 3.10\n"
          ]
        },
        {
          "output_type": "stream",
          "name": "stderr",
          "text": [
            "100%|██████████| 5/5 [00:00<00:00, 10.41it/s]\n",
            "100%|██████████| 5/5 [00:00<00:00,  8.97it/s]\n"
          ]
        },
        {
          "output_type": "stream",
          "name": "stdout",
          "text": [
            "Eval -    loss: 3.17     char_acc: 0.12 captcha_acc: 0.00\n",
            "[0] True: 8cccc | Pred: 6nnnn\n",
            "[1] True: 8d4wm | Pred: 6nnnn\n",
            "[2] True: b55d6 | Pred: 6nnnn\n",
            "[3] True: 8gecm | Pred: 6nnnn\n",
            "[4] True: 3ny45 | Pred: 6nnnn\n",
            "\n",
            "Epoch 32\n",
            "Train -   loss: 3.09\n"
          ]
        },
        {
          "output_type": "stream",
          "name": "stderr",
          "text": [
            "100%|██████████| 5/5 [00:00<00:00,  9.42it/s]\n",
            "100%|██████████| 5/5 [00:00<00:00,  8.92it/s]\n"
          ]
        },
        {
          "output_type": "stream",
          "name": "stdout",
          "text": [
            "Eval -    loss: 3.17     char_acc: 0.12 captcha_acc: 0.00\n",
            "[0] True: 8cccc | Pred: 6nnnn\n",
            "[1] True: 8d4wm | Pred: 6nnnn\n",
            "[2] True: b55d6 | Pred: 6nnnn\n",
            "[3] True: 8gecm | Pred: 6nnnn\n",
            "[4] True: 3ny45 | Pred: 6nnnn\n",
            "\n",
            "Epoch 33\n",
            "Train -   loss: 3.08\n"
          ]
        },
        {
          "output_type": "stream",
          "name": "stderr",
          "text": [
            "100%|██████████| 5/5 [00:00<00:00, 10.22it/s]\n",
            "100%|██████████| 5/5 [00:00<00:00,  8.92it/s]\n"
          ]
        },
        {
          "output_type": "stream",
          "name": "stdout",
          "text": [
            "Eval -    loss: 3.16     char_acc: 0.12 captcha_acc: 0.00\n",
            "[0] True: 8cccc | Pred: 6nnnn\n",
            "[1] True: 8d4wm | Pred: 6nnnn\n",
            "[2] True: b55d6 | Pred: 6nnnn\n",
            "[3] True: 8gecm | Pred: 6nnnn\n",
            "[4] True: 3ny45 | Pred: 6nnnn\n",
            "\n",
            "Epoch 34\n",
            "Train -   loss: 3.07\n"
          ]
        },
        {
          "output_type": "stream",
          "name": "stderr",
          "text": [
            "100%|██████████| 5/5 [00:00<00:00,  9.93it/s]\n",
            "100%|██████████| 5/5 [00:00<00:00,  8.87it/s]\n"
          ]
        },
        {
          "output_type": "stream",
          "name": "stdout",
          "text": [
            "Eval -    loss: 3.15     char_acc: 0.12 captcha_acc: 0.00\n",
            "[0] True: 8cccc | Pred: 6nnnn\n",
            "[1] True: 8d4wm | Pred: 6nnnn\n",
            "[2] True: b55d6 | Pred: 6nnnn\n",
            "[3] True: 8gecm | Pred: 6nnnn\n",
            "[4] True: 3ny45 | Pred: 6nnnn\n",
            "\n",
            "Epoch 35\n",
            "Train -   loss: 3.07\n"
          ]
        },
        {
          "output_type": "stream",
          "name": "stderr",
          "text": [
            "100%|██████████| 5/5 [00:00<00:00, 10.29it/s]\n",
            "100%|██████████| 5/5 [00:00<00:00,  9.03it/s]\n"
          ]
        },
        {
          "output_type": "stream",
          "name": "stdout",
          "text": [
            "Eval -    loss: 3.15     char_acc: 0.12 captcha_acc: 0.00\n",
            "[0] True: 8cccc | Pred: 6nnnn\n",
            "[1] True: 8d4wm | Pred: 6nnnn\n",
            "[2] True: b55d6 | Pred: 6nnnn\n",
            "[3] True: 8gecm | Pred: 6nnnn\n",
            "[4] True: 3ny45 | Pred: 6nnnn\n",
            "\n",
            "Epoch 36\n",
            "Train -   loss: 3.06\n"
          ]
        },
        {
          "output_type": "stream",
          "name": "stderr",
          "text": [
            "100%|██████████| 5/5 [00:00<00:00, 10.26it/s]\n",
            "100%|██████████| 5/5 [00:00<00:00,  9.08it/s]\n"
          ]
        },
        {
          "output_type": "stream",
          "name": "stdout",
          "text": [
            "Eval -    loss: 3.14     char_acc: 0.12 captcha_acc: 0.00\n",
            "[0] True: 8cccc | Pred: 6nnnn\n",
            "[1] True: 8d4wm | Pred: 6nnnn\n",
            "[2] True: b55d6 | Pred: 6nnnn\n",
            "[3] True: 8gecm | Pred: 6nnnn\n",
            "[4] True: 3ny45 | Pred: 6nnnn\n",
            "\n",
            "Epoch 37\n",
            "Train -   loss: 3.05\n"
          ]
        },
        {
          "output_type": "stream",
          "name": "stderr",
          "text": [
            "100%|██████████| 5/5 [00:00<00:00,  9.43it/s]\n",
            "100%|██████████| 5/5 [00:00<00:00,  8.83it/s]\n"
          ]
        },
        {
          "output_type": "stream",
          "name": "stdout",
          "text": [
            "Eval -    loss: 3.13     char_acc: 0.12 captcha_acc: 0.00\n",
            "[0] True: 8cccc | Pred: 6nnnn\n",
            "[1] True: 8d4wm | Pred: 6nnnn\n",
            "[2] True: b55d6 | Pred: 6nnnn\n",
            "[3] True: 8gecm | Pred: 6nnnn\n",
            "[4] True: 3ny45 | Pred: 6nnnn\n",
            "\n",
            "Epoch 38\n",
            "Train -   loss: 3.05\n"
          ]
        },
        {
          "output_type": "stream",
          "name": "stderr",
          "text": [
            "100%|██████████| 5/5 [00:00<00:00, 10.29it/s]\n",
            "100%|██████████| 5/5 [00:00<00:00,  9.12it/s]\n"
          ]
        },
        {
          "output_type": "stream",
          "name": "stdout",
          "text": [
            "Eval -    loss: 3.13     char_acc: 0.12 captcha_acc: 0.00\n",
            "[0] True: 8cccc | Pred: 6nnnn\n",
            "[1] True: 8d4wm | Pred: 6nnnn\n",
            "[2] True: b55d6 | Pred: 6nnnn\n",
            "[3] True: 8gecm | Pred: 6nnnn\n",
            "[4] True: 3ny45 | Pred: 6nnnn\n",
            "\n",
            "Epoch 39\n",
            "Train -   loss: 3.04\n"
          ]
        },
        {
          "output_type": "stream",
          "name": "stderr",
          "text": [
            "100%|██████████| 5/5 [00:00<00:00, 10.93it/s]\n",
            "100%|██████████| 5/5 [00:00<00:00,  9.11it/s]\n"
          ]
        },
        {
          "output_type": "stream",
          "name": "stdout",
          "text": [
            "Eval -    loss: 3.12     char_acc: 0.12 captcha_acc: 0.00\n",
            "[0] True: 8cccc | Pred: 6nnnn\n",
            "[1] True: 8d4wm | Pred: 6nnnn\n",
            "[2] True: b55d6 | Pred: 6nnnn\n",
            "[3] True: 8gecm | Pred: 6nnnn\n",
            "[4] True: 3ny45 | Pred: 6nnnn\n",
            "\n",
            "Epoch 40\n",
            "Train -   loss: 3.03\n"
          ]
        },
        {
          "output_type": "stream",
          "name": "stderr",
          "text": [
            "100%|██████████| 5/5 [00:00<00:00, 10.59it/s]\n",
            "100%|██████████| 5/5 [00:00<00:00,  9.18it/s]\n"
          ]
        },
        {
          "output_type": "stream",
          "name": "stdout",
          "text": [
            "Eval -    loss: 3.11     char_acc: 0.12 captcha_acc: 0.00\n",
            "[0] True: 8cccc | Pred: 6nnnn\n",
            "[1] True: 8d4wm | Pred: 6nnnn\n",
            "[2] True: b55d6 | Pred: 6nnnn\n",
            "[3] True: 8gecm | Pred: 6nnnn\n",
            "[4] True: 3ny45 | Pred: 6nnnn\n",
            "\n",
            "Epoch 41\n",
            "Train -   loss: 3.03\n"
          ]
        },
        {
          "output_type": "stream",
          "name": "stderr",
          "text": [
            "100%|██████████| 5/5 [00:00<00:00, 10.60it/s]\n",
            "100%|██████████| 5/5 [00:00<00:00,  9.04it/s]\n"
          ]
        },
        {
          "output_type": "stream",
          "name": "stdout",
          "text": [
            "Eval -    loss: 3.11     char_acc: 0.12 captcha_acc: 0.00\n",
            "[0] True: 8cccc | Pred: 6nnnn\n",
            "[1] True: 8d4wm | Pred: 6nnnn\n",
            "[2] True: b55d6 | Pred: 6nnnn\n",
            "[3] True: 8gecm | Pred: 6nnnn\n",
            "[4] True: 3ny45 | Pred: 6nnnn\n",
            "\n",
            "Epoch 42\n",
            "Train -   loss: 3.02\n"
          ]
        },
        {
          "output_type": "stream",
          "name": "stderr",
          "text": [
            "100%|██████████| 5/5 [00:00<00:00,  9.68it/s]\n",
            "100%|██████████| 5/5 [00:00<00:00,  8.93it/s]\n"
          ]
        },
        {
          "output_type": "stream",
          "name": "stdout",
          "text": [
            "Eval -    loss: 3.10     char_acc: 0.12 captcha_acc: 0.00\n",
            "[0] True: 8cccc | Pred: 6nnnn\n",
            "[1] True: 8d4wm | Pred: 6nnnn\n",
            "[2] True: b55d6 | Pred: 6nnnn\n",
            "[3] True: 8gecm | Pred: 6nnnn\n",
            "[4] True: 3ny45 | Pred: 6nnnn\n",
            "\n",
            "Epoch 43\n",
            "Train -   loss: 3.02\n"
          ]
        },
        {
          "output_type": "stream",
          "name": "stderr",
          "text": [
            "100%|██████████| 5/5 [00:00<00:00, 10.46it/s]\n",
            "100%|██████████| 5/5 [00:00<00:00,  8.81it/s]\n"
          ]
        },
        {
          "output_type": "stream",
          "name": "stdout",
          "text": [
            "Eval -    loss: 3.10     char_acc: 0.12 captcha_acc: 0.00\n",
            "[0] True: 8cccc | Pred: 6nnnn\n",
            "[1] True: 8d4wm | Pred: 6nnnn\n",
            "[2] True: b55d6 | Pred: 6nnnn\n",
            "[3] True: 8gecm | Pred: 6nnnn\n",
            "[4] True: 3ny45 | Pred: 6nnnn\n",
            "\n",
            "Epoch 44\n",
            "Train -   loss: 3.01\n"
          ]
        },
        {
          "output_type": "stream",
          "name": "stderr",
          "text": [
            "100%|██████████| 5/5 [00:00<00:00, 10.36it/s]\n",
            "100%|██████████| 5/5 [00:00<00:00,  8.80it/s]\n"
          ]
        },
        {
          "output_type": "stream",
          "name": "stdout",
          "text": [
            "Eval -    loss: 3.09     char_acc: 0.12 captcha_acc: 0.00\n",
            "[0] True: 8cccc | Pred: 6nnnn\n",
            "[1] True: 8d4wm | Pred: 6nnnn\n",
            "[2] True: b55d6 | Pred: 6nnnn\n",
            "[3] True: 8gecm | Pred: 6nnnn\n",
            "[4] True: 3ny45 | Pred: 6nnnn\n",
            "\n",
            "Epoch 45\n",
            "Train -   loss: 3.01\n"
          ]
        },
        {
          "output_type": "stream",
          "name": "stderr",
          "text": [
            "100%|██████████| 5/5 [00:00<00:00,  9.52it/s]\n",
            "100%|██████████| 5/5 [00:00<00:00,  8.90it/s]\n"
          ]
        },
        {
          "output_type": "stream",
          "name": "stdout",
          "text": [
            "Eval -    loss: 3.09     char_acc: 0.12 captcha_acc: 0.00\n",
            "[0] True: 8cccc | Pred: 6nnnn\n",
            "[1] True: 8d4wm | Pred: 6nnnn\n",
            "[2] True: b55d6 | Pred: 6nnnn\n",
            "[3] True: 8gecm | Pred: 6nnnn\n",
            "[4] True: 3ny45 | Pred: 6nnnn\n",
            "\n",
            "Epoch 46\n",
            "Train -   loss: 3.00\n"
          ]
        },
        {
          "output_type": "stream",
          "name": "stderr",
          "text": [
            "100%|██████████| 5/5 [00:00<00:00, 10.46it/s]\n",
            "100%|██████████| 5/5 [00:00<00:00,  8.84it/s]\n"
          ]
        },
        {
          "output_type": "stream",
          "name": "stdout",
          "text": [
            "Eval -    loss: 3.08     char_acc: 0.12 captcha_acc: 0.00\n",
            "[0] True: 8cccc | Pred: 6nnnn\n",
            "[1] True: 8d4wm | Pred: 6nnnn\n",
            "[2] True: b55d6 | Pred: 6nnnn\n",
            "[3] True: 8gecm | Pred: 6nnnn\n",
            "[4] True: 3ny45 | Pred: 6nnnn\n",
            "\n",
            "Epoch 47\n",
            "Train -   loss: 3.00\n"
          ]
        },
        {
          "output_type": "stream",
          "name": "stderr",
          "text": [
            "100%|██████████| 5/5 [00:00<00:00,  9.77it/s]\n",
            "100%|██████████| 5/5 [00:00<00:00,  8.73it/s]\n"
          ]
        },
        {
          "output_type": "stream",
          "name": "stdout",
          "text": [
            "Eval -    loss: 3.08     char_acc: 0.12 captcha_acc: 0.00\n",
            "[0] True: 8cccc | Pred: 6nnnn\n",
            "[1] True: 8d4wm | Pred: 6nnnn\n",
            "[2] True: b55d6 | Pred: 6nnnn\n",
            "[3] True: 8gecm | Pred: 6nnnn\n",
            "[4] True: 3ny45 | Pred: 6nnnn\n",
            "\n",
            "Epoch 48\n",
            "Train -   loss: 2.99\n"
          ]
        },
        {
          "output_type": "stream",
          "name": "stderr",
          "text": [
            "100%|██████████| 5/5 [00:00<00:00, 10.60it/s]\n",
            "100%|██████████| 5/5 [00:00<00:00,  8.90it/s]\n"
          ]
        },
        {
          "output_type": "stream",
          "name": "stdout",
          "text": [
            "Eval -    loss: 3.08     char_acc: 0.12 captcha_acc: 0.00\n",
            "[0] True: 8cccc | Pred: 6nnnn\n",
            "[1] True: 8d4wm | Pred: 6nnnn\n",
            "[2] True: b55d6 | Pred: 6nnnn\n",
            "[3] True: 8gecm | Pred: 6nnnn\n",
            "[4] True: 3ny45 | Pred: 6nnnn\n",
            "\n",
            "Epoch 49\n",
            "Train -   loss: 2.99\n"
          ]
        },
        {
          "output_type": "stream",
          "name": "stderr",
          "text": [
            "100%|██████████| 5/5 [00:00<00:00, 10.80it/s]\n",
            "100%|██████████| 5/5 [00:00<00:00,  8.96it/s]\n"
          ]
        },
        {
          "output_type": "stream",
          "name": "stdout",
          "text": [
            "Eval -    loss: 3.07     char_acc: 0.12 captcha_acc: 0.00\n",
            "[0] True: 8cccc | Pred: 6nnnn\n",
            "[1] True: 8d4wm | Pred: 6nnnn\n",
            "[2] True: b55d6 | Pred: 6nnnn\n",
            "[3] True: 8gecm | Pred: 6nnnn\n",
            "[4] True: 3ny45 | Pred: 6nnnn\n",
            "\n",
            "Epoch 50\n",
            "Train -   loss: 2.98\n"
          ]
        },
        {
          "output_type": "stream",
          "name": "stderr",
          "text": [
            "100%|██████████| 5/5 [00:00<00:00,  9.33it/s]\n",
            "100%|██████████| 5/5 [00:00<00:00,  8.96it/s]\n"
          ]
        },
        {
          "output_type": "stream",
          "name": "stdout",
          "text": [
            "Eval -    loss: 3.06     char_acc: 0.12 captcha_acc: 0.00\n",
            "[0] True: 8cccc | Pred: 6nnnn\n",
            "[1] True: 8d4wm | Pred: 6nnnn\n",
            "[2] True: b55d6 | Pred: 6nnnn\n",
            "[3] True: 8gecm | Pred: 6nnnn\n",
            "[4] True: 3ny45 | Pred: 6nnnn\n",
            "\n",
            "Epoch 51\n",
            "Train -   loss: 2.98\n"
          ]
        },
        {
          "output_type": "stream",
          "name": "stderr",
          "text": [
            "100%|██████████| 5/5 [00:00<00:00, 10.20it/s]\n",
            "100%|██████████| 5/5 [00:00<00:00,  8.81it/s]\n"
          ]
        },
        {
          "output_type": "stream",
          "name": "stdout",
          "text": [
            "Eval -    loss: 3.06     char_acc: 0.12 captcha_acc: 0.00\n",
            "[0] True: 8cccc | Pred: 6nnnn\n",
            "[1] True: 8d4wm | Pred: 6nnnn\n",
            "[2] True: b55d6 | Pred: 6nnnn\n",
            "[3] True: 8gecm | Pred: 6nnnn\n",
            "[4] True: 3ny45 | Pred: 6nnnn\n",
            "\n",
            "Epoch 52\n",
            "Train -   loss: 2.97\n"
          ]
        },
        {
          "output_type": "stream",
          "name": "stderr",
          "text": [
            "100%|██████████| 5/5 [00:00<00:00,  8.99it/s]\n",
            "100%|██████████| 5/5 [00:00<00:00,  8.52it/s]\n"
          ]
        },
        {
          "output_type": "stream",
          "name": "stdout",
          "text": [
            "Eval -    loss: 3.06     char_acc: 0.12 captcha_acc: 0.00\n",
            "[0] True: 8cccc | Pred: 6nnnn\n",
            "[1] True: 8d4wm | Pred: 6nnnn\n",
            "[2] True: b55d6 | Pred: 6nnnn\n",
            "[3] True: 8gecm | Pred: 6nnnn\n",
            "[4] True: 3ny45 | Pred: 6nnnn\n",
            "\n",
            "Epoch 53\n",
            "Train -   loss: 2.97\n"
          ]
        },
        {
          "output_type": "stream",
          "name": "stderr",
          "text": [
            "100%|██████████| 5/5 [00:00<00:00,  9.77it/s]\n",
            "100%|██████████| 5/5 [00:00<00:00,  8.94it/s]\n"
          ]
        },
        {
          "output_type": "stream",
          "name": "stdout",
          "text": [
            "Eval -    loss: 3.06     char_acc: 0.12 captcha_acc: 0.00\n",
            "[0] True: 8cccc | Pred: 6nnnn\n",
            "[1] True: 8d4wm | Pred: 6nnnn\n",
            "[2] True: b55d6 | Pred: 6nnnn\n",
            "[3] True: 8gecm | Pred: 6nnnn\n",
            "[4] True: 3ny45 | Pred: 6nnnn\n",
            "\n",
            "Epoch 54\n",
            "Train -   loss: 2.97\n"
          ]
        },
        {
          "output_type": "stream",
          "name": "stderr",
          "text": [
            "100%|██████████| 5/5 [00:00<00:00, 10.34it/s]\n",
            "100%|██████████| 5/5 [00:00<00:00,  8.72it/s]\n"
          ]
        },
        {
          "output_type": "stream",
          "name": "stdout",
          "text": [
            "Eval -    loss: 3.05     char_acc: 0.12 captcha_acc: 0.00\n",
            "[0] True: 8cccc | Pred: 6nnnn\n",
            "[1] True: 8d4wm | Pred: 6nnnn\n",
            "[2] True: b55d6 | Pred: 6nnnn\n",
            "[3] True: 8gecm | Pred: 6nnnn\n",
            "[4] True: 3ny45 | Pred: 6nnnn\n",
            "\n",
            "Epoch 55\n",
            "Train -   loss: 2.96\n"
          ]
        },
        {
          "output_type": "stream",
          "name": "stderr",
          "text": [
            "100%|██████████| 5/5 [00:00<00:00,  8.87it/s]\n",
            "100%|██████████| 5/5 [00:00<00:00,  8.99it/s]\n"
          ]
        },
        {
          "output_type": "stream",
          "name": "stdout",
          "text": [
            "Eval -    loss: 3.05     char_acc: 0.12 captcha_acc: 0.00\n",
            "[0] True: 8cccc | Pred: 6nnnn\n",
            "[1] True: 8d4wm | Pred: 6nnnn\n",
            "[2] True: b55d6 | Pred: 6nnnn\n",
            "[3] True: 8gecm | Pred: 6nnnn\n",
            "[4] True: 3ny45 | Pred: 6nnnn\n",
            "\n",
            "Epoch 56\n",
            "Train -   loss: 2.96\n"
          ]
        },
        {
          "output_type": "stream",
          "name": "stderr",
          "text": [
            "100%|██████████| 5/5 [00:00<00:00, 10.56it/s]\n",
            "100%|██████████| 5/5 [00:00<00:00,  8.41it/s]\n"
          ]
        },
        {
          "output_type": "stream",
          "name": "stdout",
          "text": [
            "Eval -    loss: 3.04     char_acc: 0.12 captcha_acc: 0.00\n",
            "[0] True: 8cccc | Pred: 6nnnn\n",
            "[1] True: 8d4wm | Pred: 6nnnn\n",
            "[2] True: b55d6 | Pred: 6nnnn\n",
            "[3] True: 8gecm | Pred: 6nnnn\n",
            "[4] True: 3ny45 | Pred: 6nnnn\n",
            "\n",
            "Epoch 57\n",
            "Train -   loss: 2.95\n"
          ]
        },
        {
          "output_type": "stream",
          "name": "stderr",
          "text": [
            "100%|██████████| 5/5 [00:00<00:00,  9.70it/s]\n",
            "100%|██████████| 5/5 [00:00<00:00,  8.88it/s]\n"
          ]
        },
        {
          "output_type": "stream",
          "name": "stdout",
          "text": [
            "Eval -    loss: 3.04     char_acc: 0.12 captcha_acc: 0.00\n",
            "[0] True: 8cccc | Pred: 6nnnn\n",
            "[1] True: 8d4wm | Pred: 6nnnn\n",
            "[2] True: b55d6 | Pred: 6nnnn\n",
            "[3] True: 8gecm | Pred: 6nnnn\n",
            "[4] True: 3ny45 | Pred: 6nnnn\n",
            "\n",
            "Epoch 58\n",
            "Train -   loss: 2.95\n"
          ]
        },
        {
          "output_type": "stream",
          "name": "stderr",
          "text": [
            "100%|██████████| 5/5 [00:00<00:00, 10.48it/s]\n",
            "100%|██████████| 5/5 [00:00<00:00,  8.85it/s]\n"
          ]
        },
        {
          "output_type": "stream",
          "name": "stdout",
          "text": [
            "Eval -    loss: 3.04     char_acc: 0.12 captcha_acc: 0.00\n",
            "[0] True: 8cccc | Pred: 6nnnn\n",
            "[1] True: 8d4wm | Pred: 6nnnn\n",
            "[2] True: b55d6 | Pred: 6nnnn\n",
            "[3] True: 8gecm | Pred: 6nnnn\n",
            "[4] True: 3ny45 | Pred: 6nnnn\n",
            "\n",
            "Epoch 59\n",
            "Train -   loss: 2.95\n"
          ]
        },
        {
          "output_type": "stream",
          "name": "stderr",
          "text": [
            "100%|██████████| 5/5 [00:00<00:00, 10.72it/s]\n",
            "100%|██████████| 5/5 [00:00<00:00,  8.92it/s]\n"
          ]
        },
        {
          "output_type": "stream",
          "name": "stdout",
          "text": [
            "Eval -    loss: 3.03     char_acc: 0.12 captcha_acc: 0.00\n",
            "[0] True: 8cccc | Pred: 6nnnn\n",
            "[1] True: 8d4wm | Pred: 6nnnn\n",
            "[2] True: b55d6 | Pred: 6nnnn\n",
            "[3] True: 8gecm | Pred: 6nnnn\n",
            "[4] True: 3ny45 | Pred: 6nnnn\n",
            "\n",
            "Epoch 60\n",
            "Train -   loss: 2.94\n"
          ]
        },
        {
          "output_type": "stream",
          "name": "stderr",
          "text": [
            "100%|██████████| 5/5 [00:00<00:00,  8.43it/s]\n",
            "100%|██████████| 5/5 [00:00<00:00,  8.48it/s]\n"
          ]
        },
        {
          "output_type": "stream",
          "name": "stdout",
          "text": [
            "Eval -    loss: 3.03     char_acc: 0.12 captcha_acc: 0.00\n",
            "[0] True: 8cccc | Pred: 6nnnn\n",
            "[1] True: 8d4wm | Pred: 6nnnn\n",
            "[2] True: b55d6 | Pred: 6nnnn\n",
            "[3] True: 8gecm | Pred: 6nnnn\n",
            "[4] True: 3ny45 | Pred: 6nnnn\n",
            "\n",
            "Epoch 61\n",
            "Train -   loss: 2.94\n"
          ]
        },
        {
          "output_type": "stream",
          "name": "stderr",
          "text": [
            "100%|██████████| 5/5 [00:00<00:00, 10.68it/s]\n",
            "100%|██████████| 5/5 [00:00<00:00,  9.05it/s]\n"
          ]
        },
        {
          "output_type": "stream",
          "name": "stdout",
          "text": [
            "Eval -    loss: 3.03     char_acc: 0.12 captcha_acc: 0.00\n",
            "[0] True: 8cccc | Pred: 6nnnn\n",
            "[1] True: 8d4wm | Pred: 6nnnn\n",
            "[2] True: b55d6 | Pred: 6nnnn\n",
            "[3] True: 8gecm | Pred: 6nnnn\n",
            "[4] True: 3ny45 | Pred: 6nnnn\n",
            "\n",
            "Epoch 62\n",
            "Train -   loss: 2.94\n"
          ]
        },
        {
          "output_type": "stream",
          "name": "stderr",
          "text": [
            "100%|██████████| 5/5 [00:00<00:00, 10.52it/s]\n",
            "100%|██████████| 5/5 [00:00<00:00,  8.49it/s]\n"
          ]
        },
        {
          "output_type": "stream",
          "name": "stdout",
          "text": [
            "Eval -    loss: 3.02     char_acc: 0.12 captcha_acc: 0.00\n",
            "[0] True: 8cccc | Pred: 6nnnn\n",
            "[1] True: 8d4wm | Pred: 6nnnn\n",
            "[2] True: b55d6 | Pred: 6nnnn\n",
            "[3] True: 8gecm | Pred: 6nnnn\n",
            "[4] True: 3ny45 | Pred: 6nnnn\n",
            "\n",
            "Epoch 63\n",
            "Train -   loss: 2.93\n"
          ]
        },
        {
          "output_type": "stream",
          "name": "stderr",
          "text": [
            "100%|██████████| 5/5 [00:00<00:00, 10.41it/s]\n",
            "100%|██████████| 5/5 [00:00<00:00,  9.03it/s]\n"
          ]
        },
        {
          "output_type": "stream",
          "name": "stdout",
          "text": [
            "Eval -    loss: 3.02     char_acc: 0.12 captcha_acc: 0.00\n",
            "[0] True: 8cccc | Pred: 6nnnn\n",
            "[1] True: 8d4wm | Pred: 6nnnn\n",
            "[2] True: b55d6 | Pred: 6nnnn\n",
            "[3] True: 8gecm | Pred: 6nnnn\n",
            "[4] True: 3ny45 | Pred: 6nnnn\n",
            "\n",
            "Epoch 64\n",
            "Train -   loss: 2.93\n"
          ]
        },
        {
          "output_type": "stream",
          "name": "stderr",
          "text": [
            "100%|██████████| 5/5 [00:00<00:00, 10.48it/s]\n",
            "100%|██████████| 5/5 [00:00<00:00,  8.94it/s]\n"
          ]
        },
        {
          "output_type": "stream",
          "name": "stdout",
          "text": [
            "Eval -    loss: 3.02     char_acc: 0.12 captcha_acc: 0.00\n",
            "[0] True: 8cccc | Pred: 6nnnn\n",
            "[1] True: 8d4wm | Pred: 6nnnn\n",
            "[2] True: b55d6 | Pred: 6nnnn\n",
            "[3] True: 8gecm | Pred: 6nnnn\n",
            "[4] True: 3ny45 | Pred: 6nnnn\n",
            "\n",
            "Epoch 65\n",
            "Train -   loss: 2.93\n"
          ]
        },
        {
          "output_type": "stream",
          "name": "stderr",
          "text": [
            "100%|██████████| 5/5 [00:00<00:00,  8.71it/s]\n",
            "100%|██████████| 5/5 [00:00<00:00,  8.24it/s]\n"
          ]
        },
        {
          "output_type": "stream",
          "name": "stdout",
          "text": [
            "Eval -    loss: 3.01     char_acc: 0.12 captcha_acc: 0.00\n",
            "[0] True: 8cccc | Pred: 6nnnn\n",
            "[1] True: 8d4wm | Pred: 6nnnn\n",
            "[2] True: b55d6 | Pred: 6nnnn\n",
            "[3] True: 8gecm | Pred: 6nnnn\n",
            "[4] True: 3ny45 | Pred: 6nnnn\n",
            "\n",
            "Epoch 66\n",
            "Train -   loss: 2.93\n"
          ]
        },
        {
          "output_type": "stream",
          "name": "stderr",
          "text": [
            "100%|██████████| 5/5 [00:00<00:00, 10.09it/s]\n",
            "100%|██████████| 5/5 [00:00<00:00,  8.62it/s]\n"
          ]
        },
        {
          "output_type": "stream",
          "name": "stdout",
          "text": [
            "Eval -    loss: 3.01     char_acc: 0.12 captcha_acc: 0.00\n",
            "[0] True: 8cccc | Pred: 6nnnn\n",
            "[1] True: 8d4wm | Pred: 6nnnn\n",
            "[2] True: b55d6 | Pred: 6nnnn\n",
            "[3] True: 8gecm | Pred: 6nnnn\n",
            "[4] True: 3ny45 | Pred: 6nnnn\n",
            "\n",
            "Epoch 67\n",
            "Train -   loss: 2.92\n"
          ]
        },
        {
          "output_type": "stream",
          "name": "stderr",
          "text": [
            "100%|██████████| 5/5 [00:00<00:00, 10.33it/s]\n",
            "100%|██████████| 5/5 [00:00<00:00,  8.62it/s]\n"
          ]
        },
        {
          "output_type": "stream",
          "name": "stdout",
          "text": [
            "Eval -    loss: 3.01     char_acc: 0.12 captcha_acc: 0.00\n",
            "[0] True: 8cccc | Pred: 6nnnn\n",
            "[1] True: 8d4wm | Pred: 6nnnn\n",
            "[2] True: b55d6 | Pred: 6nnnn\n",
            "[3] True: 8gecm | Pred: 6nnnn\n",
            "[4] True: 3ny45 | Pred: 6nnnn\n",
            "\n",
            "Epoch 68\n",
            "Train -   loss: 2.92\n"
          ]
        },
        {
          "output_type": "stream",
          "name": "stderr",
          "text": [
            "100%|██████████| 5/5 [00:00<00:00, 10.40it/s]\n",
            "100%|██████████| 5/5 [00:00<00:00,  9.03it/s]\n"
          ]
        },
        {
          "output_type": "stream",
          "name": "stdout",
          "text": [
            "Eval -    loss: 3.01     char_acc: 0.12 captcha_acc: 0.00\n",
            "[0] True: 8cccc | Pred: 6nnnn\n",
            "[1] True: 8d4wm | Pred: 6nnnn\n",
            "[2] True: b55d6 | Pred: 6nnnn\n",
            "[3] True: 8gecm | Pred: 6nnnn\n",
            "[4] True: 3ny45 | Pred: 6nnnn\n",
            "\n",
            "Epoch 69\n",
            "Train -   loss: 2.92\n"
          ]
        },
        {
          "output_type": "stream",
          "name": "stderr",
          "text": [
            "100%|██████████| 5/5 [00:00<00:00, 10.00it/s]\n",
            "100%|██████████| 5/5 [00:00<00:00,  9.09it/s]\n"
          ]
        },
        {
          "output_type": "stream",
          "name": "stdout",
          "text": [
            "Eval -    loss: 3.00     char_acc: 0.12 captcha_acc: 0.00\n",
            "[0] True: 8cccc | Pred: 6nnnn\n",
            "[1] True: 8d4wm | Pred: 6nnnn\n",
            "[2] True: b55d6 | Pred: 6nnnn\n",
            "[3] True: 8gecm | Pred: 6nnnn\n",
            "[4] True: 3ny45 | Pred: 6nnnn\n",
            "\n",
            "Epoch 70\n",
            "Train -   loss: 2.91\n"
          ]
        },
        {
          "output_type": "stream",
          "name": "stderr",
          "text": [
            "100%|██████████| 5/5 [00:00<00:00,  8.73it/s]\n",
            "100%|██████████| 5/5 [00:00<00:00,  8.36it/s]\n"
          ]
        },
        {
          "output_type": "stream",
          "name": "stdout",
          "text": [
            "Eval -    loss: 3.00     char_acc: 0.12 captcha_acc: 0.00\n",
            "[0] True: 8cccc | Pred: 6nnnn\n",
            "[1] True: 8d4wm | Pred: 6nnnn\n",
            "[2] True: b55d6 | Pred: 6nnnn\n",
            "[3] True: 8gecm | Pred: 6nnnn\n",
            "[4] True: 3ny45 | Pred: 6nnnn\n",
            "\n",
            "Epoch 71\n",
            "Train -   loss: 2.91\n"
          ]
        },
        {
          "output_type": "stream",
          "name": "stderr",
          "text": [
            "100%|██████████| 5/5 [00:00<00:00, 10.24it/s]\n",
            "100%|██████████| 5/5 [00:00<00:00,  8.97it/s]\n"
          ]
        },
        {
          "output_type": "stream",
          "name": "stdout",
          "text": [
            "Eval -    loss: 3.00     char_acc: 0.12 captcha_acc: 0.00\n",
            "[0] True: 8cccc | Pred: 6nnnn\n",
            "[1] True: 8d4wm | Pred: 6nnnn\n",
            "[2] True: b55d6 | Pred: 6nnnn\n",
            "[3] True: 8gecm | Pred: 6nnnn\n",
            "[4] True: 3ny45 | Pred: 6nnnn\n",
            "\n",
            "Epoch 72\n",
            "Train -   loss: 2.91\n"
          ]
        },
        {
          "output_type": "stream",
          "name": "stderr",
          "text": [
            "100%|██████████| 5/5 [00:00<00:00, 10.18it/s]\n",
            "100%|██████████| 5/5 [00:00<00:00,  8.68it/s]\n"
          ]
        },
        {
          "output_type": "stream",
          "name": "stdout",
          "text": [
            "Eval -    loss: 3.00     char_acc: 0.12 captcha_acc: 0.00\n",
            "[0] True: 8cccc | Pred: 6nnnn\n",
            "[1] True: 8d4wm | Pred: 6nnnn\n",
            "[2] True: b55d6 | Pred: 6nnnn\n",
            "[3] True: 8gecm | Pred: 6nnnn\n",
            "[4] True: 3ny45 | Pred: 6nnnn\n",
            "\n",
            "Epoch 73\n",
            "Train -   loss: 2.91\n"
          ]
        },
        {
          "output_type": "stream",
          "name": "stderr",
          "text": [
            "100%|██████████| 5/5 [00:00<00:00, 10.44it/s]\n",
            "100%|██████████| 5/5 [00:00<00:00,  9.10it/s]\n"
          ]
        },
        {
          "output_type": "stream",
          "name": "stdout",
          "text": [
            "Eval -    loss: 2.99     char_acc: 0.12 captcha_acc: 0.00\n",
            "[0] True: 8cccc | Pred: 6nnnn\n",
            "[1] True: 8d4wm | Pred: 6nnnn\n",
            "[2] True: b55d6 | Pred: 6nnnn\n",
            "[3] True: 8gecm | Pred: 6nnnn\n",
            "[4] True: 3ny45 | Pred: 6nnnn\n",
            "\n",
            "Epoch 74\n",
            "Train -   loss: 2.90\n"
          ]
        },
        {
          "output_type": "stream",
          "name": "stderr",
          "text": [
            "100%|██████████| 5/5 [00:00<00:00, 10.46it/s]\n",
            "100%|██████████| 5/5 [00:00<00:00,  9.07it/s]\n"
          ]
        },
        {
          "output_type": "stream",
          "name": "stdout",
          "text": [
            "Eval -    loss: 2.99     char_acc: 0.12 captcha_acc: 0.00\n",
            "[0] True: 8cccc | Pred: 6nnnn\n",
            "[1] True: 8d4wm | Pred: 6nnnn\n",
            "[2] True: b55d6 | Pred: 6nnnn\n",
            "[3] True: 8gecm | Pred: 6nnnn\n",
            "[4] True: 3ny45 | Pred: 6nnnn\n",
            "\n",
            "Epoch 75\n",
            "Train -   loss: 2.90\n"
          ]
        },
        {
          "output_type": "stream",
          "name": "stderr",
          "text": [
            "100%|██████████| 5/5 [00:00<00:00,  9.73it/s]\n",
            "100%|██████████| 5/5 [00:00<00:00,  8.34it/s]\n"
          ]
        },
        {
          "output_type": "stream",
          "name": "stdout",
          "text": [
            "Eval -    loss: 2.99     char_acc: 0.12 captcha_acc: 0.00\n",
            "[0] True: 8cccc | Pred: 6nnnn\n",
            "[1] True: 8d4wm | Pred: 6nnnn\n",
            "[2] True: b55d6 | Pred: 6nnnn\n",
            "[3] True: 8gecm | Pred: 6nnnn\n",
            "[4] True: 3ny45 | Pred: 6nnnn\n",
            "\n",
            "Epoch 76\n",
            "Train -   loss: 2.90\n"
          ]
        },
        {
          "output_type": "stream",
          "name": "stderr",
          "text": [
            "100%|██████████| 5/5 [00:00<00:00, 10.57it/s]\n",
            "100%|██████████| 5/5 [00:00<00:00,  8.96it/s]\n"
          ]
        },
        {
          "output_type": "stream",
          "name": "stdout",
          "text": [
            "Eval -    loss: 2.99     char_acc: 0.12 captcha_acc: 0.00\n",
            "[0] True: 8cccc | Pred: 6nnnn\n",
            "[1] True: 8d4wm | Pred: 6nnnn\n",
            "[2] True: b55d6 | Pred: 6nnnn\n",
            "[3] True: 8gecm | Pred: 6nnnn\n",
            "[4] True: 3ny45 | Pred: 6nnnn\n",
            "\n",
            "Epoch 77\n",
            "Train -   loss: 2.90\n"
          ]
        },
        {
          "output_type": "stream",
          "name": "stderr",
          "text": [
            "100%|██████████| 5/5 [00:00<00:00, 10.39it/s]\n",
            "100%|██████████| 5/5 [00:00<00:00,  8.93it/s]\n"
          ]
        },
        {
          "output_type": "stream",
          "name": "stdout",
          "text": [
            "Eval -    loss: 2.98     char_acc: 0.12 captcha_acc: 0.00\n",
            "[0] True: 8cccc | Pred: 6nnnn\n",
            "[1] True: 8d4wm | Pred: 6nnnn\n",
            "[2] True: b55d6 | Pred: 6nnnn\n",
            "[3] True: 8gecm | Pred: 6nnnn\n",
            "[4] True: 3ny45 | Pred: 6nnnn\n",
            "\n",
            "Epoch 78\n",
            "Train -   loss: 2.89\n"
          ]
        },
        {
          "output_type": "stream",
          "name": "stderr",
          "text": [
            "100%|██████████| 5/5 [00:00<00:00, 10.40it/s]\n",
            "100%|██████████| 5/5 [00:00<00:00,  8.94it/s]\n"
          ]
        },
        {
          "output_type": "stream",
          "name": "stdout",
          "text": [
            "Eval -    loss: 2.98     char_acc: 0.12 captcha_acc: 0.00\n",
            "[0] True: 8cccc | Pred: 6nnnn\n",
            "[1] True: 8d4wm | Pred: 6nnnn\n",
            "[2] True: b55d6 | Pred: 6nnnn\n",
            "[3] True: 8gecm | Pred: 6nnnn\n",
            "[4] True: 3ny45 | Pred: 6nnnn\n",
            "\n",
            "Epoch 79\n",
            "Train -   loss: 2.89\n"
          ]
        },
        {
          "output_type": "stream",
          "name": "stderr",
          "text": [
            "100%|██████████| 5/5 [00:00<00:00, 10.35it/s]\n",
            "100%|██████████| 5/5 [00:00<00:00,  9.05it/s]\n"
          ]
        },
        {
          "output_type": "stream",
          "name": "stdout",
          "text": [
            "Eval -    loss: 2.98     char_acc: 0.12 captcha_acc: 0.00\n",
            "[0] True: 8cccc | Pred: 6nnnn\n",
            "[1] True: 8d4wm | Pred: 6nnnn\n",
            "[2] True: b55d6 | Pred: 6nnnn\n",
            "[3] True: 8gecm | Pred: 6nnnn\n",
            "[4] True: 3ny45 | Pred: 6nnnn\n",
            "\n",
            "Epoch 80\n",
            "Train -   loss: 2.89\n"
          ]
        },
        {
          "output_type": "stream",
          "name": "stderr",
          "text": [
            "100%|██████████| 5/5 [00:00<00:00,  9.49it/s]\n",
            "100%|██████████| 5/5 [00:00<00:00,  8.60it/s]\n"
          ]
        },
        {
          "output_type": "stream",
          "name": "stdout",
          "text": [
            "Eval -    loss: 2.98     char_acc: 0.12 captcha_acc: 0.00\n",
            "[0] True: 8cccc | Pred: 6nnnn\n",
            "[1] True: 8d4wm | Pred: 6nnnn\n",
            "[2] True: b55d6 | Pred: 6nnnn\n",
            "[3] True: 8gecm | Pred: 6nnnn\n",
            "[4] True: 3ny45 | Pred: 6nnnn\n",
            "\n",
            "Epoch 81\n",
            "Train -   loss: 2.89\n"
          ]
        },
        {
          "output_type": "stream",
          "name": "stderr",
          "text": [
            "100%|██████████| 5/5 [00:00<00:00, 10.70it/s]\n",
            "100%|██████████| 5/5 [00:00<00:00,  9.08it/s]\n"
          ]
        },
        {
          "output_type": "stream",
          "name": "stdout",
          "text": [
            "Eval -    loss: 2.98     char_acc: 0.12 captcha_acc: 0.00\n",
            "[0] True: 8cccc | Pred: 6nnnn\n",
            "[1] True: 8d4wm | Pred: 6nnnn\n",
            "[2] True: b55d6 | Pred: 6nnnn\n",
            "[3] True: 8gecm | Pred: 6nnnn\n",
            "[4] True: 3ny45 | Pred: 6nnnn\n",
            "\n",
            "Epoch 82\n",
            "Train -   loss: 2.89\n"
          ]
        },
        {
          "output_type": "stream",
          "name": "stderr",
          "text": [
            "100%|██████████| 5/5 [00:00<00:00, 10.55it/s]\n",
            "100%|██████████| 5/5 [00:00<00:00,  8.91it/s]\n"
          ]
        },
        {
          "output_type": "stream",
          "name": "stdout",
          "text": [
            "Eval -    loss: 2.97     char_acc: 0.12 captcha_acc: 0.00\n",
            "[0] True: 8cccc | Pred: 6nnnn\n",
            "[1] True: 8d4wm | Pred: 6nnnn\n",
            "[2] True: b55d6 | Pred: 6nnnn\n",
            "[3] True: 8gecm | Pred: 6nnnn\n",
            "[4] True: 3ny45 | Pred: 6nnnn\n",
            "\n",
            "Epoch 83\n",
            "Train -   loss: 2.88\n"
          ]
        },
        {
          "output_type": "stream",
          "name": "stderr",
          "text": [
            "100%|██████████| 5/5 [00:00<00:00, 10.56it/s]\n",
            "100%|██████████| 5/5 [00:00<00:00,  8.99it/s]\n"
          ]
        },
        {
          "output_type": "stream",
          "name": "stdout",
          "text": [
            "Eval -    loss: 2.97     char_acc: 0.12 captcha_acc: 0.00\n",
            "[0] True: 8cccc | Pred: 6nnnn\n",
            "[1] True: 8d4wm | Pred: 6nnnn\n",
            "[2] True: b55d6 | Pred: 6nnnn\n",
            "[3] True: 8gecm | Pred: 6nnnn\n",
            "[4] True: 3ny45 | Pred: 6nnnn\n",
            "\n",
            "Epoch 84\n",
            "Train -   loss: 2.88\n"
          ]
        },
        {
          "output_type": "stream",
          "name": "stderr",
          "text": [
            "100%|██████████| 5/5 [00:00<00:00, 10.49it/s]\n",
            "100%|██████████| 5/5 [00:00<00:00,  9.13it/s]\n"
          ]
        },
        {
          "output_type": "stream",
          "name": "stdout",
          "text": [
            "Eval -    loss: 2.97     char_acc: 0.12 captcha_acc: 0.00\n",
            "[0] True: 8cccc | Pred: 6nnnn\n",
            "[1] True: 8d4wm | Pred: 6nnnn\n",
            "[2] True: b55d6 | Pred: 6nnnn\n",
            "[3] True: 8gecm | Pred: 6nnnn\n",
            "[4] True: 3ny45 | Pred: 6nnnn\n",
            "\n",
            "Epoch 85\n",
            "Train -   loss: 2.88\n"
          ]
        },
        {
          "output_type": "stream",
          "name": "stderr",
          "text": [
            "100%|██████████| 5/5 [00:00<00:00,  9.51it/s]\n",
            "100%|██████████| 5/5 [00:00<00:00,  8.73it/s]\n"
          ]
        },
        {
          "output_type": "stream",
          "name": "stdout",
          "text": [
            "Eval -    loss: 2.97     char_acc: 0.12 captcha_acc: 0.00\n",
            "[0] True: 8cccc | Pred: 6nnnn\n",
            "[1] True: 8d4wm | Pred: 6nnnn\n",
            "[2] True: b55d6 | Pred: 6nnnn\n",
            "[3] True: 8gecm | Pred: 6nnnn\n",
            "[4] True: 3ny45 | Pred: 6nnnn\n",
            "\n",
            "Epoch 86\n",
            "Train -   loss: 2.88\n"
          ]
        },
        {
          "output_type": "stream",
          "name": "stderr",
          "text": [
            "100%|██████████| 5/5 [00:00<00:00, 10.42it/s]\n",
            "100%|██████████| 5/5 [00:00<00:00,  8.06it/s]\n"
          ]
        },
        {
          "output_type": "stream",
          "name": "stdout",
          "text": [
            "Eval -    loss: 2.97     char_acc: 0.12 captcha_acc: 0.00\n",
            "[0] True: 8cccc | Pred: 6nnnn\n",
            "[1] True: 8d4wm | Pred: 6nnnn\n",
            "[2] True: b55d6 | Pred: 6nnnn\n",
            "[3] True: 8gecm | Pred: 6nnnn\n",
            "[4] True: 3ny45 | Pred: 6nnnn\n",
            "\n",
            "Epoch 87\n",
            "Train -   loss: 2.88\n"
          ]
        },
        {
          "output_type": "stream",
          "name": "stderr",
          "text": [
            "100%|██████████| 5/5 [00:00<00:00, 10.35it/s]\n",
            "100%|██████████| 5/5 [00:00<00:00,  8.92it/s]\n"
          ]
        },
        {
          "output_type": "stream",
          "name": "stdout",
          "text": [
            "Eval -    loss: 2.97     char_acc: 0.12 captcha_acc: 0.00\n",
            "[0] True: 8cccc | Pred: 6nnnn\n",
            "[1] True: 8d4wm | Pred: 6nnnn\n",
            "[2] True: b55d6 | Pred: 6nnnn\n",
            "[3] True: 8gecm | Pred: 6nnnn\n",
            "[4] True: 3ny45 | Pred: 6nnnn\n",
            "\n",
            "Epoch 88\n",
            "Train -   loss: 2.87\n"
          ]
        },
        {
          "output_type": "stream",
          "name": "stderr",
          "text": [
            "100%|██████████| 5/5 [00:00<00:00, 10.41it/s]\n",
            "100%|██████████| 5/5 [00:00<00:00,  8.74it/s]\n"
          ]
        },
        {
          "output_type": "stream",
          "name": "stdout",
          "text": [
            "Eval -    loss: 2.97     char_acc: 0.12 captcha_acc: 0.00\n",
            "[0] True: 8cccc | Pred: 6nnnn\n",
            "[1] True: 8d4wm | Pred: 6nnnn\n",
            "[2] True: b55d6 | Pred: 6nnnn\n",
            "[3] True: 8gecm | Pred: 6nnnn\n",
            "[4] True: 3ny45 | Pred: 6nnnn\n",
            "\n",
            "Epoch 89\n",
            "Train -   loss: 2.87\n"
          ]
        },
        {
          "output_type": "stream",
          "name": "stderr",
          "text": [
            "100%|██████████| 5/5 [00:00<00:00,  9.97it/s]\n",
            "100%|██████████| 5/5 [00:00<00:00,  8.52it/s]\n"
          ]
        },
        {
          "output_type": "stream",
          "name": "stdout",
          "text": [
            "Eval -    loss: 2.97     char_acc: 0.12 captcha_acc: 0.00\n",
            "[0] True: 8cccc | Pred: 6nnnn\n",
            "[1] True: 8d4wm | Pred: 6nnnn\n",
            "[2] True: b55d6 | Pred: 6nnnn\n",
            "[3] True: 8gecm | Pred: 6nnnn\n",
            "[4] True: 3ny45 | Pred: 6nnnn\n",
            "\n",
            "Epoch 90\n",
            "Train -   loss: 2.87\n"
          ]
        },
        {
          "output_type": "stream",
          "name": "stderr",
          "text": [
            "100%|██████████| 5/5 [00:00<00:00,  9.12it/s]\n",
            "100%|██████████| 5/5 [00:00<00:00,  8.30it/s]\n"
          ]
        },
        {
          "output_type": "stream",
          "name": "stdout",
          "text": [
            "Eval -    loss: 2.96     char_acc: 0.12 captcha_acc: 0.00\n",
            "[0] True: 8cccc | Pred: 6nnnn\n",
            "[1] True: 8d4wm | Pred: 6nnnn\n",
            "[2] True: b55d6 | Pred: 6nnnn\n",
            "[3] True: 8gecm | Pred: 6nnnn\n",
            "[4] True: 3ny45 | Pred: 6nnnn\n",
            "\n",
            "Epoch 91\n",
            "Train -   loss: 2.87\n"
          ]
        },
        {
          "output_type": "stream",
          "name": "stderr",
          "text": [
            "100%|██████████| 5/5 [00:00<00:00, 10.37it/s]\n",
            "100%|██████████| 5/5 [00:00<00:00,  8.94it/s]\n"
          ]
        },
        {
          "output_type": "stream",
          "name": "stdout",
          "text": [
            "Eval -    loss: 2.96     char_acc: 0.12 captcha_acc: 0.00\n",
            "[0] True: 8cccc | Pred: 6nnnn\n",
            "[1] True: 8d4wm | Pred: 6nnnn\n",
            "[2] True: b55d6 | Pred: 6nnnn\n",
            "[3] True: 8gecm | Pred: 6nnnn\n",
            "[4] True: 3ny45 | Pred: 6nnnn\n",
            "\n",
            "Epoch 92\n",
            "Train -   loss: 2.87\n"
          ]
        },
        {
          "output_type": "stream",
          "name": "stderr",
          "text": [
            "100%|██████████| 5/5 [00:00<00:00, 10.43it/s]\n",
            "100%|██████████| 5/5 [00:00<00:00,  8.87it/s]\n"
          ]
        },
        {
          "output_type": "stream",
          "name": "stdout",
          "text": [
            "Eval -    loss: 2.96     char_acc: 0.12 captcha_acc: 0.00\n",
            "[0] True: 8cccc | Pred: 6nnnn\n",
            "[1] True: 8d4wm | Pred: 6nnnn\n",
            "[2] True: b55d6 | Pred: 6nnnn\n",
            "[3] True: 8gecm | Pred: 6nnnn\n",
            "[4] True: 3ny45 | Pred: 6nnnn\n",
            "\n",
            "Epoch 93\n",
            "Train -   loss: 2.87\n"
          ]
        },
        {
          "output_type": "stream",
          "name": "stderr",
          "text": [
            "100%|██████████| 5/5 [00:00<00:00, 10.44it/s]\n",
            "100%|██████████| 5/5 [00:00<00:00,  8.77it/s]\n"
          ]
        },
        {
          "output_type": "stream",
          "name": "stdout",
          "text": [
            "Eval -    loss: 2.96     char_acc: 0.12 captcha_acc: 0.00\n",
            "[0] True: 8cccc | Pred: 6nnnn\n",
            "[1] True: 8d4wm | Pred: 6nnnn\n",
            "[2] True: b55d6 | Pred: 6nnnn\n",
            "[3] True: 8gecm | Pred: 6nnnn\n",
            "[4] True: 3ny45 | Pred: 6nnnn\n",
            "\n",
            "Epoch 94\n",
            "Train -   loss: 2.86\n"
          ]
        },
        {
          "output_type": "stream",
          "name": "stderr",
          "text": [
            "100%|██████████| 5/5 [00:00<00:00, 10.38it/s]\n",
            "100%|██████████| 5/5 [00:00<00:00,  8.87it/s]\n"
          ]
        },
        {
          "output_type": "stream",
          "name": "stdout",
          "text": [
            "Eval -    loss: 2.96     char_acc: 0.12 captcha_acc: 0.00\n",
            "[0] True: 8cccc | Pred: 6nnnn\n",
            "[1] True: 8d4wm | Pred: 6nnnn\n",
            "[2] True: b55d6 | Pred: 6nnnn\n",
            "[3] True: 8gecm | Pred: 6nnnn\n",
            "[4] True: 3ny45 | Pred: 6nnnn\n",
            "\n",
            "Epoch 95\n",
            "Train -   loss: 2.86\n"
          ]
        },
        {
          "output_type": "stream",
          "name": "stderr",
          "text": [
            "100%|██████████| 5/5 [00:00<00:00,  9.15it/s]\n",
            "100%|██████████| 5/5 [00:00<00:00,  8.72it/s]\n"
          ]
        },
        {
          "output_type": "stream",
          "name": "stdout",
          "text": [
            "Eval -    loss: 2.95     char_acc: 0.12 captcha_acc: 0.00\n",
            "[0] True: 8cccc | Pred: 6nnnn\n",
            "[1] True: 8d4wm | Pred: 6nnnn\n",
            "[2] True: b55d6 | Pred: 6nnnn\n",
            "[3] True: 8gecm | Pred: 6nnnn\n",
            "[4] True: 3ny45 | Pred: 6nnnn\n",
            "\n",
            "Epoch 96\n",
            "Train -   loss: 2.86\n"
          ]
        },
        {
          "output_type": "stream",
          "name": "stderr",
          "text": [
            "100%|██████████| 5/5 [00:00<00:00, 10.53it/s]\n",
            "100%|██████████| 5/5 [00:00<00:00,  9.05it/s]\n"
          ]
        },
        {
          "output_type": "stream",
          "name": "stdout",
          "text": [
            "Eval -    loss: 2.95     char_acc: 0.12 captcha_acc: 0.00\n",
            "[0] True: 8cccc | Pred: 6nnnn\n",
            "[1] True: 8d4wm | Pred: 6nnnn\n",
            "[2] True: b55d6 | Pred: 6nnnn\n",
            "[3] True: 8gecm | Pred: 6nnnn\n",
            "[4] True: 3ny45 | Pred: 6nnnn\n",
            "\n",
            "Epoch 97\n",
            "Train -   loss: 2.86\n"
          ]
        },
        {
          "output_type": "stream",
          "name": "stderr",
          "text": [
            "100%|██████████| 5/5 [00:00<00:00, 10.50it/s]\n",
            "100%|██████████| 5/5 [00:00<00:00,  9.03it/s]\n"
          ]
        },
        {
          "output_type": "stream",
          "name": "stdout",
          "text": [
            "Eval -    loss: 2.95     char_acc: 0.12 captcha_acc: 0.00\n",
            "[0] True: 8cccc | Pred: 6nnnn\n",
            "[1] True: 8d4wm | Pred: 6nnnn\n",
            "[2] True: b55d6 | Pred: 6nnnn\n",
            "[3] True: 8gecm | Pred: 6nnnn\n",
            "[4] True: 3ny45 | Pred: 6nnnn\n",
            "\n",
            "Epoch 98\n",
            "Train -   loss: 2.86\n"
          ]
        },
        {
          "output_type": "stream",
          "name": "stderr",
          "text": [
            "100%|██████████| 5/5 [00:00<00:00, 10.37it/s]\n",
            "100%|██████████| 5/5 [00:00<00:00,  8.85it/s]\n"
          ]
        },
        {
          "output_type": "stream",
          "name": "stdout",
          "text": [
            "Eval -    loss: 2.95     char_acc: 0.12 captcha_acc: 0.00\n",
            "[0] True: 8cccc | Pred: 6nnnn\n",
            "[1] True: 8d4wm | Pred: 6nnnn\n",
            "[2] True: b55d6 | Pred: 6nnnn\n",
            "[3] True: 8gecm | Pred: 6nnnn\n",
            "[4] True: 3ny45 | Pred: 6nnnn\n",
            "\n",
            "Epoch 99\n",
            "Train -   loss: 2.85\n"
          ]
        },
        {
          "output_type": "stream",
          "name": "stderr",
          "text": [
            "100%|██████████| 5/5 [00:00<00:00, 10.45it/s]\n",
            "100%|██████████| 5/5 [00:00<00:00,  9.10it/s]\n"
          ]
        },
        {
          "output_type": "stream",
          "name": "stdout",
          "text": [
            "Eval -    loss: 2.95     char_acc: 0.12 captcha_acc: 0.00\n",
            "[0] True: 8cccc | Pred: 6nnnn\n",
            "[1] True: 8d4wm | Pred: 6nnnn\n",
            "[2] True: b55d6 | Pred: 6nnnn\n",
            "[3] True: 8gecm | Pred: 6nnnn\n",
            "[4] True: 3ny45 | Pred: 6nnnn\n",
            "\n",
            "Epoch 100\n",
            "Train -   loss: 2.85\n"
          ]
        },
        {
          "output_type": "stream",
          "name": "stderr",
          "text": [
            "100%|██████████| 5/5 [00:00<00:00,  9.38it/s]\n",
            "100%|██████████| 5/5 [00:00<00:00,  8.77it/s]\n"
          ]
        },
        {
          "output_type": "stream",
          "name": "stdout",
          "text": [
            "Eval -    loss: 2.95     char_acc: 0.12 captcha_acc: 0.00\n",
            "[0] True: 8cccc | Pred: 6nnnn\n",
            "[1] True: 8d4wm | Pred: 6nnnn\n",
            "[2] True: b55d6 | Pred: 6nnnn\n",
            "[3] True: 8gecm | Pred: 6nnnn\n",
            "[4] True: 3ny45 | Pred: 6nnnn\n"
          ]
        }
      ],
      "source": [
        "# captcha_dir = \"captcha_data/samples\"\n",
        "captcha_dir = \"drive/MyDrive/captcha_data/samples\"\n",
        "batch_size = 16\n",
        "num_workers = 0\n",
        "device = 'cuda' if torch.cuda.is_available() else 'cpu'\n",
        "\n",
        "dataset = CaptchaDataset(captcha_dir)\n",
        "train_size = int(0.8 * len(dataset))\n",
        "val_size = len(dataset) - train_size\n",
        "train_dataset, val_dataset = torch.utils.data.random_split(dataset, [train_size, val_size])\n",
        "\n",
        "train_loader = DataLoader(train_dataset, batch_size=batch_size, shuffle=True, num_workers=num_workers)\n",
        "val_loader = DataLoader(val_dataset, batch_size=batch_size, shuffle=False, num_workers=num_workers)\n",
        "\n",
        "model = DenseNet(\n",
        "    growth_rate=32,\n",
        "    block_config=(6, 6, 24, 16),\n",
        "    num_init_features=64,\n",
        "    bn_size=4,\n",
        "    drop_rate=0.2,\n",
        "    num_classes=36,\n",
        "    num_characters=5\n",
        ")\n",
        "\n",
        "config = {\n",
        "    'train_loader': train_loader,\n",
        "    'val_loader': val_loader,\n",
        "    'optimizer': torch.optim.SGD(model.parameters(), lr=0.001),\n",
        "    'loss': nn.CrossEntropyLoss(),\n",
        "    'clip': 1.0,\n",
        "    'device': device,\n",
        "    'epochs': 100,\n",
        "    'log_every': 20,\n",
        "}\n",
        "\n",
        "train_losses, eval_losses, char_accuracies, captcha_accuracies = train_model(model, train_loader, val_loader, config)"
      ]
    },
    {
      "cell_type": "code",
      "execution_count": 25,
      "id": "63085329",
      "metadata": {
        "colab": {
          "base_uri": "https://localhost:8080/",
          "height": 507
        },
        "id": "63085329",
        "outputId": "bcf721eb-7a0b-49fa-f38c-89c2c9a6ad00"
      },
      "outputs": [
        {
          "output_type": "display_data",
          "data": {
            "text/plain": [
              "<Figure size 1200x500 with 2 Axes>"
            ],
            "image/png": "[encoded data removed]"
          },
          "metadata": {}
        }
      ],
      "source": [
        "train_losses = [t.item() if torch.is_tensor(t) else t for t in train_losses]\n",
        "eval_losses = [t.item() if torch.is_tensor(t) else t for t in eval_losses]\n",
        "char_accuracies = [t.item() if torch.is_tensor(t) else t for t in char_accuracies]\n",
        "captcha_accuracies = [t.item() if torch.is_tensor(t) else t for t in captcha_accuracies]\n",
        "\n",
        "epochs_range = list(range(1, len(train_losses) + 1))\n",
        "\n",
        "plt.figure(figsize=(12, 5))\n",
        "\n",
        "plt.subplot(1, 2, 1)\n",
        "plt.plot(epochs_range, train_losses, label='Train Loss')\n",
        "plt.plot(epochs_range, eval_losses, label='Eval Loss')\n",
        "plt.title(\"Loss Over Epochs\")\n",
        "plt.xlabel(\"Epoch\")\n",
        "plt.ylabel(\"Loss\")\n",
        "plt.legend()\n",
        "\n",
        "plt.subplot(1, 2, 2)\n",
        "plt.plot(epochs_range, char_accuracies, label='Character Accuracy')\n",
        "plt.plot(epochs_range, captcha_accuracies, label='Captcha Accuracy')\n",
        "plt.title(\"Accuracy Over Epochs\")\n",
        "plt.xlabel(\"Epoch\")\n",
        "plt.ylabel(\"Accuracy\")\n",
        "plt.legend()\n",
        "\n",
        "plt.tight_layout()\n",
        "plt.show()"
      ]
    },
    {
      "cell_type": "code",
      "execution_count": null,
      "id": "f8b0d98c",
      "metadata": {
        "id": "f8b0d98c"
      },
      "outputs": [],
      "source": []
    }
  ],
  "metadata": {
    "kernelspec": {
      "display_name": "Python 3",
      "name": "python3"
    },
    "language_info": {
      "codemirror_mode": {
        "name": "ipython",
        "version": 3
      },
      "file_extension": ".py",
      "mimetype": "text/x-python",
      "name": "python",
      "nbconvert_exporter": "python",
      "pygments_lexer": "ipython3",
      "version": "3.12.8"
    },
    "colab": {
      "provenance": [],
      "gpuType": "T4"
    },
    "accelerator": "GPU"
  },
  "nbformat": 4,
  "nbformat_minor": 5
}